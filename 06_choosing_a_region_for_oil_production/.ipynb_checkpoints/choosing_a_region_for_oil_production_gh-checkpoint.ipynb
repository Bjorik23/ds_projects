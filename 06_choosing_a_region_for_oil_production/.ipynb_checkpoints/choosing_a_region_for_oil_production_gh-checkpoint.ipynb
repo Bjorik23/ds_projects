{
 "cells": [
  {
   "cell_type": "markdown",
   "metadata": {},
   "source": [
    "# Выбор локации для скважины"
   ]
  },
  {
   "cell_type": "markdown",
   "metadata": {},
   "source": [
    "Мы работаем в добывающей компании «ГлавРосГосНефть». Нужно решить, где бурить новую скважину.\n",
    "Шаги для выбора локации обычно такие:\n",
    "- В избранном регионе собирают характеристики для скважин: качество нефти и объём её запасов;\n",
    "- Строят модель для предсказания объёма запасов в новых скважинах;\n",
    "- Выбирают скважины с самыми высокими оценками значений;\n",
    "- Определяют регион с максимальной суммарной прибылью отобранных скважин.\n",
    "Нам предоставлены пробы нефти в трёх регионах. Характеристики для каждой скважины в регионе уже известны. \n",
    "\n",
    "Необходимо построить модель для определения региона, где добыча принесёт наибольшую прибыль и произвести анализ возможной прибыли и рисков техникой Bootstrap."
   ]
  },
  {
   "cell_type": "markdown",
   "metadata": {},
   "source": [
    "Условия задачи:\n",
    "- Для обучения модели подходит только линейная регрессия (остальные — недостаточно предсказуемые).\n",
    "- При разведке региона исследуют 500 точек, из которых с помощью машинного обучения выбирают 200 лучших для разработки.\n",
    "- Бюджет на разработку скважин в регионе — 10 млрд рублей.\n",
    "- При нынешних ценах один баррель сырья приносит 450 рублей дохода. Доход с каждой единицы продукта составляет 450 тыс. рублей, поскольку объём указан в тысячах баррелей.\n",
    "- После оценки рисков нужно оставить лишь те регионы, в которых вероятность убытков меньше 2.5%. Среди них выбирают регион с наибольшей средней прибылью."
   ]
  },
  {
   "cell_type": "markdown",
   "metadata": {},
   "source": [
    "## Загрузка и подготовка данных. Пояснение порядка действий."
   ]
  },
  {
   "cell_type": "code",
   "execution_count": 1,
   "metadata": {},
   "outputs": [
    {
     "name": "stdout",
     "output_type": "stream",
     "text": [
      "Requirement already satisfied: pandas-profiling in c:\\users\\user\\anaconda3\\lib\\site-packages (3.4.0)\n",
      "Requirement already satisfied: missingno<0.6,>=0.4.2 in c:\\users\\user\\anaconda3\\lib\\site-packages (from pandas-profiling) (0.5.1)\n",
      "Requirement already satisfied: PyYAML<6.1,>=5.0.0 in c:\\users\\user\\anaconda3\\lib\\site-packages (from pandas-profiling) (6.0)\n",
      "Requirement already satisfied: phik<0.13,>=0.11.1 in c:\\users\\user\\anaconda3\\lib\\site-packages (from pandas-profiling) (0.12.2)\n",
      "Requirement already satisfied: numpy<1.24,>=1.16.0 in c:\\users\\user\\anaconda3\\lib\\site-packages (from pandas-profiling) (1.21.5)\n",
      "Requirement already satisfied: seaborn<0.13,>=0.10.1 in c:\\users\\user\\anaconda3\\lib\\site-packages (from pandas-profiling) (0.11.2)\n",
      "Requirement already satisfied: pydantic<1.11,>=1.8.1 in c:\\users\\user\\anaconda3\\lib\\site-packages (from pandas-profiling) (1.10.2)\n",
      "Requirement already satisfied: requests<2.29,>=2.24.0 in c:\\users\\user\\anaconda3\\lib\\site-packages (from pandas-profiling) (2.27.1)\n",
      "Requirement already satisfied: matplotlib<3.6,>=3.2 in c:\\users\\user\\anaconda3\\lib\\site-packages (from pandas-profiling) (3.5.1)\n",
      "Requirement already satisfied: jinja2<3.2,>=2.11.1 in c:\\users\\user\\anaconda3\\lib\\site-packages (from pandas-profiling) (2.11.3)\n",
      "Requirement already satisfied: htmlmin==0.1.12 in c:\\users\\user\\anaconda3\\lib\\site-packages (from pandas-profiling) (0.1.12)\n",
      "Requirement already satisfied: statsmodels<0.14,>=0.13.2 in c:\\users\\user\\anaconda3\\lib\\site-packages (from pandas-profiling) (0.13.2)\n",
      "Requirement already satisfied: multimethod<1.10,>=1.4 in c:\\users\\user\\anaconda3\\lib\\site-packages (from pandas-profiling) (1.9)\n",
      "Requirement already satisfied: visions[type_image_path]==0.7.5 in c:\\users\\user\\anaconda3\\lib\\site-packages (from pandas-profiling) (0.7.5)\n",
      "Requirement already satisfied: pandas!=1.4.0,<1.6,>1.1 in c:\\users\\user\\anaconda3\\lib\\site-packages (from pandas-profiling) (1.4.2)\n",
      "Requirement already satisfied: scipy<1.10,>=1.4.1 in c:\\users\\user\\anaconda3\\lib\\site-packages (from pandas-profiling) (1.7.3)\n",
      "Requirement already satisfied: tqdm<4.65,>=4.48.2 in c:\\users\\user\\anaconda3\\lib\\site-packages (from pandas-profiling) (4.64.0)\n",
      "Requirement already satisfied: tangled-up-in-unicode>=0.0.4 in c:\\users\\user\\anaconda3\\lib\\site-packages (from visions[type_image_path]==0.7.5->pandas-profiling) (0.2.0)\n",
      "Requirement already satisfied: networkx>=2.4 in c:\\users\\user\\anaconda3\\lib\\site-packages (from visions[type_image_path]==0.7.5->pandas-profiling) (2.7.1)\n",
      "Requirement already satisfied: attrs>=19.3.0 in c:\\users\\user\\anaconda3\\lib\\site-packages (from visions[type_image_path]==0.7.5->pandas-profiling) (21.4.0)\n",
      "Requirement already satisfied: Pillow in c:\\users\\user\\anaconda3\\lib\\site-packages (from visions[type_image_path]==0.7.5->pandas-profiling) (9.0.1)\n",
      "Requirement already satisfied: imagehash in c:\\users\\user\\anaconda3\\lib\\site-packages (from visions[type_image_path]==0.7.5->pandas-profiling) (4.3.1)\n",
      "Requirement already satisfied: MarkupSafe>=0.23 in c:\\users\\user\\anaconda3\\lib\\site-packages (from jinja2<3.2,>=2.11.1->pandas-profiling) (2.0.1)\n",
      "Requirement already satisfied: pyparsing>=2.2.1 in c:\\users\\user\\anaconda3\\lib\\site-packages (from matplotlib<3.6,>=3.2->pandas-profiling) (3.0.4)\n",
      "Requirement already satisfied: cycler>=0.10 in c:\\users\\user\\anaconda3\\lib\\site-packages (from matplotlib<3.6,>=3.2->pandas-profiling) (0.11.0)\n",
      "Requirement already satisfied: fonttools>=4.22.0 in c:\\users\\user\\anaconda3\\lib\\site-packages (from matplotlib<3.6,>=3.2->pandas-profiling) (4.25.0)\n",
      "Requirement already satisfied: kiwisolver>=1.0.1 in c:\\users\\user\\anaconda3\\lib\\site-packages (from matplotlib<3.6,>=3.2->pandas-profiling) (1.3.2)\n",
      "Requirement already satisfied: packaging>=20.0 in c:\\users\\user\\anaconda3\\lib\\site-packages (from matplotlib<3.6,>=3.2->pandas-profiling) (21.3)\n",
      "Requirement already satisfied: python-dateutil>=2.7 in c:\\users\\user\\anaconda3\\lib\\site-packages (from matplotlib<3.6,>=3.2->pandas-profiling) (2.8.2)\n",
      "Requirement already satisfied: pytz>=2020.1 in c:\\users\\user\\anaconda3\\lib\\site-packages (from pandas!=1.4.0,<1.6,>1.1->pandas-profiling) (2021.3)\n",
      "Requirement already satisfied: joblib>=0.14.1 in c:\\users\\user\\anaconda3\\lib\\site-packages (from phik<0.13,>=0.11.1->pandas-profiling) (1.1.0)\n",
      "Requirement already satisfied: typing-extensions>=4.1.0 in c:\\users\\user\\anaconda3\\lib\\site-packages (from pydantic<1.11,>=1.8.1->pandas-profiling) (4.1.1)\n",
      "Requirement already satisfied: six>=1.5 in c:\\users\\user\\anaconda3\\lib\\site-packages (from python-dateutil>=2.7->matplotlib<3.6,>=3.2->pandas-profiling) (1.16.0)\n",
      "Requirement already satisfied: certifi>=2017.4.17 in c:\\users\\user\\anaconda3\\lib\\site-packages (from requests<2.29,>=2.24.0->pandas-profiling) (2021.10.8)\n",
      "Requirement already satisfied: idna<4,>=2.5 in c:\\users\\user\\anaconda3\\lib\\site-packages (from requests<2.29,>=2.24.0->pandas-profiling) (3.3)\n",
      "Requirement already satisfied: urllib3<1.27,>=1.21.1 in c:\\users\\user\\anaconda3\\lib\\site-packages (from requests<2.29,>=2.24.0->pandas-profiling) (1.26.9)\n",
      "Requirement already satisfied: charset-normalizer~=2.0.0 in c:\\users\\user\\anaconda3\\lib\\site-packages (from requests<2.29,>=2.24.0->pandas-profiling) (2.0.4)\n",
      "Requirement already satisfied: patsy>=0.5.2 in c:\\users\\user\\anaconda3\\lib\\site-packages (from statsmodels<0.14,>=0.13.2->pandas-profiling) (0.5.2)\n",
      "Requirement already satisfied: colorama in c:\\users\\user\\anaconda3\\lib\\site-packages (from tqdm<4.65,>=4.48.2->pandas-profiling) (0.4.4)\n",
      "Requirement already satisfied: PyWavelets in c:\\users\\user\\anaconda3\\lib\\site-packages (from imagehash->visions[type_image_path]==0.7.5->pandas-profiling) (1.3.0)\n"
     ]
    }
   ],
   "source": [
    "# установим pandas-profiling\n",
    "!pip install pandas-profiling"
   ]
  },
  {
   "cell_type": "code",
   "execution_count": 2,
   "metadata": {},
   "outputs": [],
   "source": [
    "# импортируем библиотеку pandas\n",
    "import pandas as pd\n",
    "# импортируем библиотеку numpy\n",
    "import numpy as np\n",
    "# импортируем библиотеки math\n",
    "import math\n",
    "# испортируем библиотеку sklearn\n",
    "import sklearn\n",
    "# импортируем функцию из бибилиотеки sklearn\n",
    "from sklearn.model_selection import train_test_split\n",
    "\n",
    "# импортируем метод линейной регрессии\n",
    "from sklearn.linear_model import LinearRegression\n",
    "# импортируем коэффициент детерминации\n",
    "from sklearn.metrics import r2_score\n",
    "# импортируем среднюю абсолютную ошибку\n",
    "from sklearn.metrics import mean_absolute_error\n",
    "# импортируем среднюю квадратичную ошибку\n",
    "from sklearn.metrics import mean_squared_error\n",
    "\n",
    "# импортируем библиотеку plotly, с помощью которой будем строить графики\n",
    "import plotly.graph_objects as go\n",
    "import plotly.express as px\n",
    "\n",
    "# добавим случайности нашей функции, чтобы каждый раз брался разный сэмпл\n",
    "from numpy.random import RandomState\n",
    "\n",
    "# импортируем ProfileReport\n",
    "from pandas_profiling import ProfileReport"
   ]
  },
  {
   "cell_type": "code",
   "execution_count": 3,
   "metadata": {},
   "outputs": [],
   "source": [
    "state = RandomState(12345)"
   ]
  },
  {
   "cell_type": "code",
   "execution_count": 4,
   "metadata": {},
   "outputs": [],
   "source": [
    "# считываем csv-файл датасета в перемнную df_region\n",
    "try:\n",
    "    df_region_1 = pd.read_csv('geo_data_0.csv')\n",
    "except:\n",
    "    df_region_1 = pd.read_csv('https://code.s3.yandex.net/datasets/geo_data_0.csv')\n",
    "\n",
    "try:\n",
    "    df_region_2 = pd.read_csv('geo_data_1.csv')\n",
    "except:\n",
    "    df_region_2 = pd.read_csv('https://code.s3.yandex.net/datasets/geo_data_1.csv')\n",
    "    \n",
    "try:\n",
    "    df_region_3 = pd.read_csv('geo_data_2.csv')\n",
    "except:\n",
    "    df_region_3 = pd.read_csv('https://code.s3.yandex.net/datasets/geo_data_2.csv')"
   ]
  },
  {
   "cell_type": "code",
   "execution_count": 5,
   "metadata": {},
   "outputs": [
    {
     "data": {
      "text/html": [
       "<div>\n",
       "<style scoped>\n",
       "    .dataframe tbody tr th:only-of-type {\n",
       "        vertical-align: middle;\n",
       "    }\n",
       "\n",
       "    .dataframe tbody tr th {\n",
       "        vertical-align: top;\n",
       "    }\n",
       "\n",
       "    .dataframe thead th {\n",
       "        text-align: right;\n",
       "    }\n",
       "</style>\n",
       "<table border=\"1\" class=\"dataframe\">\n",
       "  <thead>\n",
       "    <tr style=\"text-align: right;\">\n",
       "      <th></th>\n",
       "      <th>id</th>\n",
       "      <th>f0</th>\n",
       "      <th>f1</th>\n",
       "      <th>f2</th>\n",
       "      <th>product</th>\n",
       "    </tr>\n",
       "  </thead>\n",
       "  <tbody>\n",
       "    <tr>\n",
       "      <th>0</th>\n",
       "      <td>txEyH</td>\n",
       "      <td>0.705745</td>\n",
       "      <td>-0.497823</td>\n",
       "      <td>1.221170</td>\n",
       "      <td>105.280062</td>\n",
       "    </tr>\n",
       "    <tr>\n",
       "      <th>1</th>\n",
       "      <td>2acmU</td>\n",
       "      <td>1.334711</td>\n",
       "      <td>-0.340164</td>\n",
       "      <td>4.365080</td>\n",
       "      <td>73.037750</td>\n",
       "    </tr>\n",
       "    <tr>\n",
       "      <th>2</th>\n",
       "      <td>409Wp</td>\n",
       "      <td>1.022732</td>\n",
       "      <td>0.151990</td>\n",
       "      <td>1.419926</td>\n",
       "      <td>85.265647</td>\n",
       "    </tr>\n",
       "    <tr>\n",
       "      <th>3</th>\n",
       "      <td>iJLyR</td>\n",
       "      <td>-0.032172</td>\n",
       "      <td>0.139033</td>\n",
       "      <td>2.978566</td>\n",
       "      <td>168.620776</td>\n",
       "    </tr>\n",
       "    <tr>\n",
       "      <th>4</th>\n",
       "      <td>Xdl7t</td>\n",
       "      <td>1.988431</td>\n",
       "      <td>0.155413</td>\n",
       "      <td>4.751769</td>\n",
       "      <td>154.036647</td>\n",
       "    </tr>\n",
       "  </tbody>\n",
       "</table>\n",
       "</div>"
      ],
      "text/plain": [
       "      id        f0        f1        f2     product\n",
       "0  txEyH  0.705745 -0.497823  1.221170  105.280062\n",
       "1  2acmU  1.334711 -0.340164  4.365080   73.037750\n",
       "2  409Wp  1.022732  0.151990  1.419926   85.265647\n",
       "3  iJLyR -0.032172  0.139033  2.978566  168.620776\n",
       "4  Xdl7t  1.988431  0.155413  4.751769  154.036647"
      ]
     },
     "execution_count": 5,
     "metadata": {},
     "output_type": "execute_result"
    }
   ],
   "source": [
    "# рассмотрим данные датасета 1 региона\n",
    "df_region_1.head()"
   ]
  },
  {
   "cell_type": "code",
   "execution_count": 6,
   "metadata": {},
   "outputs": [
    {
     "name": "stdout",
     "output_type": "stream",
     "text": [
      "<class 'pandas.core.frame.DataFrame'>\n",
      "RangeIndex: 100000 entries, 0 to 99999\n",
      "Data columns (total 5 columns):\n",
      " #   Column   Non-Null Count   Dtype  \n",
      "---  ------   --------------   -----  \n",
      " 0   id       100000 non-null  object \n",
      " 1   f0       100000 non-null  float64\n",
      " 2   f1       100000 non-null  float64\n",
      " 3   f2       100000 non-null  float64\n",
      " 4   product  100000 non-null  float64\n",
      "dtypes: float64(4), object(1)\n",
      "memory usage: 3.8+ MB\n"
     ]
    }
   ],
   "source": [
    "# посмотрим основную информацию по датасету 1 региона\n",
    "df_region_1.info()"
   ]
  },
  {
   "cell_type": "code",
   "execution_count": 7,
   "metadata": {},
   "outputs": [
    {
     "data": {
      "application/vnd.jupyter.widget-view+json": {
       "model_id": "05ae274716da425e9bbca3e4676adcb0",
       "version_major": 2,
       "version_minor": 0
      },
      "text/plain": [
       "Summarize dataset:   0%|          | 0/5 [00:00<?, ?it/s]"
      ]
     },
     "metadata": {},
     "output_type": "display_data"
    },
    {
     "data": {
      "application/vnd.jupyter.widget-view+json": {
       "model_id": "8c7f4fbe2d7b49cd9cd014968ab57519",
       "version_major": 2,
       "version_minor": 0
      },
      "text/plain": [
       "Generate report structure:   0%|          | 0/1 [00:00<?, ?it/s]"
      ]
     },
     "metadata": {},
     "output_type": "display_data"
    },
    {
     "data": {
      "application/vnd.jupyter.widget-view+json": {
       "model_id": "",
       "version_major": 2,
       "version_minor": 0
      },
      "text/plain": [
       "Render widgets:   0%|          | 0/1 [00:00<?, ?it/s]"
      ]
     },
     "metadata": {},
     "output_type": "display_data"
    },
    {
     "data": {
      "application/vnd.jupyter.widget-view+json": {
       "model_id": "958a5bcb974545c98ce2e36b8e83ee21",
       "version_major": 2,
       "version_minor": 0
      },
      "text/plain": [
       "VBox(children=(Tab(children=(Tab(children=(GridBox(children=(VBox(children=(GridspecLayout(children=(HTML(valu…"
      ]
     },
     "metadata": {},
     "output_type": "display_data"
    }
   ],
   "source": [
    "# создадим Profile Report по датасету\n",
    "profile_1 = ProfileReport(df_region_1, title=\"Pandas Profiling Report Region 1\")\n",
    "profile_1.to_widgets()"
   ]
  },
  {
   "cell_type": "code",
   "execution_count": 8,
   "metadata": {},
   "outputs": [
    {
     "data": {
      "text/html": [
       "<div>\n",
       "<style scoped>\n",
       "    .dataframe tbody tr th:only-of-type {\n",
       "        vertical-align: middle;\n",
       "    }\n",
       "\n",
       "    .dataframe tbody tr th {\n",
       "        vertical-align: top;\n",
       "    }\n",
       "\n",
       "    .dataframe thead th {\n",
       "        text-align: right;\n",
       "    }\n",
       "</style>\n",
       "<table border=\"1\" class=\"dataframe\">\n",
       "  <thead>\n",
       "    <tr style=\"text-align: right;\">\n",
       "      <th></th>\n",
       "      <th>id</th>\n",
       "      <th>f0</th>\n",
       "      <th>f1</th>\n",
       "      <th>f2</th>\n",
       "      <th>product</th>\n",
       "    </tr>\n",
       "  </thead>\n",
       "  <tbody>\n",
       "    <tr>\n",
       "      <th>0</th>\n",
       "      <td>kBEdx</td>\n",
       "      <td>-15.001348</td>\n",
       "      <td>-8.276000</td>\n",
       "      <td>-0.005876</td>\n",
       "      <td>3.179103</td>\n",
       "    </tr>\n",
       "    <tr>\n",
       "      <th>1</th>\n",
       "      <td>62mP7</td>\n",
       "      <td>14.272088</td>\n",
       "      <td>-3.475083</td>\n",
       "      <td>0.999183</td>\n",
       "      <td>26.953261</td>\n",
       "    </tr>\n",
       "    <tr>\n",
       "      <th>2</th>\n",
       "      <td>vyE1P</td>\n",
       "      <td>6.263187</td>\n",
       "      <td>-5.948386</td>\n",
       "      <td>5.001160</td>\n",
       "      <td>134.766305</td>\n",
       "    </tr>\n",
       "    <tr>\n",
       "      <th>3</th>\n",
       "      <td>KcrkZ</td>\n",
       "      <td>-13.081196</td>\n",
       "      <td>-11.506057</td>\n",
       "      <td>4.999415</td>\n",
       "      <td>137.945408</td>\n",
       "    </tr>\n",
       "    <tr>\n",
       "      <th>4</th>\n",
       "      <td>AHL4O</td>\n",
       "      <td>12.702195</td>\n",
       "      <td>-8.147433</td>\n",
       "      <td>5.004363</td>\n",
       "      <td>134.766305</td>\n",
       "    </tr>\n",
       "  </tbody>\n",
       "</table>\n",
       "</div>"
      ],
      "text/plain": [
       "      id         f0         f1        f2     product\n",
       "0  kBEdx -15.001348  -8.276000 -0.005876    3.179103\n",
       "1  62mP7  14.272088  -3.475083  0.999183   26.953261\n",
       "2  vyE1P   6.263187  -5.948386  5.001160  134.766305\n",
       "3  KcrkZ -13.081196 -11.506057  4.999415  137.945408\n",
       "4  AHL4O  12.702195  -8.147433  5.004363  134.766305"
      ]
     },
     "execution_count": 8,
     "metadata": {},
     "output_type": "execute_result"
    }
   ],
   "source": [
    "# рассмотрим данные датасета 2 региона\n",
    "df_region_2.head()"
   ]
  },
  {
   "cell_type": "code",
   "execution_count": 9,
   "metadata": {},
   "outputs": [
    {
     "name": "stdout",
     "output_type": "stream",
     "text": [
      "<class 'pandas.core.frame.DataFrame'>\n",
      "RangeIndex: 100000 entries, 0 to 99999\n",
      "Data columns (total 5 columns):\n",
      " #   Column   Non-Null Count   Dtype  \n",
      "---  ------   --------------   -----  \n",
      " 0   id       100000 non-null  object \n",
      " 1   f0       100000 non-null  float64\n",
      " 2   f1       100000 non-null  float64\n",
      " 3   f2       100000 non-null  float64\n",
      " 4   product  100000 non-null  float64\n",
      "dtypes: float64(4), object(1)\n",
      "memory usage: 3.8+ MB\n"
     ]
    }
   ],
   "source": [
    "# посмотрим основную информацию по датасету 2 региона\n",
    "df_region_2.info()"
   ]
  },
  {
   "cell_type": "code",
   "execution_count": 10,
   "metadata": {},
   "outputs": [
    {
     "data": {
      "application/vnd.jupyter.widget-view+json": {
       "model_id": "4040299024564b11b1ac1a5c455485dc",
       "version_major": 2,
       "version_minor": 0
      },
      "text/plain": [
       "Summarize dataset:   0%|          | 0/5 [00:00<?, ?it/s]"
      ]
     },
     "metadata": {},
     "output_type": "display_data"
    },
    {
     "data": {
      "application/vnd.jupyter.widget-view+json": {
       "model_id": "88f60dee8f14491fa7688f8673a9cab4",
       "version_major": 2,
       "version_minor": 0
      },
      "text/plain": [
       "Generate report structure:   0%|          | 0/1 [00:00<?, ?it/s]"
      ]
     },
     "metadata": {},
     "output_type": "display_data"
    },
    {
     "data": {
      "application/vnd.jupyter.widget-view+json": {
       "model_id": "",
       "version_major": 2,
       "version_minor": 0
      },
      "text/plain": [
       "Render widgets:   0%|          | 0/1 [00:00<?, ?it/s]"
      ]
     },
     "metadata": {},
     "output_type": "display_data"
    },
    {
     "data": {
      "application/vnd.jupyter.widget-view+json": {
       "model_id": "cea7ce1936874a99a2a42e9ebe583d57",
       "version_major": 2,
       "version_minor": 0
      },
      "text/plain": [
       "VBox(children=(Tab(children=(Tab(children=(GridBox(children=(VBox(children=(GridspecLayout(children=(HTML(valu…"
      ]
     },
     "metadata": {},
     "output_type": "display_data"
    }
   ],
   "source": [
    "# создадим Profile Report по датасету\n",
    "profile_2 = ProfileReport(df_region_2, title=\"Pandas Profiling Report Region 2\")\n",
    "profile_2.to_widgets()"
   ]
  },
  {
   "cell_type": "code",
   "execution_count": 11,
   "metadata": {},
   "outputs": [
    {
     "data": {
      "text/html": [
       "<div>\n",
       "<style scoped>\n",
       "    .dataframe tbody tr th:only-of-type {\n",
       "        vertical-align: middle;\n",
       "    }\n",
       "\n",
       "    .dataframe tbody tr th {\n",
       "        vertical-align: top;\n",
       "    }\n",
       "\n",
       "    .dataframe thead th {\n",
       "        text-align: right;\n",
       "    }\n",
       "</style>\n",
       "<table border=\"1\" class=\"dataframe\">\n",
       "  <thead>\n",
       "    <tr style=\"text-align: right;\">\n",
       "      <th></th>\n",
       "      <th>id</th>\n",
       "      <th>f0</th>\n",
       "      <th>f1</th>\n",
       "      <th>f2</th>\n",
       "      <th>product</th>\n",
       "    </tr>\n",
       "  </thead>\n",
       "  <tbody>\n",
       "    <tr>\n",
       "      <th>0</th>\n",
       "      <td>fwXo0</td>\n",
       "      <td>-1.146987</td>\n",
       "      <td>0.963328</td>\n",
       "      <td>-0.828965</td>\n",
       "      <td>27.758673</td>\n",
       "    </tr>\n",
       "    <tr>\n",
       "      <th>1</th>\n",
       "      <td>WJtFt</td>\n",
       "      <td>0.262778</td>\n",
       "      <td>0.269839</td>\n",
       "      <td>-2.530187</td>\n",
       "      <td>56.069697</td>\n",
       "    </tr>\n",
       "    <tr>\n",
       "      <th>2</th>\n",
       "      <td>ovLUW</td>\n",
       "      <td>0.194587</td>\n",
       "      <td>0.289035</td>\n",
       "      <td>-5.586433</td>\n",
       "      <td>62.871910</td>\n",
       "    </tr>\n",
       "    <tr>\n",
       "      <th>3</th>\n",
       "      <td>q6cA6</td>\n",
       "      <td>2.236060</td>\n",
       "      <td>-0.553760</td>\n",
       "      <td>0.930038</td>\n",
       "      <td>114.572842</td>\n",
       "    </tr>\n",
       "    <tr>\n",
       "      <th>4</th>\n",
       "      <td>WPMUX</td>\n",
       "      <td>-0.515993</td>\n",
       "      <td>1.716266</td>\n",
       "      <td>5.899011</td>\n",
       "      <td>149.600746</td>\n",
       "    </tr>\n",
       "  </tbody>\n",
       "</table>\n",
       "</div>"
      ],
      "text/plain": [
       "      id        f0        f1        f2     product\n",
       "0  fwXo0 -1.146987  0.963328 -0.828965   27.758673\n",
       "1  WJtFt  0.262778  0.269839 -2.530187   56.069697\n",
       "2  ovLUW  0.194587  0.289035 -5.586433   62.871910\n",
       "3  q6cA6  2.236060 -0.553760  0.930038  114.572842\n",
       "4  WPMUX -0.515993  1.716266  5.899011  149.600746"
      ]
     },
     "execution_count": 11,
     "metadata": {},
     "output_type": "execute_result"
    }
   ],
   "source": [
    "# рассмотрим данные датасета 3 региона\n",
    "df_region_3.head()"
   ]
  },
  {
   "cell_type": "code",
   "execution_count": 12,
   "metadata": {},
   "outputs": [
    {
     "name": "stdout",
     "output_type": "stream",
     "text": [
      "<class 'pandas.core.frame.DataFrame'>\n",
      "RangeIndex: 100000 entries, 0 to 99999\n",
      "Data columns (total 5 columns):\n",
      " #   Column   Non-Null Count   Dtype  \n",
      "---  ------   --------------   -----  \n",
      " 0   id       100000 non-null  object \n",
      " 1   f0       100000 non-null  float64\n",
      " 2   f1       100000 non-null  float64\n",
      " 3   f2       100000 non-null  float64\n",
      " 4   product  100000 non-null  float64\n",
      "dtypes: float64(4), object(1)\n",
      "memory usage: 3.8+ MB\n"
     ]
    }
   ],
   "source": [
    "# посмотрим основную информацию по датасету 3 региона\n",
    "df_region_3.info()"
   ]
  },
  {
   "cell_type": "code",
   "execution_count": 13,
   "metadata": {},
   "outputs": [
    {
     "data": {
      "application/vnd.jupyter.widget-view+json": {
       "model_id": "0b6128c728fc4d6fbd3afce44ee92d4d",
       "version_major": 2,
       "version_minor": 0
      },
      "text/plain": [
       "Summarize dataset:   0%|          | 0/5 [00:00<?, ?it/s]"
      ]
     },
     "metadata": {},
     "output_type": "display_data"
    },
    {
     "data": {
      "application/vnd.jupyter.widget-view+json": {
       "model_id": "9f4320307fb34982a3e61e2c3b2f329d",
       "version_major": 2,
       "version_minor": 0
      },
      "text/plain": [
       "Generate report structure:   0%|          | 0/1 [00:00<?, ?it/s]"
      ]
     },
     "metadata": {},
     "output_type": "display_data"
    },
    {
     "data": {
      "application/vnd.jupyter.widget-view+json": {
       "model_id": "",
       "version_major": 2,
       "version_minor": 0
      },
      "text/plain": [
       "Render widgets:   0%|          | 0/1 [00:00<?, ?it/s]"
      ]
     },
     "metadata": {},
     "output_type": "display_data"
    },
    {
     "data": {
      "application/vnd.jupyter.widget-view+json": {
       "model_id": "adc7686213534cdc9f463144bb854e4a",
       "version_major": 2,
       "version_minor": 0
      },
      "text/plain": [
       "VBox(children=(Tab(children=(Tab(children=(GridBox(children=(VBox(children=(GridspecLayout(children=(HTML(valu…"
      ]
     },
     "metadata": {},
     "output_type": "display_data"
    }
   ],
   "source": [
    "# создадим Profile Report по датасету\n",
    "profile_3 = ProfileReport(df_region_3, title=\"Pandas Profiling Report Region 3\")\n",
    "profile_3.to_widgets()"
   ]
  },
  {
   "cell_type": "markdown",
   "metadata": {},
   "source": [
    "**Описание данных**\n",
    "\n",
    "- id — уникальный идентификатор скважины;\n",
    "- f0, f1, f2 — три признака точек (неважно, что они означают, но сами признаки значимы);\n",
    "- product — объём запасов в скважине (тыс. баррелей)."
   ]
  },
  {
   "cell_type": "markdown",
   "metadata": {},
   "source": [
    "Видим, что данные не требуют предобработки. Признаки точек добычи масштабированы. Удалим стобец `id` из всех датасетов, т.к. он не понадобиться для проекта"
   ]
  },
  {
   "cell_type": "code",
   "execution_count": 14,
   "metadata": {},
   "outputs": [],
   "source": [
    "# удалим столбец id  из датасетов с помощью функции drop\n",
    "df_region_1 = df_region_1.drop('id', axis=1)\n",
    "df_region_2 = df_region_2.drop('id', axis=1)\n",
    "df_region_3 = df_region_3.drop('id', axis=1)"
   ]
  },
  {
   "cell_type": "markdown",
   "metadata": {},
   "source": [
    "**Вывод** \n",
    "\n",
    "Рассмотрены данные трех датасетов с точками для добычи нефти. Данные не требовали предобработки, пропуски отсутствовали, типы данных в столбцах корректны. Удален столбец `id`, которые не понадобиться при подготовке проекта. Далее исследуем и обучим модели"
   ]
  },
  {
   "cell_type": "markdown",
   "metadata": {},
   "source": [
    "## Обучение и проверка модели для каждого региона"
   ]
  },
  {
   "cell_type": "markdown",
   "metadata": {},
   "source": [
    "Лучше всего разбить данные на две выборки: обучающую, тестовую, т.к. будем использовать функции GridSearchCV и RandomSearchCV, которые используют кросс валидцаию.\n",
    "\n",
    "Разобьем их в отношении 3:1. Для этого используем метод train_test_split(). Сделаем это для датасета каждого региона"
   ]
  },
  {
   "cell_type": "code",
   "execution_count": 15,
   "metadata": {},
   "outputs": [],
   "source": [
    "# разделим обучающий датафрейм на features и target - целевой признак\n",
    "features_1 = df_region_1.drop(['product'], axis=1)\n",
    "target_1 = df_region_1['product']\n",
    "# поделим признаки и целевой признак на обучающую выборку и тестовую выборку\n",
    "features_1_train, features_1_valid, target_1_train, target_1_valid = (\n",
    "    train_test_split(features_1, target_1, test_size=0.25, random_state=12345))"
   ]
  },
  {
   "cell_type": "code",
   "execution_count": 16,
   "metadata": {},
   "outputs": [],
   "source": [
    "# разделим обучающий датафрейм на features и target - целевой признак\n",
    "features_2 = df_region_2.drop(['product'], axis=1)\n",
    "target_2 = df_region_2['product']\n",
    "# поделим признаки и целевой признак на обучающую выборку и тестовую выборку\n",
    "features_2_train, features_2_valid, target_2_train, target_2_valid = (\n",
    "    train_test_split(features_2, target_2, test_size=0.25, random_state=12345))"
   ]
  },
  {
   "cell_type": "code",
   "execution_count": 17,
   "metadata": {},
   "outputs": [],
   "source": [
    "# разделим обучающий датафрейм на features и target - целевой признак\n",
    "features_3 = df_region_3.drop(['product'], axis=1)\n",
    "target_3 = df_region_3['product']\n",
    "# поделим признаки и целевой признак на обучающую выборку и тестовую выборку\n",
    "features_3_train, features_3_valid, target_3_train, target_3_valid = (\n",
    "    train_test_split(features_3, target_3, test_size=0.25, random_state=12345))"
   ]
  },
  {
   "cell_type": "markdown",
   "metadata": {},
   "source": [
    "Обучим модель методом линейной регресии для **первого** региона, выведем оценки и средний запас сырья в месторождении."
   ]
  },
  {
   "cell_type": "code",
   "execution_count": 18,
   "metadata": {},
   "outputs": [
    {
     "name": "stdout",
     "output_type": "stream",
     "text": [
      "R2: 0.2799 \n",
      "MAE: 30.920 тыс. б. \n",
      "RMSE: 37.579 тыс. б. \n",
      "Средний запас: 92.5 тыс. б.\n"
     ]
    }
   ],
   "source": [
    "# создадим модель линейной регрессии\n",
    "lr_1 = LinearRegression().fit(features_1_train, target_1_train)\n",
    "# обучаем модель\n",
    "predictions_1 = lr_1.predict(features_1_valid)\n",
    "# выведем значения оценок и средний запас сырья в месторождении\n",
    "r2 = r2_score(target_1_valid,predictions_1)\n",
    "mae = mean_absolute_error(target_1_valid,predictions_1)\n",
    "rmse = mean_squared_error(target_1_valid,predictions_1)**0.5\n",
    "print('R2:','{:.4f}'.format(r2),\n",
    "      '\\nMAE:','{:.3f}'.format(mae), 'тыс. б.',\n",
    "      '\\nRMSE:','{:.3f}'.format(rmse), 'тыс. б.',\n",
    "      '\\nСредний запас:','{:.1f}'.format(target_1.mean()),'тыс. б.')"
   ]
  },
  {
   "cell_type": "markdown",
   "metadata": {},
   "source": [
    "Видим, что показатели модели низкие. RMSE составляеет целых 37,56 тыс. б., а MAE составляет 30,92 тыс. б., когда как среднее значение по датасету у нас 92,5 тыс. б. Коэффициент детерминации равен 0,28, что ближе к нулю и говорит, что легче вычислять среднее в данное датасете.\n",
    "\n",
    "Проведем небольшой анализ датасета **первого** региона. Может слабо связаны между с собой и поэтому модель показывает низкие результаты\n",
    "\n",
    "Создадим функцию для создания графиков и матрицы корреляции"
   ]
  },
  {
   "cell_type": "code",
   "execution_count": 19,
   "metadata": {
    "tags": []
   },
   "outputs": [],
   "source": [
    "# создадим функцию hists\n",
    "def hists(data):\n",
    "    # для визуального представления построим гистограммы для всех столбцов датасета с помощью библиотеки Plotly\n",
    "    for column in data.columns:\n",
    "        hist = px.histogram(data, x=column, nbins=50)\n",
    "        hist.show()\n",
    "    return\n",
    "\n",
    "# создадим функцию hists\n",
    "def corr(data):\n",
    "    # построим матрицу корреляции с помощью функции corr()\n",
    "    corr_data = data[['f0','f1','f2','product']].corr()\n",
    "    # выведем визуальную матрицу с помощью функции px.imshow()\n",
    "    fig = px.imshow(corr_data, text_auto='.2f')\n",
    "    fig.update_layout(width=400, height=400)\n",
    "    fig.show()\n",
    "    return"
   ]
  },
  {
   "cell_type": "code",
   "execution_count": null,
   "metadata": {},
   "outputs": [],
   "source": [
    "# используем функцию hists\n",
    "hists(df_region_1)"
   ]
  },
  {
   "cell_type": "markdown",
   "metadata": {},
   "source": [
    "Данные распределены во всех столбцах нормально и искусственно."
   ]
  },
  {
   "cell_type": "code",
   "execution_count": 21,
   "metadata": {},
   "outputs": [
    {
     "data": {
      "application/vnd.plotly.v1+json": {
       "config": {
        "plotlyServerURL": "https://plot.ly"
       },
       "data": [
        {
         "coloraxis": "coloraxis",
         "hovertemplate": "x: %{x}<br>y: %{y}<br>color: %{z}<extra></extra>",
         "name": "0",
         "texttemplate": "%{z:.2f}",
         "type": "heatmap",
         "x": [
          "f0",
          "f1",
          "f2",
          "product"
         ],
         "xaxis": "x",
         "y": [
          "f0",
          "f1",
          "f2",
          "product"
         ],
         "yaxis": "y",
         "z": [
          [
           1,
           -0.44072285097195546,
           -0.0031533420672054807,
           0.14353635093189457
          ],
          [
           -0.44072285097195546,
           1,
           0.00172443245914006,
           -0.19235576281513608
          ],
          [
           -0.0031533420672054807,
           0.00172443245914006,
           1,
           0.4836632869261559
          ],
          [
           0.14353635093189457,
           -0.19235576281513608,
           0.4836632869261559,
           1
          ]
         ]
        }
       ],
       "layout": {
        "coloraxis": {
         "colorscale": [
          [
           0,
           "#0d0887"
          ],
          [
           0.1111111111111111,
           "#46039f"
          ],
          [
           0.2222222222222222,
           "#7201a8"
          ],
          [
           0.3333333333333333,
           "#9c179e"
          ],
          [
           0.4444444444444444,
           "#bd3786"
          ],
          [
           0.5555555555555556,
           "#d8576b"
          ],
          [
           0.6666666666666666,
           "#ed7953"
          ],
          [
           0.7777777777777778,
           "#fb9f3a"
          ],
          [
           0.8888888888888888,
           "#fdca26"
          ],
          [
           1,
           "#f0f921"
          ]
         ]
        },
        "height": 400,
        "margin": {
         "t": 60
        },
        "template": {
         "data": {
          "bar": [
           {
            "error_x": {
             "color": "#2a3f5f"
            },
            "error_y": {
             "color": "#2a3f5f"
            },
            "marker": {
             "line": {
              "color": "#E5ECF6",
              "width": 0.5
             },
             "pattern": {
              "fillmode": "overlay",
              "size": 10,
              "solidity": 0.2
             }
            },
            "type": "bar"
           }
          ],
          "barpolar": [
           {
            "marker": {
             "line": {
              "color": "#E5ECF6",
              "width": 0.5
             },
             "pattern": {
              "fillmode": "overlay",
              "size": 10,
              "solidity": 0.2
             }
            },
            "type": "barpolar"
           }
          ],
          "carpet": [
           {
            "aaxis": {
             "endlinecolor": "#2a3f5f",
             "gridcolor": "white",
             "linecolor": "white",
             "minorgridcolor": "white",
             "startlinecolor": "#2a3f5f"
            },
            "baxis": {
             "endlinecolor": "#2a3f5f",
             "gridcolor": "white",
             "linecolor": "white",
             "minorgridcolor": "white",
             "startlinecolor": "#2a3f5f"
            },
            "type": "carpet"
           }
          ],
          "choropleth": [
           {
            "colorbar": {
             "outlinewidth": 0,
             "ticks": ""
            },
            "type": "choropleth"
           }
          ],
          "contour": [
           {
            "colorbar": {
             "outlinewidth": 0,
             "ticks": ""
            },
            "colorscale": [
             [
              0,
              "#0d0887"
             ],
             [
              0.1111111111111111,
              "#46039f"
             ],
             [
              0.2222222222222222,
              "#7201a8"
             ],
             [
              0.3333333333333333,
              "#9c179e"
             ],
             [
              0.4444444444444444,
              "#bd3786"
             ],
             [
              0.5555555555555556,
              "#d8576b"
             ],
             [
              0.6666666666666666,
              "#ed7953"
             ],
             [
              0.7777777777777778,
              "#fb9f3a"
             ],
             [
              0.8888888888888888,
              "#fdca26"
             ],
             [
              1,
              "#f0f921"
             ]
            ],
            "type": "contour"
           }
          ],
          "contourcarpet": [
           {
            "colorbar": {
             "outlinewidth": 0,
             "ticks": ""
            },
            "type": "contourcarpet"
           }
          ],
          "heatmap": [
           {
            "colorbar": {
             "outlinewidth": 0,
             "ticks": ""
            },
            "colorscale": [
             [
              0,
              "#0d0887"
             ],
             [
              0.1111111111111111,
              "#46039f"
             ],
             [
              0.2222222222222222,
              "#7201a8"
             ],
             [
              0.3333333333333333,
              "#9c179e"
             ],
             [
              0.4444444444444444,
              "#bd3786"
             ],
             [
              0.5555555555555556,
              "#d8576b"
             ],
             [
              0.6666666666666666,
              "#ed7953"
             ],
             [
              0.7777777777777778,
              "#fb9f3a"
             ],
             [
              0.8888888888888888,
              "#fdca26"
             ],
             [
              1,
              "#f0f921"
             ]
            ],
            "type": "heatmap"
           }
          ],
          "heatmapgl": [
           {
            "colorbar": {
             "outlinewidth": 0,
             "ticks": ""
            },
            "colorscale": [
             [
              0,
              "#0d0887"
             ],
             [
              0.1111111111111111,
              "#46039f"
             ],
             [
              0.2222222222222222,
              "#7201a8"
             ],
             [
              0.3333333333333333,
              "#9c179e"
             ],
             [
              0.4444444444444444,
              "#bd3786"
             ],
             [
              0.5555555555555556,
              "#d8576b"
             ],
             [
              0.6666666666666666,
              "#ed7953"
             ],
             [
              0.7777777777777778,
              "#fb9f3a"
             ],
             [
              0.8888888888888888,
              "#fdca26"
             ],
             [
              1,
              "#f0f921"
             ]
            ],
            "type": "heatmapgl"
           }
          ],
          "histogram": [
           {
            "marker": {
             "pattern": {
              "fillmode": "overlay",
              "size": 10,
              "solidity": 0.2
             }
            },
            "type": "histogram"
           }
          ],
          "histogram2d": [
           {
            "colorbar": {
             "outlinewidth": 0,
             "ticks": ""
            },
            "colorscale": [
             [
              0,
              "#0d0887"
             ],
             [
              0.1111111111111111,
              "#46039f"
             ],
             [
              0.2222222222222222,
              "#7201a8"
             ],
             [
              0.3333333333333333,
              "#9c179e"
             ],
             [
              0.4444444444444444,
              "#bd3786"
             ],
             [
              0.5555555555555556,
              "#d8576b"
             ],
             [
              0.6666666666666666,
              "#ed7953"
             ],
             [
              0.7777777777777778,
              "#fb9f3a"
             ],
             [
              0.8888888888888888,
              "#fdca26"
             ],
             [
              1,
              "#f0f921"
             ]
            ],
            "type": "histogram2d"
           }
          ],
          "histogram2dcontour": [
           {
            "colorbar": {
             "outlinewidth": 0,
             "ticks": ""
            },
            "colorscale": [
             [
              0,
              "#0d0887"
             ],
             [
              0.1111111111111111,
              "#46039f"
             ],
             [
              0.2222222222222222,
              "#7201a8"
             ],
             [
              0.3333333333333333,
              "#9c179e"
             ],
             [
              0.4444444444444444,
              "#bd3786"
             ],
             [
              0.5555555555555556,
              "#d8576b"
             ],
             [
              0.6666666666666666,
              "#ed7953"
             ],
             [
              0.7777777777777778,
              "#fb9f3a"
             ],
             [
              0.8888888888888888,
              "#fdca26"
             ],
             [
              1,
              "#f0f921"
             ]
            ],
            "type": "histogram2dcontour"
           }
          ],
          "mesh3d": [
           {
            "colorbar": {
             "outlinewidth": 0,
             "ticks": ""
            },
            "type": "mesh3d"
           }
          ],
          "parcoords": [
           {
            "line": {
             "colorbar": {
              "outlinewidth": 0,
              "ticks": ""
             }
            },
            "type": "parcoords"
           }
          ],
          "pie": [
           {
            "automargin": true,
            "type": "pie"
           }
          ],
          "scatter": [
           {
            "marker": {
             "colorbar": {
              "outlinewidth": 0,
              "ticks": ""
             }
            },
            "type": "scatter"
           }
          ],
          "scatter3d": [
           {
            "line": {
             "colorbar": {
              "outlinewidth": 0,
              "ticks": ""
             }
            },
            "marker": {
             "colorbar": {
              "outlinewidth": 0,
              "ticks": ""
             }
            },
            "type": "scatter3d"
           }
          ],
          "scattercarpet": [
           {
            "marker": {
             "colorbar": {
              "outlinewidth": 0,
              "ticks": ""
             }
            },
            "type": "scattercarpet"
           }
          ],
          "scattergeo": [
           {
            "marker": {
             "colorbar": {
              "outlinewidth": 0,
              "ticks": ""
             }
            },
            "type": "scattergeo"
           }
          ],
          "scattergl": [
           {
            "marker": {
             "colorbar": {
              "outlinewidth": 0,
              "ticks": ""
             }
            },
            "type": "scattergl"
           }
          ],
          "scattermapbox": [
           {
            "marker": {
             "colorbar": {
              "outlinewidth": 0,
              "ticks": ""
             }
            },
            "type": "scattermapbox"
           }
          ],
          "scatterpolar": [
           {
            "marker": {
             "colorbar": {
              "outlinewidth": 0,
              "ticks": ""
             }
            },
            "type": "scatterpolar"
           }
          ],
          "scatterpolargl": [
           {
            "marker": {
             "colorbar": {
              "outlinewidth": 0,
              "ticks": ""
             }
            },
            "type": "scatterpolargl"
           }
          ],
          "scatterternary": [
           {
            "marker": {
             "colorbar": {
              "outlinewidth": 0,
              "ticks": ""
             }
            },
            "type": "scatterternary"
           }
          ],
          "surface": [
           {
            "colorbar": {
             "outlinewidth": 0,
             "ticks": ""
            },
            "colorscale": [
             [
              0,
              "#0d0887"
             ],
             [
              0.1111111111111111,
              "#46039f"
             ],
             [
              0.2222222222222222,
              "#7201a8"
             ],
             [
              0.3333333333333333,
              "#9c179e"
             ],
             [
              0.4444444444444444,
              "#bd3786"
             ],
             [
              0.5555555555555556,
              "#d8576b"
             ],
             [
              0.6666666666666666,
              "#ed7953"
             ],
             [
              0.7777777777777778,
              "#fb9f3a"
             ],
             [
              0.8888888888888888,
              "#fdca26"
             ],
             [
              1,
              "#f0f921"
             ]
            ],
            "type": "surface"
           }
          ],
          "table": [
           {
            "cells": {
             "fill": {
              "color": "#EBF0F8"
             },
             "line": {
              "color": "white"
             }
            },
            "header": {
             "fill": {
              "color": "#C8D4E3"
             },
             "line": {
              "color": "white"
             }
            },
            "type": "table"
           }
          ]
         },
         "layout": {
          "annotationdefaults": {
           "arrowcolor": "#2a3f5f",
           "arrowhead": 0,
           "arrowwidth": 1
          },
          "autotypenumbers": "strict",
          "coloraxis": {
           "colorbar": {
            "outlinewidth": 0,
            "ticks": ""
           }
          },
          "colorscale": {
           "diverging": [
            [
             0,
             "#8e0152"
            ],
            [
             0.1,
             "#c51b7d"
            ],
            [
             0.2,
             "#de77ae"
            ],
            [
             0.3,
             "#f1b6da"
            ],
            [
             0.4,
             "#fde0ef"
            ],
            [
             0.5,
             "#f7f7f7"
            ],
            [
             0.6,
             "#e6f5d0"
            ],
            [
             0.7,
             "#b8e186"
            ],
            [
             0.8,
             "#7fbc41"
            ],
            [
             0.9,
             "#4d9221"
            ],
            [
             1,
             "#276419"
            ]
           ],
           "sequential": [
            [
             0,
             "#0d0887"
            ],
            [
             0.1111111111111111,
             "#46039f"
            ],
            [
             0.2222222222222222,
             "#7201a8"
            ],
            [
             0.3333333333333333,
             "#9c179e"
            ],
            [
             0.4444444444444444,
             "#bd3786"
            ],
            [
             0.5555555555555556,
             "#d8576b"
            ],
            [
             0.6666666666666666,
             "#ed7953"
            ],
            [
             0.7777777777777778,
             "#fb9f3a"
            ],
            [
             0.8888888888888888,
             "#fdca26"
            ],
            [
             1,
             "#f0f921"
            ]
           ],
           "sequentialminus": [
            [
             0,
             "#0d0887"
            ],
            [
             0.1111111111111111,
             "#46039f"
            ],
            [
             0.2222222222222222,
             "#7201a8"
            ],
            [
             0.3333333333333333,
             "#9c179e"
            ],
            [
             0.4444444444444444,
             "#bd3786"
            ],
            [
             0.5555555555555556,
             "#d8576b"
            ],
            [
             0.6666666666666666,
             "#ed7953"
            ],
            [
             0.7777777777777778,
             "#fb9f3a"
            ],
            [
             0.8888888888888888,
             "#fdca26"
            ],
            [
             1,
             "#f0f921"
            ]
           ]
          },
          "colorway": [
           "#636efa",
           "#EF553B",
           "#00cc96",
           "#ab63fa",
           "#FFA15A",
           "#19d3f3",
           "#FF6692",
           "#B6E880",
           "#FF97FF",
           "#FECB52"
          ],
          "font": {
           "color": "#2a3f5f"
          },
          "geo": {
           "bgcolor": "white",
           "lakecolor": "white",
           "landcolor": "#E5ECF6",
           "showlakes": true,
           "showland": true,
           "subunitcolor": "white"
          },
          "hoverlabel": {
           "align": "left"
          },
          "hovermode": "closest",
          "mapbox": {
           "style": "light"
          },
          "paper_bgcolor": "white",
          "plot_bgcolor": "#E5ECF6",
          "polar": {
           "angularaxis": {
            "gridcolor": "white",
            "linecolor": "white",
            "ticks": ""
           },
           "bgcolor": "#E5ECF6",
           "radialaxis": {
            "gridcolor": "white",
            "linecolor": "white",
            "ticks": ""
           }
          },
          "scene": {
           "xaxis": {
            "backgroundcolor": "#E5ECF6",
            "gridcolor": "white",
            "gridwidth": 2,
            "linecolor": "white",
            "showbackground": true,
            "ticks": "",
            "zerolinecolor": "white"
           },
           "yaxis": {
            "backgroundcolor": "#E5ECF6",
            "gridcolor": "white",
            "gridwidth": 2,
            "linecolor": "white",
            "showbackground": true,
            "ticks": "",
            "zerolinecolor": "white"
           },
           "zaxis": {
            "backgroundcolor": "#E5ECF6",
            "gridcolor": "white",
            "gridwidth": 2,
            "linecolor": "white",
            "showbackground": true,
            "ticks": "",
            "zerolinecolor": "white"
           }
          },
          "shapedefaults": {
           "line": {
            "color": "#2a3f5f"
           }
          },
          "ternary": {
           "aaxis": {
            "gridcolor": "white",
            "linecolor": "white",
            "ticks": ""
           },
           "baxis": {
            "gridcolor": "white",
            "linecolor": "white",
            "ticks": ""
           },
           "bgcolor": "#E5ECF6",
           "caxis": {
            "gridcolor": "white",
            "linecolor": "white",
            "ticks": ""
           }
          },
          "title": {
           "x": 0.05
          },
          "xaxis": {
           "automargin": true,
           "gridcolor": "white",
           "linecolor": "white",
           "ticks": "",
           "title": {
            "standoff": 15
           },
           "zerolinecolor": "white",
           "zerolinewidth": 2
          },
          "yaxis": {
           "automargin": true,
           "gridcolor": "white",
           "linecolor": "white",
           "ticks": "",
           "title": {
            "standoff": 15
           },
           "zerolinecolor": "white",
           "zerolinewidth": 2
          }
         }
        },
        "width": 400,
        "xaxis": {
         "anchor": "y",
         "autorange": true,
         "constrain": "domain",
         "domain": [
          0,
          1
         ],
         "range": [
          -0.5,
          3.5
         ],
         "scaleanchor": "y",
         "type": "category"
        },
        "yaxis": {
         "anchor": "x",
         "autorange": true,
         "constrain": "domain",
         "domain": [
          0.050000000000000044,
          0.95
         ],
         "range": [
          3.5,
          -0.5
         ],
         "type": "category"
        }
       }
      },
      "image/png": "[encoded data removed]",
      "text/html": [
       "<div>                            <div id=\"5ce20220-e83d-4256-a74c-d45dc438c18a\" class=\"plotly-graph-div\" style=\"height:400px; width:400px;\"></div>            <script type=\"text/javascript\">                require([\"plotly\"], function(Plotly) {                    window.PLOTLYENV=window.PLOTLYENV || {};                                    if (document.getElementById(\"5ce20220-e83d-4256-a74c-d45dc438c18a\")) {                    Plotly.newPlot(                        \"5ce20220-e83d-4256-a74c-d45dc438c18a\",                        [{\"coloraxis\":\"coloraxis\",\"name\":\"0\",\"texttemplate\":\"%{z:.2f}\",\"x\":[\"f0\",\"f1\",\"f2\",\"product\"],\"y\":[\"f0\",\"f1\",\"f2\",\"product\"],\"z\":[[1.0,-0.44072285097195546,-0.0031533420672054807,0.14353635093189457],[-0.44072285097195546,1.0,0.00172443245914006,-0.19235576281513608],[-0.0031533420672054807,0.00172443245914006,1.0,0.4836632869261559],[0.14353635093189457,-0.19235576281513608,0.4836632869261559,1.0]],\"type\":\"heatmap\",\"xaxis\":\"x\",\"yaxis\":\"y\",\"hovertemplate\":\"x: %{x}<br>y: %{y}<br>color: %{z}<extra></extra>\"}],                        {\"template\":{\"data\":{\"bar\":[{\"error_x\":{\"color\":\"#2a3f5f\"},\"error_y\":{\"color\":\"#2a3f5f\"},\"marker\":{\"line\":{\"color\":\"#E5ECF6\",\"width\":0.5},\"pattern\":{\"fillmode\":\"overlay\",\"size\":10,\"solidity\":0.2}},\"type\":\"bar\"}],\"barpolar\":[{\"marker\":{\"line\":{\"color\":\"#E5ECF6\",\"width\":0.5},\"pattern\":{\"fillmode\":\"overlay\",\"size\":10,\"solidity\":0.2}},\"type\":\"barpolar\"}],\"carpet\":[{\"aaxis\":{\"endlinecolor\":\"#2a3f5f\",\"gridcolor\":\"white\",\"linecolor\":\"white\",\"minorgridcolor\":\"white\",\"startlinecolor\":\"#2a3f5f\"},\"baxis\":{\"endlinecolor\":\"#2a3f5f\",\"gridcolor\":\"white\",\"linecolor\":\"white\",\"minorgridcolor\":\"white\",\"startlinecolor\":\"#2a3f5f\"},\"type\":\"carpet\"}],\"choropleth\":[{\"colorbar\":{\"outlinewidth\":0,\"ticks\":\"\"},\"type\":\"choropleth\"}],\"contour\":[{\"colorbar\":{\"outlinewidth\":0,\"ticks\":\"\"},\"colorscale\":[[0.0,\"#0d0887\"],[0.1111111111111111,\"#46039f\"],[0.2222222222222222,\"#7201a8\"],[0.3333333333333333,\"#9c179e\"],[0.4444444444444444,\"#bd3786\"],[0.5555555555555556,\"#d8576b\"],[0.6666666666666666,\"#ed7953\"],[0.7777777777777778,\"#fb9f3a\"],[0.8888888888888888,\"#fdca26\"],[1.0,\"#f0f921\"]],\"type\":\"contour\"}],\"contourcarpet\":[{\"colorbar\":{\"outlinewidth\":0,\"ticks\":\"\"},\"type\":\"contourcarpet\"}],\"heatmap\":[{\"colorbar\":{\"outlinewidth\":0,\"ticks\":\"\"},\"colorscale\":[[0.0,\"#0d0887\"],[0.1111111111111111,\"#46039f\"],[0.2222222222222222,\"#7201a8\"],[0.3333333333333333,\"#9c179e\"],[0.4444444444444444,\"#bd3786\"],[0.5555555555555556,\"#d8576b\"],[0.6666666666666666,\"#ed7953\"],[0.7777777777777778,\"#fb9f3a\"],[0.8888888888888888,\"#fdca26\"],[1.0,\"#f0f921\"]],\"type\":\"heatmap\"}],\"heatmapgl\":[{\"colorbar\":{\"outlinewidth\":0,\"ticks\":\"\"},\"colorscale\":[[0.0,\"#0d0887\"],[0.1111111111111111,\"#46039f\"],[0.2222222222222222,\"#7201a8\"],[0.3333333333333333,\"#9c179e\"],[0.4444444444444444,\"#bd3786\"],[0.5555555555555556,\"#d8576b\"],[0.6666666666666666,\"#ed7953\"],[0.7777777777777778,\"#fb9f3a\"],[0.8888888888888888,\"#fdca26\"],[1.0,\"#f0f921\"]],\"type\":\"heatmapgl\"}],\"histogram\":[{\"marker\":{\"pattern\":{\"fillmode\":\"overlay\",\"size\":10,\"solidity\":0.2}},\"type\":\"histogram\"}],\"histogram2d\":[{\"colorbar\":{\"outlinewidth\":0,\"ticks\":\"\"},\"colorscale\":[[0.0,\"#0d0887\"],[0.1111111111111111,\"#46039f\"],[0.2222222222222222,\"#7201a8\"],[0.3333333333333333,\"#9c179e\"],[0.4444444444444444,\"#bd3786\"],[0.5555555555555556,\"#d8576b\"],[0.6666666666666666,\"#ed7953\"],[0.7777777777777778,\"#fb9f3a\"],[0.8888888888888888,\"#fdca26\"],[1.0,\"#f0f921\"]],\"type\":\"histogram2d\"}],\"histogram2dcontour\":[{\"colorbar\":{\"outlinewidth\":0,\"ticks\":\"\"},\"colorscale\":[[0.0,\"#0d0887\"],[0.1111111111111111,\"#46039f\"],[0.2222222222222222,\"#7201a8\"],[0.3333333333333333,\"#9c179e\"],[0.4444444444444444,\"#bd3786\"],[0.5555555555555556,\"#d8576b\"],[0.6666666666666666,\"#ed7953\"],[0.7777777777777778,\"#fb9f3a\"],[0.8888888888888888,\"#fdca26\"],[1.0,\"#f0f921\"]],\"type\":\"histogram2dcontour\"}],\"mesh3d\":[{\"colorbar\":{\"outlinewidth\":0,\"ticks\":\"\"},\"type\":\"mesh3d\"}],\"parcoords\":[{\"line\":{\"colorbar\":{\"outlinewidth\":0,\"ticks\":\"\"}},\"type\":\"parcoords\"}],\"pie\":[{\"automargin\":true,\"type\":\"pie\"}],\"scatter\":[{\"marker\":{\"colorbar\":{\"outlinewidth\":0,\"ticks\":\"\"}},\"type\":\"scatter\"}],\"scatter3d\":[{\"line\":{\"colorbar\":{\"outlinewidth\":0,\"ticks\":\"\"}},\"marker\":{\"colorbar\":{\"outlinewidth\":0,\"ticks\":\"\"}},\"type\":\"scatter3d\"}],\"scattercarpet\":[{\"marker\":{\"colorbar\":{\"outlinewidth\":0,\"ticks\":\"\"}},\"type\":\"scattercarpet\"}],\"scattergeo\":[{\"marker\":{\"colorbar\":{\"outlinewidth\":0,\"ticks\":\"\"}},\"type\":\"scattergeo\"}],\"scattergl\":[{\"marker\":{\"colorbar\":{\"outlinewidth\":0,\"ticks\":\"\"}},\"type\":\"scattergl\"}],\"scattermapbox\":[{\"marker\":{\"colorbar\":{\"outlinewidth\":0,\"ticks\":\"\"}},\"type\":\"scattermapbox\"}],\"scatterpolar\":[{\"marker\":{\"colorbar\":{\"outlinewidth\":0,\"ticks\":\"\"}},\"type\":\"scatterpolar\"}],\"scatterpolargl\":[{\"marker\":{\"colorbar\":{\"outlinewidth\":0,\"ticks\":\"\"}},\"type\":\"scatterpolargl\"}],\"scatterternary\":[{\"marker\":{\"colorbar\":{\"outlinewidth\":0,\"ticks\":\"\"}},\"type\":\"scatterternary\"}],\"surface\":[{\"colorbar\":{\"outlinewidth\":0,\"ticks\":\"\"},\"colorscale\":[[0.0,\"#0d0887\"],[0.1111111111111111,\"#46039f\"],[0.2222222222222222,\"#7201a8\"],[0.3333333333333333,\"#9c179e\"],[0.4444444444444444,\"#bd3786\"],[0.5555555555555556,\"#d8576b\"],[0.6666666666666666,\"#ed7953\"],[0.7777777777777778,\"#fb9f3a\"],[0.8888888888888888,\"#fdca26\"],[1.0,\"#f0f921\"]],\"type\":\"surface\"}],\"table\":[{\"cells\":{\"fill\":{\"color\":\"#EBF0F8\"},\"line\":{\"color\":\"white\"}},\"header\":{\"fill\":{\"color\":\"#C8D4E3\"},\"line\":{\"color\":\"white\"}},\"type\":\"table\"}]},\"layout\":{\"annotationdefaults\":{\"arrowcolor\":\"#2a3f5f\",\"arrowhead\":0,\"arrowwidth\":1},\"autotypenumbers\":\"strict\",\"coloraxis\":{\"colorbar\":{\"outlinewidth\":0,\"ticks\":\"\"}},\"colorscale\":{\"diverging\":[[0,\"#8e0152\"],[0.1,\"#c51b7d\"],[0.2,\"#de77ae\"],[0.3,\"#f1b6da\"],[0.4,\"#fde0ef\"],[0.5,\"#f7f7f7\"],[0.6,\"#e6f5d0\"],[0.7,\"#b8e186\"],[0.8,\"#7fbc41\"],[0.9,\"#4d9221\"],[1,\"#276419\"]],\"sequential\":[[0.0,\"#0d0887\"],[0.1111111111111111,\"#46039f\"],[0.2222222222222222,\"#7201a8\"],[0.3333333333333333,\"#9c179e\"],[0.4444444444444444,\"#bd3786\"],[0.5555555555555556,\"#d8576b\"],[0.6666666666666666,\"#ed7953\"],[0.7777777777777778,\"#fb9f3a\"],[0.8888888888888888,\"#fdca26\"],[1.0,\"#f0f921\"]],\"sequentialminus\":[[0.0,\"#0d0887\"],[0.1111111111111111,\"#46039f\"],[0.2222222222222222,\"#7201a8\"],[0.3333333333333333,\"#9c179e\"],[0.4444444444444444,\"#bd3786\"],[0.5555555555555556,\"#d8576b\"],[0.6666666666666666,\"#ed7953\"],[0.7777777777777778,\"#fb9f3a\"],[0.8888888888888888,\"#fdca26\"],[1.0,\"#f0f921\"]]},\"colorway\":[\"#636efa\",\"#EF553B\",\"#00cc96\",\"#ab63fa\",\"#FFA15A\",\"#19d3f3\",\"#FF6692\",\"#B6E880\",\"#FF97FF\",\"#FECB52\"],\"font\":{\"color\":\"#2a3f5f\"},\"geo\":{\"bgcolor\":\"white\",\"lakecolor\":\"white\",\"landcolor\":\"#E5ECF6\",\"showlakes\":true,\"showland\":true,\"subunitcolor\":\"white\"},\"hoverlabel\":{\"align\":\"left\"},\"hovermode\":\"closest\",\"mapbox\":{\"style\":\"light\"},\"paper_bgcolor\":\"white\",\"plot_bgcolor\":\"#E5ECF6\",\"polar\":{\"angularaxis\":{\"gridcolor\":\"white\",\"linecolor\":\"white\",\"ticks\":\"\"},\"bgcolor\":\"#E5ECF6\",\"radialaxis\":{\"gridcolor\":\"white\",\"linecolor\":\"white\",\"ticks\":\"\"}},\"scene\":{\"xaxis\":{\"backgroundcolor\":\"#E5ECF6\",\"gridcolor\":\"white\",\"gridwidth\":2,\"linecolor\":\"white\",\"showbackground\":true,\"ticks\":\"\",\"zerolinecolor\":\"white\"},\"yaxis\":{\"backgroundcolor\":\"#E5ECF6\",\"gridcolor\":\"white\",\"gridwidth\":2,\"linecolor\":\"white\",\"showbackground\":true,\"ticks\":\"\",\"zerolinecolor\":\"white\"},\"zaxis\":{\"backgroundcolor\":\"#E5ECF6\",\"gridcolor\":\"white\",\"gridwidth\":2,\"linecolor\":\"white\",\"showbackground\":true,\"ticks\":\"\",\"zerolinecolor\":\"white\"}},\"shapedefaults\":{\"line\":{\"color\":\"#2a3f5f\"}},\"ternary\":{\"aaxis\":{\"gridcolor\":\"white\",\"linecolor\":\"white\",\"ticks\":\"\"},\"baxis\":{\"gridcolor\":\"white\",\"linecolor\":\"white\",\"ticks\":\"\"},\"bgcolor\":\"#E5ECF6\",\"caxis\":{\"gridcolor\":\"white\",\"linecolor\":\"white\",\"ticks\":\"\"}},\"title\":{\"x\":0.05},\"xaxis\":{\"automargin\":true,\"gridcolor\":\"white\",\"linecolor\":\"white\",\"ticks\":\"\",\"title\":{\"standoff\":15},\"zerolinecolor\":\"white\",\"zerolinewidth\":2},\"yaxis\":{\"automargin\":true,\"gridcolor\":\"white\",\"linecolor\":\"white\",\"ticks\":\"\",\"title\":{\"standoff\":15},\"zerolinecolor\":\"white\",\"zerolinewidth\":2}}},\"xaxis\":{\"anchor\":\"y\",\"domain\":[0.0,1.0],\"scaleanchor\":\"y\",\"constrain\":\"domain\"},\"yaxis\":{\"anchor\":\"x\",\"domain\":[0.0,1.0],\"autorange\":\"reversed\",\"constrain\":\"domain\"},\"coloraxis\":{\"colorscale\":[[0.0,\"#0d0887\"],[0.1111111111111111,\"#46039f\"],[0.2222222222222222,\"#7201a8\"],[0.3333333333333333,\"#9c179e\"],[0.4444444444444444,\"#bd3786\"],[0.5555555555555556,\"#d8576b\"],[0.6666666666666666,\"#ed7953\"],[0.7777777777777778,\"#fb9f3a\"],[0.8888888888888888,\"#fdca26\"],[1.0,\"#f0f921\"]]},\"margin\":{\"t\":60},\"width\":400,\"height\":400},                        {\"responsive\": true}                    ).then(function(){\n",
       "                            \n",
       "var gd = document.getElementById('5ce20220-e83d-4256-a74c-d45dc438c18a');\n",
       "var x = new MutationObserver(function (mutations, observer) {{\n",
       "        var display = window.getComputedStyle(gd).display;\n",
       "        if (!display || display === 'none') {{\n",
       "            console.log([gd, 'removed!']);\n",
       "            Plotly.purge(gd);\n",
       "            observer.disconnect();\n",
       "        }}\n",
       "}});\n",
       "\n",
       "// Listen for the removal of the full notebook cells\n",
       "var notebookContainer = gd.closest('#notebook-container');\n",
       "if (notebookContainer) {{\n",
       "    x.observe(notebookContainer, {childList: true});\n",
       "}}\n",
       "\n",
       "// Listen for the clearing of the current output cell\n",
       "var outputEl = gd.closest('.output');\n",
       "if (outputEl) {{\n",
       "    x.observe(outputEl, {childList: true});\n",
       "}}\n",
       "\n",
       "                        })                };                });            </script>        </div>"
      ]
     },
     "metadata": {},
     "output_type": "display_data"
    }
   ],
   "source": [
    "# используем функцию corr\n",
    "corr(df_region_1)"
   ]
  },
  {
   "cell_type": "markdown",
   "metadata": {},
   "source": [
    "Как видим из матрицы корреляции имеется очень слабая корреляция с целевым признаком у показателей `f0` И `f1` и слабая корреляция у столбца `f2`"
   ]
  },
  {
   "cell_type": "markdown",
   "metadata": {},
   "source": [
    "Обучим модель методом линейной регресии для **второго** региона, выведем оценки и средний запас сырья в месторождении."
   ]
  },
  {
   "cell_type": "code",
   "execution_count": 22,
   "metadata": {},
   "outputs": [
    {
     "name": "stdout",
     "output_type": "stream",
     "text": [
      "R2: 0.9996 \n",
      "MAE: 0.719 \n",
      "RMSE: 0.893 \n",
      "Средний запас: 68.8 тыс. б.\n"
     ]
    }
   ],
   "source": [
    "# создадим модель линейной регрессии\n",
    "lr_2 = LinearRegression().fit(features_2_train, target_2_train)\n",
    "# обучаем модель\n",
    "predictions_2 = lr_2.predict(features_2_valid)\n",
    "# выведем значения оценок и средний запас сырья в месторождении\n",
    "r2 = r2_score(target_2_valid,predictions_2)\n",
    "mae = mean_absolute_error(target_2_valid,predictions_2)\n",
    "rmse = mean_squared_error(target_2_valid,predictions_2)**0.5\n",
    "print('R2:','{:.4f}'.format(r2),\n",
    "      '\\nMAE:','{:.3f}'.format(mae),\n",
    "      '\\nRMSE:','{:.3f}'.format(rmse),\n",
    "      '\\nСредний запас:','{:.1f}'.format(target_2.mean()),'тыс. б.')"
   ]
  },
  {
   "cell_type": "markdown",
   "metadata": {},
   "source": [
    "У второго региона всё с точностью да наоборот, видим, что показатели модели модели. RMSE составляеет всего 0,89 тыс. б., а MAE составляет 0,712 тыс. б., когда как среднее значение по датасету у нас 68,8 тыс. б. Коэффициент детерминации равен 0,9996, что говорит о высокой возможности точно предсказывать целевой признак.\n",
    "\n",
    "Проведем небольшой анализ датасета **второго** региона."
   ]
  },
  {
   "cell_type": "code",
   "execution_count": null,
   "metadata": {},
   "outputs": [],
   "source": [
    "# используем функцию hists\n",
    "hists(df_region_2)"
   ]
  },
  {
   "cell_type": "markdown",
   "metadata": {},
   "source": [
    "Видим, что данные распределены номарльно по столбцам `f0` и `f1`,  но в целевом признаке `product` и `f3` значения равномерно распределены по количеству, и возможно зависят друг от друга"
   ]
  },
  {
   "cell_type": "code",
   "execution_count": 24,
   "metadata": {},
   "outputs": [
    {
     "data": {
      "application/vnd.plotly.v1+json": {
       "config": {
        "plotlyServerURL": "https://plot.ly"
       },
       "data": [
        {
         "coloraxis": "coloraxis",
         "hovertemplate": "x: %{x}<br>y: %{y}<br>color: %{z}<extra></extra>",
         "name": "0",
         "texttemplate": "%{z:.2f}",
         "type": "heatmap",
         "x": [
          "f0",
          "f1",
          "f2",
          "product"
         ],
         "xaxis": "x",
         "y": [
          "f0",
          "f1",
          "f2",
          "product"
         ],
         "yaxis": "y",
         "z": [
          [
           1,
           0.182286533113734,
           -0.0017770360788093515,
           -0.030490530564375527
          ],
          [
           0.182286533113734,
           1,
           -0.0025953204598529343,
           -0.010154931786466275
          ],
          [
           -0.0017770360788093515,
           -0.0025953204598529343,
           1,
           0.9993969704906632
          ],
          [
           -0.030490530564375527,
           -0.010154931786466275,
           0.9993969704906632,
           1
          ]
         ]
        }
       ],
       "layout": {
        "coloraxis": {
         "colorscale": [
          [
           0,
           "#0d0887"
          ],
          [
           0.1111111111111111,
           "#46039f"
          ],
          [
           0.2222222222222222,
           "#7201a8"
          ],
          [
           0.3333333333333333,
           "#9c179e"
          ],
          [
           0.4444444444444444,
           "#bd3786"
          ],
          [
           0.5555555555555556,
           "#d8576b"
          ],
          [
           0.6666666666666666,
           "#ed7953"
          ],
          [
           0.7777777777777778,
           "#fb9f3a"
          ],
          [
           0.8888888888888888,
           "#fdca26"
          ],
          [
           1,
           "#f0f921"
          ]
         ]
        },
        "height": 400,
        "margin": {
         "t": 60
        },
        "template": {
         "data": {
          "bar": [
           {
            "error_x": {
             "color": "#2a3f5f"
            },
            "error_y": {
             "color": "#2a3f5f"
            },
            "marker": {
             "line": {
              "color": "#E5ECF6",
              "width": 0.5
             },
             "pattern": {
              "fillmode": "overlay",
              "size": 10,
              "solidity": 0.2
             }
            },
            "type": "bar"
           }
          ],
          "barpolar": [
           {
            "marker": {
             "line": {
              "color": "#E5ECF6",
              "width": 0.5
             },
             "pattern": {
              "fillmode": "overlay",
              "size": 10,
              "solidity": 0.2
             }
            },
            "type": "barpolar"
           }
          ],
          "carpet": [
           {
            "aaxis": {
             "endlinecolor": "#2a3f5f",
             "gridcolor": "white",
             "linecolor": "white",
             "minorgridcolor": "white",
             "startlinecolor": "#2a3f5f"
            },
            "baxis": {
             "endlinecolor": "#2a3f5f",
             "gridcolor": "white",
             "linecolor": "white",
             "minorgridcolor": "white",
             "startlinecolor": "#2a3f5f"
            },
            "type": "carpet"
           }
          ],
          "choropleth": [
           {
            "colorbar": {
             "outlinewidth": 0,
             "ticks": ""
            },
            "type": "choropleth"
           }
          ],
          "contour": [
           {
            "colorbar": {
             "outlinewidth": 0,
             "ticks": ""
            },
            "colorscale": [
             [
              0,
              "#0d0887"
             ],
             [
              0.1111111111111111,
              "#46039f"
             ],
             [
              0.2222222222222222,
              "#7201a8"
             ],
             [
              0.3333333333333333,
              "#9c179e"
             ],
             [
              0.4444444444444444,
              "#bd3786"
             ],
             [
              0.5555555555555556,
              "#d8576b"
             ],
             [
              0.6666666666666666,
              "#ed7953"
             ],
             [
              0.7777777777777778,
              "#fb9f3a"
             ],
             [
              0.8888888888888888,
              "#fdca26"
             ],
             [
              1,
              "#f0f921"
             ]
            ],
            "type": "contour"
           }
          ],
          "contourcarpet": [
           {
            "colorbar": {
             "outlinewidth": 0,
             "ticks": ""
            },
            "type": "contourcarpet"
           }
          ],
          "heatmap": [
           {
            "colorbar": {
             "outlinewidth": 0,
             "ticks": ""
            },
            "colorscale": [
             [
              0,
              "#0d0887"
             ],
             [
              0.1111111111111111,
              "#46039f"
             ],
             [
              0.2222222222222222,
              "#7201a8"
             ],
             [
              0.3333333333333333,
              "#9c179e"
             ],
             [
              0.4444444444444444,
              "#bd3786"
             ],
             [
              0.5555555555555556,
              "#d8576b"
             ],
             [
              0.6666666666666666,
              "#ed7953"
             ],
             [
              0.7777777777777778,
              "#fb9f3a"
             ],
             [
              0.8888888888888888,
              "#fdca26"
             ],
             [
              1,
              "#f0f921"
             ]
            ],
            "type": "heatmap"
           }
          ],
          "heatmapgl": [
           {
            "colorbar": {
             "outlinewidth": 0,
             "ticks": ""
            },
            "colorscale": [
             [
              0,
              "#0d0887"
             ],
             [
              0.1111111111111111,
              "#46039f"
             ],
             [
              0.2222222222222222,
              "#7201a8"
             ],
             [
              0.3333333333333333,
              "#9c179e"
             ],
             [
              0.4444444444444444,
              "#bd3786"
             ],
             [
              0.5555555555555556,
              "#d8576b"
             ],
             [
              0.6666666666666666,
              "#ed7953"
             ],
             [
              0.7777777777777778,
              "#fb9f3a"
             ],
             [
              0.8888888888888888,
              "#fdca26"
             ],
             [
              1,
              "#f0f921"
             ]
            ],
            "type": "heatmapgl"
           }
          ],
          "histogram": [
           {
            "marker": {
             "pattern": {
              "fillmode": "overlay",
              "size": 10,
              "solidity": 0.2
             }
            },
            "type": "histogram"
           }
          ],
          "histogram2d": [
           {
            "colorbar": {
             "outlinewidth": 0,
             "ticks": ""
            },
            "colorscale": [
             [
              0,
              "#0d0887"
             ],
             [
              0.1111111111111111,
              "#46039f"
             ],
             [
              0.2222222222222222,
              "#7201a8"
             ],
             [
              0.3333333333333333,
              "#9c179e"
             ],
             [
              0.4444444444444444,
              "#bd3786"
             ],
             [
              0.5555555555555556,
              "#d8576b"
             ],
             [
              0.6666666666666666,
              "#ed7953"
             ],
             [
              0.7777777777777778,
              "#fb9f3a"
             ],
             [
              0.8888888888888888,
              "#fdca26"
             ],
             [
              1,
              "#f0f921"
             ]
            ],
            "type": "histogram2d"
           }
          ],
          "histogram2dcontour": [
           {
            "colorbar": {
             "outlinewidth": 0,
             "ticks": ""
            },
            "colorscale": [
             [
              0,
              "#0d0887"
             ],
             [
              0.1111111111111111,
              "#46039f"
             ],
             [
              0.2222222222222222,
              "#7201a8"
             ],
             [
              0.3333333333333333,
              "#9c179e"
             ],
             [
              0.4444444444444444,
              "#bd3786"
             ],
             [
              0.5555555555555556,
              "#d8576b"
             ],
             [
              0.6666666666666666,
              "#ed7953"
             ],
             [
              0.7777777777777778,
              "#fb9f3a"
             ],
             [
              0.8888888888888888,
              "#fdca26"
             ],
             [
              1,
              "#f0f921"
             ]
            ],
            "type": "histogram2dcontour"
           }
          ],
          "mesh3d": [
           {
            "colorbar": {
             "outlinewidth": 0,
             "ticks": ""
            },
            "type": "mesh3d"
           }
          ],
          "parcoords": [
           {
            "line": {
             "colorbar": {
              "outlinewidth": 0,
              "ticks": ""
             }
            },
            "type": "parcoords"
           }
          ],
          "pie": [
           {
            "automargin": true,
            "type": "pie"
           }
          ],
          "scatter": [
           {
            "marker": {
             "colorbar": {
              "outlinewidth": 0,
              "ticks": ""
             }
            },
            "type": "scatter"
           }
          ],
          "scatter3d": [
           {
            "line": {
             "colorbar": {
              "outlinewidth": 0,
              "ticks": ""
             }
            },
            "marker": {
             "colorbar": {
              "outlinewidth": 0,
              "ticks": ""
             }
            },
            "type": "scatter3d"
           }
          ],
          "scattercarpet": [
           {
            "marker": {
             "colorbar": {
              "outlinewidth": 0,
              "ticks": ""
             }
            },
            "type": "scattercarpet"
           }
          ],
          "scattergeo": [
           {
            "marker": {
             "colorbar": {
              "outlinewidth": 0,
              "ticks": ""
             }
            },
            "type": "scattergeo"
           }
          ],
          "scattergl": [
           {
            "marker": {
             "colorbar": {
              "outlinewidth": 0,
              "ticks": ""
             }
            },
            "type": "scattergl"
           }
          ],
          "scattermapbox": [
           {
            "marker": {
             "colorbar": {
              "outlinewidth": 0,
              "ticks": ""
             }
            },
            "type": "scattermapbox"
           }
          ],
          "scatterpolar": [
           {
            "marker": {
             "colorbar": {
              "outlinewidth": 0,
              "ticks": ""
             }
            },
            "type": "scatterpolar"
           }
          ],
          "scatterpolargl": [
           {
            "marker": {
             "colorbar": {
              "outlinewidth": 0,
              "ticks": ""
             }
            },
            "type": "scatterpolargl"
           }
          ],
          "scatterternary": [
           {
            "marker": {
             "colorbar": {
              "outlinewidth": 0,
              "ticks": ""
             }
            },
            "type": "scatterternary"
           }
          ],
          "surface": [
           {
            "colorbar": {
             "outlinewidth": 0,
             "ticks": ""
            },
            "colorscale": [
             [
              0,
              "#0d0887"
             ],
             [
              0.1111111111111111,
              "#46039f"
             ],
             [
              0.2222222222222222,
              "#7201a8"
             ],
             [
              0.3333333333333333,
              "#9c179e"
             ],
             [
              0.4444444444444444,
              "#bd3786"
             ],
             [
              0.5555555555555556,
              "#d8576b"
             ],
             [
              0.6666666666666666,
              "#ed7953"
             ],
             [
              0.7777777777777778,
              "#fb9f3a"
             ],
             [
              0.8888888888888888,
              "#fdca26"
             ],
             [
              1,
              "#f0f921"
             ]
            ],
            "type": "surface"
           }
          ],
          "table": [
           {
            "cells": {
             "fill": {
              "color": "#EBF0F8"
             },
             "line": {
              "color": "white"
             }
            },
            "header": {
             "fill": {
              "color": "#C8D4E3"
             },
             "line": {
              "color": "white"
             }
            },
            "type": "table"
           }
          ]
         },
         "layout": {
          "annotationdefaults": {
           "arrowcolor": "#2a3f5f",
           "arrowhead": 0,
           "arrowwidth": 1
          },
          "autotypenumbers": "strict",
          "coloraxis": {
           "colorbar": {
            "outlinewidth": 0,
            "ticks": ""
           }
          },
          "colorscale": {
           "diverging": [
            [
             0,
             "#8e0152"
            ],
            [
             0.1,
             "#c51b7d"
            ],
            [
             0.2,
             "#de77ae"
            ],
            [
             0.3,
             "#f1b6da"
            ],
            [
             0.4,
             "#fde0ef"
            ],
            [
             0.5,
             "#f7f7f7"
            ],
            [
             0.6,
             "#e6f5d0"
            ],
            [
             0.7,
             "#b8e186"
            ],
            [
             0.8,
             "#7fbc41"
            ],
            [
             0.9,
             "#4d9221"
            ],
            [
             1,
             "#276419"
            ]
           ],
           "sequential": [
            [
             0,
             "#0d0887"
            ],
            [
             0.1111111111111111,
             "#46039f"
            ],
            [
             0.2222222222222222,
             "#7201a8"
            ],
            [
             0.3333333333333333,
             "#9c179e"
            ],
            [
             0.4444444444444444,
             "#bd3786"
            ],
            [
             0.5555555555555556,
             "#d8576b"
            ],
            [
             0.6666666666666666,
             "#ed7953"
            ],
            [
             0.7777777777777778,
             "#fb9f3a"
            ],
            [
             0.8888888888888888,
             "#fdca26"
            ],
            [
             1,
             "#f0f921"
            ]
           ],
           "sequentialminus": [
            [
             0,
             "#0d0887"
            ],
            [
             0.1111111111111111,
             "#46039f"
            ],
            [
             0.2222222222222222,
             "#7201a8"
            ],
            [
             0.3333333333333333,
             "#9c179e"
            ],
            [
             0.4444444444444444,
             "#bd3786"
            ],
            [
             0.5555555555555556,
             "#d8576b"
            ],
            [
             0.6666666666666666,
             "#ed7953"
            ],
            [
             0.7777777777777778,
             "#fb9f3a"
            ],
            [
             0.8888888888888888,
             "#fdca26"
            ],
            [
             1,
             "#f0f921"
            ]
           ]
          },
          "colorway": [
           "#636efa",
           "#EF553B",
           "#00cc96",
           "#ab63fa",
           "#FFA15A",
           "#19d3f3",
           "#FF6692",
           "#B6E880",
           "#FF97FF",
           "#FECB52"
          ],
          "font": {
           "color": "#2a3f5f"
          },
          "geo": {
           "bgcolor": "white",
           "lakecolor": "white",
           "landcolor": "#E5ECF6",
           "showlakes": true,
           "showland": true,
           "subunitcolor": "white"
          },
          "hoverlabel": {
           "align": "left"
          },
          "hovermode": "closest",
          "mapbox": {
           "style": "light"
          },
          "paper_bgcolor": "white",
          "plot_bgcolor": "#E5ECF6",
          "polar": {
           "angularaxis": {
            "gridcolor": "white",
            "linecolor": "white",
            "ticks": ""
           },
           "bgcolor": "#E5ECF6",
           "radialaxis": {
            "gridcolor": "white",
            "linecolor": "white",
            "ticks": ""
           }
          },
          "scene": {
           "xaxis": {
            "backgroundcolor": "#E5ECF6",
            "gridcolor": "white",
            "gridwidth": 2,
            "linecolor": "white",
            "showbackground": true,
            "ticks": "",
            "zerolinecolor": "white"
           },
           "yaxis": {
            "backgroundcolor": "#E5ECF6",
            "gridcolor": "white",
            "gridwidth": 2,
            "linecolor": "white",
            "showbackground": true,
            "ticks": "",
            "zerolinecolor": "white"
           },
           "zaxis": {
            "backgroundcolor": "#E5ECF6",
            "gridcolor": "white",
            "gridwidth": 2,
            "linecolor": "white",
            "showbackground": true,
            "ticks": "",
            "zerolinecolor": "white"
           }
          },
          "shapedefaults": {
           "line": {
            "color": "#2a3f5f"
           }
          },
          "ternary": {
           "aaxis": {
            "gridcolor": "white",
            "linecolor": "white",
            "ticks": ""
           },
           "baxis": {
            "gridcolor": "white",
            "linecolor": "white",
            "ticks": ""
           },
           "bgcolor": "#E5ECF6",
           "caxis": {
            "gridcolor": "white",
            "linecolor": "white",
            "ticks": ""
           }
          },
          "title": {
           "x": 0.05
          },
          "xaxis": {
           "automargin": true,
           "gridcolor": "white",
           "linecolor": "white",
           "ticks": "",
           "title": {
            "standoff": 15
           },
           "zerolinecolor": "white",
           "zerolinewidth": 2
          },
          "yaxis": {
           "automargin": true,
           "gridcolor": "white",
           "linecolor": "white",
           "ticks": "",
           "title": {
            "standoff": 15
           },
           "zerolinecolor": "white",
           "zerolinewidth": 2
          }
         }
        },
        "width": 400,
        "xaxis": {
         "anchor": "y",
         "autorange": true,
         "constrain": "domain",
         "domain": [
          0,
          1
         ],
         "range": [
          -0.5,
          3.5
         ],
         "scaleanchor": "y",
         "type": "category"
        },
        "yaxis": {
         "anchor": "x",
         "autorange": true,
         "constrain": "domain",
         "domain": [
          0.050000000000000044,
          0.95
         ],
         "range": [
          3.5,
          -0.5
         ],
         "type": "category"
        }
       }
      },
      "image/png": "[encoded data removed]",
      "text/html": [
       "<div>                            <div id=\"77f0ea21-3711-49c6-92f7-e6e4efa100ac\" class=\"plotly-graph-div\" style=\"height:400px; width:400px;\"></div>            <script type=\"text/javascript\">                require([\"plotly\"], function(Plotly) {                    window.PLOTLYENV=window.PLOTLYENV || {};                                    if (document.getElementById(\"77f0ea21-3711-49c6-92f7-e6e4efa100ac\")) {                    Plotly.newPlot(                        \"77f0ea21-3711-49c6-92f7-e6e4efa100ac\",                        [{\"coloraxis\":\"coloraxis\",\"name\":\"0\",\"texttemplate\":\"%{z:.2f}\",\"x\":[\"f0\",\"f1\",\"f2\",\"product\"],\"y\":[\"f0\",\"f1\",\"f2\",\"product\"],\"z\":[[1.0,0.182286533113734,-0.0017770360788093515,-0.030490530564375527],[0.182286533113734,1.0,-0.0025953204598529343,-0.010154931786466275],[-0.0017770360788093515,-0.0025953204598529343,1.0,0.9993969704906632],[-0.030490530564375527,-0.010154931786466275,0.9993969704906632,1.0]],\"type\":\"heatmap\",\"xaxis\":\"x\",\"yaxis\":\"y\",\"hovertemplate\":\"x: %{x}<br>y: %{y}<br>color: %{z}<extra></extra>\"}],                        {\"template\":{\"data\":{\"bar\":[{\"error_x\":{\"color\":\"#2a3f5f\"},\"error_y\":{\"color\":\"#2a3f5f\"},\"marker\":{\"line\":{\"color\":\"#E5ECF6\",\"width\":0.5},\"pattern\":{\"fillmode\":\"overlay\",\"size\":10,\"solidity\":0.2}},\"type\":\"bar\"}],\"barpolar\":[{\"marker\":{\"line\":{\"color\":\"#E5ECF6\",\"width\":0.5},\"pattern\":{\"fillmode\":\"overlay\",\"size\":10,\"solidity\":0.2}},\"type\":\"barpolar\"}],\"carpet\":[{\"aaxis\":{\"endlinecolor\":\"#2a3f5f\",\"gridcolor\":\"white\",\"linecolor\":\"white\",\"minorgridcolor\":\"white\",\"startlinecolor\":\"#2a3f5f\"},\"baxis\":{\"endlinecolor\":\"#2a3f5f\",\"gridcolor\":\"white\",\"linecolor\":\"white\",\"minorgridcolor\":\"white\",\"startlinecolor\":\"#2a3f5f\"},\"type\":\"carpet\"}],\"choropleth\":[{\"colorbar\":{\"outlinewidth\":0,\"ticks\":\"\"},\"type\":\"choropleth\"}],\"contour\":[{\"colorbar\":{\"outlinewidth\":0,\"ticks\":\"\"},\"colorscale\":[[0.0,\"#0d0887\"],[0.1111111111111111,\"#46039f\"],[0.2222222222222222,\"#7201a8\"],[0.3333333333333333,\"#9c179e\"],[0.4444444444444444,\"#bd3786\"],[0.5555555555555556,\"#d8576b\"],[0.6666666666666666,\"#ed7953\"],[0.7777777777777778,\"#fb9f3a\"],[0.8888888888888888,\"#fdca26\"],[1.0,\"#f0f921\"]],\"type\":\"contour\"}],\"contourcarpet\":[{\"colorbar\":{\"outlinewidth\":0,\"ticks\":\"\"},\"type\":\"contourcarpet\"}],\"heatmap\":[{\"colorbar\":{\"outlinewidth\":0,\"ticks\":\"\"},\"colorscale\":[[0.0,\"#0d0887\"],[0.1111111111111111,\"#46039f\"],[0.2222222222222222,\"#7201a8\"],[0.3333333333333333,\"#9c179e\"],[0.4444444444444444,\"#bd3786\"],[0.5555555555555556,\"#d8576b\"],[0.6666666666666666,\"#ed7953\"],[0.7777777777777778,\"#fb9f3a\"],[0.8888888888888888,\"#fdca26\"],[1.0,\"#f0f921\"]],\"type\":\"heatmap\"}],\"heatmapgl\":[{\"colorbar\":{\"outlinewidth\":0,\"ticks\":\"\"},\"colorscale\":[[0.0,\"#0d0887\"],[0.1111111111111111,\"#46039f\"],[0.2222222222222222,\"#7201a8\"],[0.3333333333333333,\"#9c179e\"],[0.4444444444444444,\"#bd3786\"],[0.5555555555555556,\"#d8576b\"],[0.6666666666666666,\"#ed7953\"],[0.7777777777777778,\"#fb9f3a\"],[0.8888888888888888,\"#fdca26\"],[1.0,\"#f0f921\"]],\"type\":\"heatmapgl\"}],\"histogram\":[{\"marker\":{\"pattern\":{\"fillmode\":\"overlay\",\"size\":10,\"solidity\":0.2}},\"type\":\"histogram\"}],\"histogram2d\":[{\"colorbar\":{\"outlinewidth\":0,\"ticks\":\"\"},\"colorscale\":[[0.0,\"#0d0887\"],[0.1111111111111111,\"#46039f\"],[0.2222222222222222,\"#7201a8\"],[0.3333333333333333,\"#9c179e\"],[0.4444444444444444,\"#bd3786\"],[0.5555555555555556,\"#d8576b\"],[0.6666666666666666,\"#ed7953\"],[0.7777777777777778,\"#fb9f3a\"],[0.8888888888888888,\"#fdca26\"],[1.0,\"#f0f921\"]],\"type\":\"histogram2d\"}],\"histogram2dcontour\":[{\"colorbar\":{\"outlinewidth\":0,\"ticks\":\"\"},\"colorscale\":[[0.0,\"#0d0887\"],[0.1111111111111111,\"#46039f\"],[0.2222222222222222,\"#7201a8\"],[0.3333333333333333,\"#9c179e\"],[0.4444444444444444,\"#bd3786\"],[0.5555555555555556,\"#d8576b\"],[0.6666666666666666,\"#ed7953\"],[0.7777777777777778,\"#fb9f3a\"],[0.8888888888888888,\"#fdca26\"],[1.0,\"#f0f921\"]],\"type\":\"histogram2dcontour\"}],\"mesh3d\":[{\"colorbar\":{\"outlinewidth\":0,\"ticks\":\"\"},\"type\":\"mesh3d\"}],\"parcoords\":[{\"line\":{\"colorbar\":{\"outlinewidth\":0,\"ticks\":\"\"}},\"type\":\"parcoords\"}],\"pie\":[{\"automargin\":true,\"type\":\"pie\"}],\"scatter\":[{\"marker\":{\"colorbar\":{\"outlinewidth\":0,\"ticks\":\"\"}},\"type\":\"scatter\"}],\"scatter3d\":[{\"line\":{\"colorbar\":{\"outlinewidth\":0,\"ticks\":\"\"}},\"marker\":{\"colorbar\":{\"outlinewidth\":0,\"ticks\":\"\"}},\"type\":\"scatter3d\"}],\"scattercarpet\":[{\"marker\":{\"colorbar\":{\"outlinewidth\":0,\"ticks\":\"\"}},\"type\":\"scattercarpet\"}],\"scattergeo\":[{\"marker\":{\"colorbar\":{\"outlinewidth\":0,\"ticks\":\"\"}},\"type\":\"scattergeo\"}],\"scattergl\":[{\"marker\":{\"colorbar\":{\"outlinewidth\":0,\"ticks\":\"\"}},\"type\":\"scattergl\"}],\"scattermapbox\":[{\"marker\":{\"colorbar\":{\"outlinewidth\":0,\"ticks\":\"\"}},\"type\":\"scattermapbox\"}],\"scatterpolar\":[{\"marker\":{\"colorbar\":{\"outlinewidth\":0,\"ticks\":\"\"}},\"type\":\"scatterpolar\"}],\"scatterpolargl\":[{\"marker\":{\"colorbar\":{\"outlinewidth\":0,\"ticks\":\"\"}},\"type\":\"scatterpolargl\"}],\"scatterternary\":[{\"marker\":{\"colorbar\":{\"outlinewidth\":0,\"ticks\":\"\"}},\"type\":\"scatterternary\"}],\"surface\":[{\"colorbar\":{\"outlinewidth\":0,\"ticks\":\"\"},\"colorscale\":[[0.0,\"#0d0887\"],[0.1111111111111111,\"#46039f\"],[0.2222222222222222,\"#7201a8\"],[0.3333333333333333,\"#9c179e\"],[0.4444444444444444,\"#bd3786\"],[0.5555555555555556,\"#d8576b\"],[0.6666666666666666,\"#ed7953\"],[0.7777777777777778,\"#fb9f3a\"],[0.8888888888888888,\"#fdca26\"],[1.0,\"#f0f921\"]],\"type\":\"surface\"}],\"table\":[{\"cells\":{\"fill\":{\"color\":\"#EBF0F8\"},\"line\":{\"color\":\"white\"}},\"header\":{\"fill\":{\"color\":\"#C8D4E3\"},\"line\":{\"color\":\"white\"}},\"type\":\"table\"}]},\"layout\":{\"annotationdefaults\":{\"arrowcolor\":\"#2a3f5f\",\"arrowhead\":0,\"arrowwidth\":1},\"autotypenumbers\":\"strict\",\"coloraxis\":{\"colorbar\":{\"outlinewidth\":0,\"ticks\":\"\"}},\"colorscale\":{\"diverging\":[[0,\"#8e0152\"],[0.1,\"#c51b7d\"],[0.2,\"#de77ae\"],[0.3,\"#f1b6da\"],[0.4,\"#fde0ef\"],[0.5,\"#f7f7f7\"],[0.6,\"#e6f5d0\"],[0.7,\"#b8e186\"],[0.8,\"#7fbc41\"],[0.9,\"#4d9221\"],[1,\"#276419\"]],\"sequential\":[[0.0,\"#0d0887\"],[0.1111111111111111,\"#46039f\"],[0.2222222222222222,\"#7201a8\"],[0.3333333333333333,\"#9c179e\"],[0.4444444444444444,\"#bd3786\"],[0.5555555555555556,\"#d8576b\"],[0.6666666666666666,\"#ed7953\"],[0.7777777777777778,\"#fb9f3a\"],[0.8888888888888888,\"#fdca26\"],[1.0,\"#f0f921\"]],\"sequentialminus\":[[0.0,\"#0d0887\"],[0.1111111111111111,\"#46039f\"],[0.2222222222222222,\"#7201a8\"],[0.3333333333333333,\"#9c179e\"],[0.4444444444444444,\"#bd3786\"],[0.5555555555555556,\"#d8576b\"],[0.6666666666666666,\"#ed7953\"],[0.7777777777777778,\"#fb9f3a\"],[0.8888888888888888,\"#fdca26\"],[1.0,\"#f0f921\"]]},\"colorway\":[\"#636efa\",\"#EF553B\",\"#00cc96\",\"#ab63fa\",\"#FFA15A\",\"#19d3f3\",\"#FF6692\",\"#B6E880\",\"#FF97FF\",\"#FECB52\"],\"font\":{\"color\":\"#2a3f5f\"},\"geo\":{\"bgcolor\":\"white\",\"lakecolor\":\"white\",\"landcolor\":\"#E5ECF6\",\"showlakes\":true,\"showland\":true,\"subunitcolor\":\"white\"},\"hoverlabel\":{\"align\":\"left\"},\"hovermode\":\"closest\",\"mapbox\":{\"style\":\"light\"},\"paper_bgcolor\":\"white\",\"plot_bgcolor\":\"#E5ECF6\",\"polar\":{\"angularaxis\":{\"gridcolor\":\"white\",\"linecolor\":\"white\",\"ticks\":\"\"},\"bgcolor\":\"#E5ECF6\",\"radialaxis\":{\"gridcolor\":\"white\",\"linecolor\":\"white\",\"ticks\":\"\"}},\"scene\":{\"xaxis\":{\"backgroundcolor\":\"#E5ECF6\",\"gridcolor\":\"white\",\"gridwidth\":2,\"linecolor\":\"white\",\"showbackground\":true,\"ticks\":\"\",\"zerolinecolor\":\"white\"},\"yaxis\":{\"backgroundcolor\":\"#E5ECF6\",\"gridcolor\":\"white\",\"gridwidth\":2,\"linecolor\":\"white\",\"showbackground\":true,\"ticks\":\"\",\"zerolinecolor\":\"white\"},\"zaxis\":{\"backgroundcolor\":\"#E5ECF6\",\"gridcolor\":\"white\",\"gridwidth\":2,\"linecolor\":\"white\",\"showbackground\":true,\"ticks\":\"\",\"zerolinecolor\":\"white\"}},\"shapedefaults\":{\"line\":{\"color\":\"#2a3f5f\"}},\"ternary\":{\"aaxis\":{\"gridcolor\":\"white\",\"linecolor\":\"white\",\"ticks\":\"\"},\"baxis\":{\"gridcolor\":\"white\",\"linecolor\":\"white\",\"ticks\":\"\"},\"bgcolor\":\"#E5ECF6\",\"caxis\":{\"gridcolor\":\"white\",\"linecolor\":\"white\",\"ticks\":\"\"}},\"title\":{\"x\":0.05},\"xaxis\":{\"automargin\":true,\"gridcolor\":\"white\",\"linecolor\":\"white\",\"ticks\":\"\",\"title\":{\"standoff\":15},\"zerolinecolor\":\"white\",\"zerolinewidth\":2},\"yaxis\":{\"automargin\":true,\"gridcolor\":\"white\",\"linecolor\":\"white\",\"ticks\":\"\",\"title\":{\"standoff\":15},\"zerolinecolor\":\"white\",\"zerolinewidth\":2}}},\"xaxis\":{\"anchor\":\"y\",\"domain\":[0.0,1.0],\"scaleanchor\":\"y\",\"constrain\":\"domain\"},\"yaxis\":{\"anchor\":\"x\",\"domain\":[0.0,1.0],\"autorange\":\"reversed\",\"constrain\":\"domain\"},\"coloraxis\":{\"colorscale\":[[0.0,\"#0d0887\"],[0.1111111111111111,\"#46039f\"],[0.2222222222222222,\"#7201a8\"],[0.3333333333333333,\"#9c179e\"],[0.4444444444444444,\"#bd3786\"],[0.5555555555555556,\"#d8576b\"],[0.6666666666666666,\"#ed7953\"],[0.7777777777777778,\"#fb9f3a\"],[0.8888888888888888,\"#fdca26\"],[1.0,\"#f0f921\"]]},\"margin\":{\"t\":60},\"width\":400,\"height\":400},                        {\"responsive\": true}                    ).then(function(){\n",
       "                            \n",
       "var gd = document.getElementById('77f0ea21-3711-49c6-92f7-e6e4efa100ac');\n",
       "var x = new MutationObserver(function (mutations, observer) {{\n",
       "        var display = window.getComputedStyle(gd).display;\n",
       "        if (!display || display === 'none') {{\n",
       "            console.log([gd, 'removed!']);\n",
       "            Plotly.purge(gd);\n",
       "            observer.disconnect();\n",
       "        }}\n",
       "}});\n",
       "\n",
       "// Listen for the removal of the full notebook cells\n",
       "var notebookContainer = gd.closest('#notebook-container');\n",
       "if (notebookContainer) {{\n",
       "    x.observe(notebookContainer, {childList: true});\n",
       "}}\n",
       "\n",
       "// Listen for the clearing of the current output cell\n",
       "var outputEl = gd.closest('.output');\n",
       "if (outputEl) {{\n",
       "    x.observe(outputEl, {childList: true});\n",
       "}}\n",
       "\n",
       "                        })                };                });            </script>        </div>"
      ]
     },
     "metadata": {},
     "output_type": "display_data"
    }
   ],
   "source": [
    "# используем функцию corr\n",
    "corr(df_region_2)"
   ]
  },
  {
   "cell_type": "markdown",
   "metadata": {},
   "source": [
    "В отличие от данных первого региона здесь присутствует очень высокая корреляция целевого признака `product` с данными из столбца `f2` и отсутствует корреляция с другими столбцами `f0` и `f1`. Вышесказанное могло способствовать высоким показателям полученной модели"
   ]
  },
  {
   "cell_type": "markdown",
   "metadata": {},
   "source": [
    "Обучим модель методом линейной регресии для **третьего** региона, выведем оценки и средний запас сырья в месторождении."
   ]
  },
  {
   "cell_type": "code",
   "execution_count": 25,
   "metadata": {},
   "outputs": [
    {
     "name": "stdout",
     "output_type": "stream",
     "text": [
      "R2: 0.2052 \n",
      "MAE: 32.793 \n",
      "RMSE: 40.030 \n",
      "Средний запас: 95.0 тыс. б.\n"
     ]
    }
   ],
   "source": [
    "# создадим модель линейной регрессии\n",
    "lr_3 = LinearRegression().fit(features_3_train, target_3_train)\n",
    "# обучаем модель\n",
    "predictions_3 = lr_3.predict(features_3_valid)\n",
    "# выведем значения оценок и средний запас сырья в месторождении\n",
    "r2 = r2_score(target_3_valid,predictions_3)\n",
    "mae = mean_absolute_error(target_3_valid,predictions_3)\n",
    "rmse = mean_squared_error(target_3_valid,predictions_3)**0.5\n",
    "print('R2:','{:.4f}'.format(r2),\n",
    "      '\\nMAE:','{:.3f}'.format(mae),\n",
    "      '\\nRMSE:','{:.3f}'.format(rmse),\n",
    "      '\\nСредний запас:','{:.1f}'.format(target_3.mean()),'тыс. б.')"
   ]
  },
  {
   "cell_type": "markdown",
   "metadata": {},
   "source": [
    "Видим, что показатели модели низкие, даже ниже чем у модели первого региона. RMSE составляеет целых 40,03 тыс. б., а MAE составляет 32,79 тыс. б., когда как среднее значение по датасету у нас 95,0 тыс. б. Коэффициент детерминации равен 0,205, что ближе к нулю и говорит, что легче вычислять среднее в данное датасете.\n",
    "\n",
    "Проведем небольшой анализ датасета **третьего** региона. Может как и в первом датасете данные слабо связаны между с собой и поэтому модель показывает низкие результаты"
   ]
  },
  {
   "cell_type": "code",
   "execution_count": null,
   "metadata": {},
   "outputs": [],
   "source": [
    "# используем функцию hists\n",
    "hists(df_region_3)"
   ]
  },
  {
   "cell_type": "markdown",
   "metadata": {},
   "source": [
    "Также как и в первом датасете видим нормальное распределение данных по всем столбцам"
   ]
  },
  {
   "cell_type": "code",
   "execution_count": 27,
   "metadata": {},
   "outputs": [
    {
     "data": {
      "application/vnd.plotly.v1+json": {
       "config": {
        "plotlyServerURL": "https://plot.ly"
       },
       "data": [
        {
         "coloraxis": "coloraxis",
         "hovertemplate": "x: %{x}<br>y: %{y}<br>color: %{z}<extra></extra>",
         "name": "0",
         "texttemplate": "%{z:.2f}",
         "type": "heatmap",
         "x": [
          "f0",
          "f1",
          "f2",
          "product"
         ],
         "xaxis": "x",
         "y": [
          "f0",
          "f1",
          "f2",
          "product"
         ],
         "yaxis": "y",
         "z": [
          [
           1,
           0.0005282827065542311,
           -0.00044813310658758194,
           -0.0019870619990491637
          ],
          [
           0.0005282827065542311,
           1,
           0.0007786614973662703,
           -0.0010123938161308976
          ],
          [
           -0.00044813310658758194,
           0.0007786614973662703,
           1,
           0.44587109155741134
          ],
          [
           -0.0019870619990491637,
           -0.0010123938161308976,
           0.44587109155741134,
           1
          ]
         ]
        }
       ],
       "layout": {
        "coloraxis": {
         "colorscale": [
          [
           0,
           "#0d0887"
          ],
          [
           0.1111111111111111,
           "#46039f"
          ],
          [
           0.2222222222222222,
           "#7201a8"
          ],
          [
           0.3333333333333333,
           "#9c179e"
          ],
          [
           0.4444444444444444,
           "#bd3786"
          ],
          [
           0.5555555555555556,
           "#d8576b"
          ],
          [
           0.6666666666666666,
           "#ed7953"
          ],
          [
           0.7777777777777778,
           "#fb9f3a"
          ],
          [
           0.8888888888888888,
           "#fdca26"
          ],
          [
           1,
           "#f0f921"
          ]
         ]
        },
        "height": 400,
        "margin": {
         "t": 60
        },
        "template": {
         "data": {
          "bar": [
           {
            "error_x": {
             "color": "#2a3f5f"
            },
            "error_y": {
             "color": "#2a3f5f"
            },
            "marker": {
             "line": {
              "color": "#E5ECF6",
              "width": 0.5
             },
             "pattern": {
              "fillmode": "overlay",
              "size": 10,
              "solidity": 0.2
             }
            },
            "type": "bar"
           }
          ],
          "barpolar": [
           {
            "marker": {
             "line": {
              "color": "#E5ECF6",
              "width": 0.5
             },
             "pattern": {
              "fillmode": "overlay",
              "size": 10,
              "solidity": 0.2
             }
            },
            "type": "barpolar"
           }
          ],
          "carpet": [
           {
            "aaxis": {
             "endlinecolor": "#2a3f5f",
             "gridcolor": "white",
             "linecolor": "white",
             "minorgridcolor": "white",
             "startlinecolor": "#2a3f5f"
            },
            "baxis": {
             "endlinecolor": "#2a3f5f",
             "gridcolor": "white",
             "linecolor": "white",
             "minorgridcolor": "white",
             "startlinecolor": "#2a3f5f"
            },
            "type": "carpet"
           }
          ],
          "choropleth": [
           {
            "colorbar": {
             "outlinewidth": 0,
             "ticks": ""
            },
            "type": "choropleth"
           }
          ],
          "contour": [
           {
            "colorbar": {
             "outlinewidth": 0,
             "ticks": ""
            },
            "colorscale": [
             [
              0,
              "#0d0887"
             ],
             [
              0.1111111111111111,
              "#46039f"
             ],
             [
              0.2222222222222222,
              "#7201a8"
             ],
             [
              0.3333333333333333,
              "#9c179e"
             ],
             [
              0.4444444444444444,
              "#bd3786"
             ],
             [
              0.5555555555555556,
              "#d8576b"
             ],
             [
              0.6666666666666666,
              "#ed7953"
             ],
             [
              0.7777777777777778,
              "#fb9f3a"
             ],
             [
              0.8888888888888888,
              "#fdca26"
             ],
             [
              1,
              "#f0f921"
             ]
            ],
            "type": "contour"
           }
          ],
          "contourcarpet": [
           {
            "colorbar": {
             "outlinewidth": 0,
             "ticks": ""
            },
            "type": "contourcarpet"
           }
          ],
          "heatmap": [
           {
            "colorbar": {
             "outlinewidth": 0,
             "ticks": ""
            },
            "colorscale": [
             [
              0,
              "#0d0887"
             ],
             [
              0.1111111111111111,
              "#46039f"
             ],
             [
              0.2222222222222222,
              "#7201a8"
             ],
             [
              0.3333333333333333,
              "#9c179e"
             ],
             [
              0.4444444444444444,
              "#bd3786"
             ],
             [
              0.5555555555555556,
              "#d8576b"
             ],
             [
              0.6666666666666666,
              "#ed7953"
             ],
             [
              0.7777777777777778,
              "#fb9f3a"
             ],
             [
              0.8888888888888888,
              "#fdca26"
             ],
             [
              1,
              "#f0f921"
             ]
            ],
            "type": "heatmap"
           }
          ],
          "heatmapgl": [
           {
            "colorbar": {
             "outlinewidth": 0,
             "ticks": ""
            },
            "colorscale": [
             [
              0,
              "#0d0887"
             ],
             [
              0.1111111111111111,
              "#46039f"
             ],
             [
              0.2222222222222222,
              "#7201a8"
             ],
             [
              0.3333333333333333,
              "#9c179e"
             ],
             [
              0.4444444444444444,
              "#bd3786"
             ],
             [
              0.5555555555555556,
              "#d8576b"
             ],
             [
              0.6666666666666666,
              "#ed7953"
             ],
             [
              0.7777777777777778,
              "#fb9f3a"
             ],
             [
              0.8888888888888888,
              "#fdca26"
             ],
             [
              1,
              "#f0f921"
             ]
            ],
            "type": "heatmapgl"
           }
          ],
          "histogram": [
           {
            "marker": {
             "pattern": {
              "fillmode": "overlay",
              "size": 10,
              "solidity": 0.2
             }
            },
            "type": "histogram"
           }
          ],
          "histogram2d": [
           {
            "colorbar": {
             "outlinewidth": 0,
             "ticks": ""
            },
            "colorscale": [
             [
              0,
              "#0d0887"
             ],
             [
              0.1111111111111111,
              "#46039f"
             ],
             [
              0.2222222222222222,
              "#7201a8"
             ],
             [
              0.3333333333333333,
              "#9c179e"
             ],
             [
              0.4444444444444444,
              "#bd3786"
             ],
             [
              0.5555555555555556,
              "#d8576b"
             ],
             [
              0.6666666666666666,
              "#ed7953"
             ],
             [
              0.7777777777777778,
              "#fb9f3a"
             ],
             [
              0.8888888888888888,
              "#fdca26"
             ],
             [
              1,
              "#f0f921"
             ]
            ],
            "type": "histogram2d"
           }
          ],
          "histogram2dcontour": [
           {
            "colorbar": {
             "outlinewidth": 0,
             "ticks": ""
            },
            "colorscale": [
             [
              0,
              "#0d0887"
             ],
             [
              0.1111111111111111,
              "#46039f"
             ],
             [
              0.2222222222222222,
              "#7201a8"
             ],
             [
              0.3333333333333333,
              "#9c179e"
             ],
             [
              0.4444444444444444,
              "#bd3786"
             ],
             [
              0.5555555555555556,
              "#d8576b"
             ],
             [
              0.6666666666666666,
              "#ed7953"
             ],
             [
              0.7777777777777778,
              "#fb9f3a"
             ],
             [
              0.8888888888888888,
              "#fdca26"
             ],
             [
              1,
              "#f0f921"
             ]
            ],
            "type": "histogram2dcontour"
           }
          ],
          "mesh3d": [
           {
            "colorbar": {
             "outlinewidth": 0,
             "ticks": ""
            },
            "type": "mesh3d"
           }
          ],
          "parcoords": [
           {
            "line": {
             "colorbar": {
              "outlinewidth": 0,
              "ticks": ""
             }
            },
            "type": "parcoords"
           }
          ],
          "pie": [
           {
            "automargin": true,
            "type": "pie"
           }
          ],
          "scatter": [
           {
            "marker": {
             "colorbar": {
              "outlinewidth": 0,
              "ticks": ""
             }
            },
            "type": "scatter"
           }
          ],
          "scatter3d": [
           {
            "line": {
             "colorbar": {
              "outlinewidth": 0,
              "ticks": ""
             }
            },
            "marker": {
             "colorbar": {
              "outlinewidth": 0,
              "ticks": ""
             }
            },
            "type": "scatter3d"
           }
          ],
          "scattercarpet": [
           {
            "marker": {
             "colorbar": {
              "outlinewidth": 0,
              "ticks": ""
             }
            },
            "type": "scattercarpet"
           }
          ],
          "scattergeo": [
           {
            "marker": {
             "colorbar": {
              "outlinewidth": 0,
              "ticks": ""
             }
            },
            "type": "scattergeo"
           }
          ],
          "scattergl": [
           {
            "marker": {
             "colorbar": {
              "outlinewidth": 0,
              "ticks": ""
             }
            },
            "type": "scattergl"
           }
          ],
          "scattermapbox": [
           {
            "marker": {
             "colorbar": {
              "outlinewidth": 0,
              "ticks": ""
             }
            },
            "type": "scattermapbox"
           }
          ],
          "scatterpolar": [
           {
            "marker": {
             "colorbar": {
              "outlinewidth": 0,
              "ticks": ""
             }
            },
            "type": "scatterpolar"
           }
          ],
          "scatterpolargl": [
           {
            "marker": {
             "colorbar": {
              "outlinewidth": 0,
              "ticks": ""
             }
            },
            "type": "scatterpolargl"
           }
          ],
          "scatterternary": [
           {
            "marker": {
             "colorbar": {
              "outlinewidth": 0,
              "ticks": ""
             }
            },
            "type": "scatterternary"
           }
          ],
          "surface": [
           {
            "colorbar": {
             "outlinewidth": 0,
             "ticks": ""
            },
            "colorscale": [
             [
              0,
              "#0d0887"
             ],
             [
              0.1111111111111111,
              "#46039f"
             ],
             [
              0.2222222222222222,
              "#7201a8"
             ],
             [
              0.3333333333333333,
              "#9c179e"
             ],
             [
              0.4444444444444444,
              "#bd3786"
             ],
             [
              0.5555555555555556,
              "#d8576b"
             ],
             [
              0.6666666666666666,
              "#ed7953"
             ],
             [
              0.7777777777777778,
              "#fb9f3a"
             ],
             [
              0.8888888888888888,
              "#fdca26"
             ],
             [
              1,
              "#f0f921"
             ]
            ],
            "type": "surface"
           }
          ],
          "table": [
           {
            "cells": {
             "fill": {
              "color": "#EBF0F8"
             },
             "line": {
              "color": "white"
             }
            },
            "header": {
             "fill": {
              "color": "#C8D4E3"
             },
             "line": {
              "color": "white"
             }
            },
            "type": "table"
           }
          ]
         },
         "layout": {
          "annotationdefaults": {
           "arrowcolor": "#2a3f5f",
           "arrowhead": 0,
           "arrowwidth": 1
          },
          "autotypenumbers": "strict",
          "coloraxis": {
           "colorbar": {
            "outlinewidth": 0,
            "ticks": ""
           }
          },
          "colorscale": {
           "diverging": [
            [
             0,
             "#8e0152"
            ],
            [
             0.1,
             "#c51b7d"
            ],
            [
             0.2,
             "#de77ae"
            ],
            [
             0.3,
             "#f1b6da"
            ],
            [
             0.4,
             "#fde0ef"
            ],
            [
             0.5,
             "#f7f7f7"
            ],
            [
             0.6,
             "#e6f5d0"
            ],
            [
             0.7,
             "#b8e186"
            ],
            [
             0.8,
             "#7fbc41"
            ],
            [
             0.9,
             "#4d9221"
            ],
            [
             1,
             "#276419"
            ]
           ],
           "sequential": [
            [
             0,
             "#0d0887"
            ],
            [
             0.1111111111111111,
             "#46039f"
            ],
            [
             0.2222222222222222,
             "#7201a8"
            ],
            [
             0.3333333333333333,
             "#9c179e"
            ],
            [
             0.4444444444444444,
             "#bd3786"
            ],
            [
             0.5555555555555556,
             "#d8576b"
            ],
            [
             0.6666666666666666,
             "#ed7953"
            ],
            [
             0.7777777777777778,
             "#fb9f3a"
            ],
            [
             0.8888888888888888,
             "#fdca26"
            ],
            [
             1,
             "#f0f921"
            ]
           ],
           "sequentialminus": [
            [
             0,
             "#0d0887"
            ],
            [
             0.1111111111111111,
             "#46039f"
            ],
            [
             0.2222222222222222,
             "#7201a8"
            ],
            [
             0.3333333333333333,
             "#9c179e"
            ],
            [
             0.4444444444444444,
             "#bd3786"
            ],
            [
             0.5555555555555556,
             "#d8576b"
            ],
            [
             0.6666666666666666,
             "#ed7953"
            ],
            [
             0.7777777777777778,
             "#fb9f3a"
            ],
            [
             0.8888888888888888,
             "#fdca26"
            ],
            [
             1,
             "#f0f921"
            ]
           ]
          },
          "colorway": [
           "#636efa",
           "#EF553B",
           "#00cc96",
           "#ab63fa",
           "#FFA15A",
           "#19d3f3",
           "#FF6692",
           "#B6E880",
           "#FF97FF",
           "#FECB52"
          ],
          "font": {
           "color": "#2a3f5f"
          },
          "geo": {
           "bgcolor": "white",
           "lakecolor": "white",
           "landcolor": "#E5ECF6",
           "showlakes": true,
           "showland": true,
           "subunitcolor": "white"
          },
          "hoverlabel": {
           "align": "left"
          },
          "hovermode": "closest",
          "mapbox": {
           "style": "light"
          },
          "paper_bgcolor": "white",
          "plot_bgcolor": "#E5ECF6",
          "polar": {
           "angularaxis": {
            "gridcolor": "white",
            "linecolor": "white",
            "ticks": ""
           },
           "bgcolor": "#E5ECF6",
           "radialaxis": {
            "gridcolor": "white",
            "linecolor": "white",
            "ticks": ""
           }
          },
          "scene": {
           "xaxis": {
            "backgroundcolor": "#E5ECF6",
            "gridcolor": "white",
            "gridwidth": 2,
            "linecolor": "white",
            "showbackground": true,
            "ticks": "",
            "zerolinecolor": "white"
           },
           "yaxis": {
            "backgroundcolor": "#E5ECF6",
            "gridcolor": "white",
            "gridwidth": 2,
            "linecolor": "white",
            "showbackground": true,
            "ticks": "",
            "zerolinecolor": "white"
           },
           "zaxis": {
            "backgroundcolor": "#E5ECF6",
            "gridcolor": "white",
            "gridwidth": 2,
            "linecolor": "white",
            "showbackground": true,
            "ticks": "",
            "zerolinecolor": "white"
           }
          },
          "shapedefaults": {
           "line": {
            "color": "#2a3f5f"
           }
          },
          "ternary": {
           "aaxis": {
            "gridcolor": "white",
            "linecolor": "white",
            "ticks": ""
           },
           "baxis": {
            "gridcolor": "white",
            "linecolor": "white",
            "ticks": ""
           },
           "bgcolor": "#E5ECF6",
           "caxis": {
            "gridcolor": "white",
            "linecolor": "white",
            "ticks": ""
           }
          },
          "title": {
           "x": 0.05
          },
          "xaxis": {
           "automargin": true,
           "gridcolor": "white",
           "linecolor": "white",
           "ticks": "",
           "title": {
            "standoff": 15
           },
           "zerolinecolor": "white",
           "zerolinewidth": 2
          },
          "yaxis": {
           "automargin": true,
           "gridcolor": "white",
           "linecolor": "white",
           "ticks": "",
           "title": {
            "standoff": 15
           },
           "zerolinecolor": "white",
           "zerolinewidth": 2
          }
         }
        },
        "width": 400,
        "xaxis": {
         "anchor": "y",
         "autorange": true,
         "constrain": "domain",
         "domain": [
          0,
          1
         ],
         "range": [
          -0.5,
          3.5
         ],
         "scaleanchor": "y",
         "type": "category"
        },
        "yaxis": {
         "anchor": "x",
         "autorange": true,
         "constrain": "domain",
         "domain": [
          0.050000000000000044,
          0.95
         ],
         "range": [
          3.5,
          -0.5
         ],
         "type": "category"
        }
       }
      },
      "image/png": "[encoded data removed]",
      "text/html": [
       "<div>                            <div id=\"5f7bbf5e-4d56-4f10-8450-35afa6cfb614\" class=\"plotly-graph-div\" style=\"height:400px; width:400px;\"></div>            <script type=\"text/javascript\">                require([\"plotly\"], function(Plotly) {                    window.PLOTLYENV=window.PLOTLYENV || {};                                    if (document.getElementById(\"5f7bbf5e-4d56-4f10-8450-35afa6cfb614\")) {                    Plotly.newPlot(                        \"5f7bbf5e-4d56-4f10-8450-35afa6cfb614\",                        [{\"coloraxis\":\"coloraxis\",\"name\":\"0\",\"texttemplate\":\"%{z:.2f}\",\"x\":[\"f0\",\"f1\",\"f2\",\"product\"],\"y\":[\"f0\",\"f1\",\"f2\",\"product\"],\"z\":[[1.0,0.0005282827065542311,-0.00044813310658758194,-0.0019870619990491637],[0.0005282827065542311,1.0,0.0007786614973662703,-0.0010123938161308976],[-0.00044813310658758194,0.0007786614973662703,1.0,0.44587109155741134],[-0.0019870619990491637,-0.0010123938161308976,0.44587109155741134,1.0]],\"type\":\"heatmap\",\"xaxis\":\"x\",\"yaxis\":\"y\",\"hovertemplate\":\"x: %{x}<br>y: %{y}<br>color: %{z}<extra></extra>\"}],                        {\"template\":{\"data\":{\"bar\":[{\"error_x\":{\"color\":\"#2a3f5f\"},\"error_y\":{\"color\":\"#2a3f5f\"},\"marker\":{\"line\":{\"color\":\"#E5ECF6\",\"width\":0.5},\"pattern\":{\"fillmode\":\"overlay\",\"size\":10,\"solidity\":0.2}},\"type\":\"bar\"}],\"barpolar\":[{\"marker\":{\"line\":{\"color\":\"#E5ECF6\",\"width\":0.5},\"pattern\":{\"fillmode\":\"overlay\",\"size\":10,\"solidity\":0.2}},\"type\":\"barpolar\"}],\"carpet\":[{\"aaxis\":{\"endlinecolor\":\"#2a3f5f\",\"gridcolor\":\"white\",\"linecolor\":\"white\",\"minorgridcolor\":\"white\",\"startlinecolor\":\"#2a3f5f\"},\"baxis\":{\"endlinecolor\":\"#2a3f5f\",\"gridcolor\":\"white\",\"linecolor\":\"white\",\"minorgridcolor\":\"white\",\"startlinecolor\":\"#2a3f5f\"},\"type\":\"carpet\"}],\"choropleth\":[{\"colorbar\":{\"outlinewidth\":0,\"ticks\":\"\"},\"type\":\"choropleth\"}],\"contour\":[{\"colorbar\":{\"outlinewidth\":0,\"ticks\":\"\"},\"colorscale\":[[0.0,\"#0d0887\"],[0.1111111111111111,\"#46039f\"],[0.2222222222222222,\"#7201a8\"],[0.3333333333333333,\"#9c179e\"],[0.4444444444444444,\"#bd3786\"],[0.5555555555555556,\"#d8576b\"],[0.6666666666666666,\"#ed7953\"],[0.7777777777777778,\"#fb9f3a\"],[0.8888888888888888,\"#fdca26\"],[1.0,\"#f0f921\"]],\"type\":\"contour\"}],\"contourcarpet\":[{\"colorbar\":{\"outlinewidth\":0,\"ticks\":\"\"},\"type\":\"contourcarpet\"}],\"heatmap\":[{\"colorbar\":{\"outlinewidth\":0,\"ticks\":\"\"},\"colorscale\":[[0.0,\"#0d0887\"],[0.1111111111111111,\"#46039f\"],[0.2222222222222222,\"#7201a8\"],[0.3333333333333333,\"#9c179e\"],[0.4444444444444444,\"#bd3786\"],[0.5555555555555556,\"#d8576b\"],[0.6666666666666666,\"#ed7953\"],[0.7777777777777778,\"#fb9f3a\"],[0.8888888888888888,\"#fdca26\"],[1.0,\"#f0f921\"]],\"type\":\"heatmap\"}],\"heatmapgl\":[{\"colorbar\":{\"outlinewidth\":0,\"ticks\":\"\"},\"colorscale\":[[0.0,\"#0d0887\"],[0.1111111111111111,\"#46039f\"],[0.2222222222222222,\"#7201a8\"],[0.3333333333333333,\"#9c179e\"],[0.4444444444444444,\"#bd3786\"],[0.5555555555555556,\"#d8576b\"],[0.6666666666666666,\"#ed7953\"],[0.7777777777777778,\"#fb9f3a\"],[0.8888888888888888,\"#fdca26\"],[1.0,\"#f0f921\"]],\"type\":\"heatmapgl\"}],\"histogram\":[{\"marker\":{\"pattern\":{\"fillmode\":\"overlay\",\"size\":10,\"solidity\":0.2}},\"type\":\"histogram\"}],\"histogram2d\":[{\"colorbar\":{\"outlinewidth\":0,\"ticks\":\"\"},\"colorscale\":[[0.0,\"#0d0887\"],[0.1111111111111111,\"#46039f\"],[0.2222222222222222,\"#7201a8\"],[0.3333333333333333,\"#9c179e\"],[0.4444444444444444,\"#bd3786\"],[0.5555555555555556,\"#d8576b\"],[0.6666666666666666,\"#ed7953\"],[0.7777777777777778,\"#fb9f3a\"],[0.8888888888888888,\"#fdca26\"],[1.0,\"#f0f921\"]],\"type\":\"histogram2d\"}],\"histogram2dcontour\":[{\"colorbar\":{\"outlinewidth\":0,\"ticks\":\"\"},\"colorscale\":[[0.0,\"#0d0887\"],[0.1111111111111111,\"#46039f\"],[0.2222222222222222,\"#7201a8\"],[0.3333333333333333,\"#9c179e\"],[0.4444444444444444,\"#bd3786\"],[0.5555555555555556,\"#d8576b\"],[0.6666666666666666,\"#ed7953\"],[0.7777777777777778,\"#fb9f3a\"],[0.8888888888888888,\"#fdca26\"],[1.0,\"#f0f921\"]],\"type\":\"histogram2dcontour\"}],\"mesh3d\":[{\"colorbar\":{\"outlinewidth\":0,\"ticks\":\"\"},\"type\":\"mesh3d\"}],\"parcoords\":[{\"line\":{\"colorbar\":{\"outlinewidth\":0,\"ticks\":\"\"}},\"type\":\"parcoords\"}],\"pie\":[{\"automargin\":true,\"type\":\"pie\"}],\"scatter\":[{\"marker\":{\"colorbar\":{\"outlinewidth\":0,\"ticks\":\"\"}},\"type\":\"scatter\"}],\"scatter3d\":[{\"line\":{\"colorbar\":{\"outlinewidth\":0,\"ticks\":\"\"}},\"marker\":{\"colorbar\":{\"outlinewidth\":0,\"ticks\":\"\"}},\"type\":\"scatter3d\"}],\"scattercarpet\":[{\"marker\":{\"colorbar\":{\"outlinewidth\":0,\"ticks\":\"\"}},\"type\":\"scattercarpet\"}],\"scattergeo\":[{\"marker\":{\"colorbar\":{\"outlinewidth\":0,\"ticks\":\"\"}},\"type\":\"scattergeo\"}],\"scattergl\":[{\"marker\":{\"colorbar\":{\"outlinewidth\":0,\"ticks\":\"\"}},\"type\":\"scattergl\"}],\"scattermapbox\":[{\"marker\":{\"colorbar\":{\"outlinewidth\":0,\"ticks\":\"\"}},\"type\":\"scattermapbox\"}],\"scatterpolar\":[{\"marker\":{\"colorbar\":{\"outlinewidth\":0,\"ticks\":\"\"}},\"type\":\"scatterpolar\"}],\"scatterpolargl\":[{\"marker\":{\"colorbar\":{\"outlinewidth\":0,\"ticks\":\"\"}},\"type\":\"scatterpolargl\"}],\"scatterternary\":[{\"marker\":{\"colorbar\":{\"outlinewidth\":0,\"ticks\":\"\"}},\"type\":\"scatterternary\"}],\"surface\":[{\"colorbar\":{\"outlinewidth\":0,\"ticks\":\"\"},\"colorscale\":[[0.0,\"#0d0887\"],[0.1111111111111111,\"#46039f\"],[0.2222222222222222,\"#7201a8\"],[0.3333333333333333,\"#9c179e\"],[0.4444444444444444,\"#bd3786\"],[0.5555555555555556,\"#d8576b\"],[0.6666666666666666,\"#ed7953\"],[0.7777777777777778,\"#fb9f3a\"],[0.8888888888888888,\"#fdca26\"],[1.0,\"#f0f921\"]],\"type\":\"surface\"}],\"table\":[{\"cells\":{\"fill\":{\"color\":\"#EBF0F8\"},\"line\":{\"color\":\"white\"}},\"header\":{\"fill\":{\"color\":\"#C8D4E3\"},\"line\":{\"color\":\"white\"}},\"type\":\"table\"}]},\"layout\":{\"annotationdefaults\":{\"arrowcolor\":\"#2a3f5f\",\"arrowhead\":0,\"arrowwidth\":1},\"autotypenumbers\":\"strict\",\"coloraxis\":{\"colorbar\":{\"outlinewidth\":0,\"ticks\":\"\"}},\"colorscale\":{\"diverging\":[[0,\"#8e0152\"],[0.1,\"#c51b7d\"],[0.2,\"#de77ae\"],[0.3,\"#f1b6da\"],[0.4,\"#fde0ef\"],[0.5,\"#f7f7f7\"],[0.6,\"#e6f5d0\"],[0.7,\"#b8e186\"],[0.8,\"#7fbc41\"],[0.9,\"#4d9221\"],[1,\"#276419\"]],\"sequential\":[[0.0,\"#0d0887\"],[0.1111111111111111,\"#46039f\"],[0.2222222222222222,\"#7201a8\"],[0.3333333333333333,\"#9c179e\"],[0.4444444444444444,\"#bd3786\"],[0.5555555555555556,\"#d8576b\"],[0.6666666666666666,\"#ed7953\"],[0.7777777777777778,\"#fb9f3a\"],[0.8888888888888888,\"#fdca26\"],[1.0,\"#f0f921\"]],\"sequentialminus\":[[0.0,\"#0d0887\"],[0.1111111111111111,\"#46039f\"],[0.2222222222222222,\"#7201a8\"],[0.3333333333333333,\"#9c179e\"],[0.4444444444444444,\"#bd3786\"],[0.5555555555555556,\"#d8576b\"],[0.6666666666666666,\"#ed7953\"],[0.7777777777777778,\"#fb9f3a\"],[0.8888888888888888,\"#fdca26\"],[1.0,\"#f0f921\"]]},\"colorway\":[\"#636efa\",\"#EF553B\",\"#00cc96\",\"#ab63fa\",\"#FFA15A\",\"#19d3f3\",\"#FF6692\",\"#B6E880\",\"#FF97FF\",\"#FECB52\"],\"font\":{\"color\":\"#2a3f5f\"},\"geo\":{\"bgcolor\":\"white\",\"lakecolor\":\"white\",\"landcolor\":\"#E5ECF6\",\"showlakes\":true,\"showland\":true,\"subunitcolor\":\"white\"},\"hoverlabel\":{\"align\":\"left\"},\"hovermode\":\"closest\",\"mapbox\":{\"style\":\"light\"},\"paper_bgcolor\":\"white\",\"plot_bgcolor\":\"#E5ECF6\",\"polar\":{\"angularaxis\":{\"gridcolor\":\"white\",\"linecolor\":\"white\",\"ticks\":\"\"},\"bgcolor\":\"#E5ECF6\",\"radialaxis\":{\"gridcolor\":\"white\",\"linecolor\":\"white\",\"ticks\":\"\"}},\"scene\":{\"xaxis\":{\"backgroundcolor\":\"#E5ECF6\",\"gridcolor\":\"white\",\"gridwidth\":2,\"linecolor\":\"white\",\"showbackground\":true,\"ticks\":\"\",\"zerolinecolor\":\"white\"},\"yaxis\":{\"backgroundcolor\":\"#E5ECF6\",\"gridcolor\":\"white\",\"gridwidth\":2,\"linecolor\":\"white\",\"showbackground\":true,\"ticks\":\"\",\"zerolinecolor\":\"white\"},\"zaxis\":{\"backgroundcolor\":\"#E5ECF6\",\"gridcolor\":\"white\",\"gridwidth\":2,\"linecolor\":\"white\",\"showbackground\":true,\"ticks\":\"\",\"zerolinecolor\":\"white\"}},\"shapedefaults\":{\"line\":{\"color\":\"#2a3f5f\"}},\"ternary\":{\"aaxis\":{\"gridcolor\":\"white\",\"linecolor\":\"white\",\"ticks\":\"\"},\"baxis\":{\"gridcolor\":\"white\",\"linecolor\":\"white\",\"ticks\":\"\"},\"bgcolor\":\"#E5ECF6\",\"caxis\":{\"gridcolor\":\"white\",\"linecolor\":\"white\",\"ticks\":\"\"}},\"title\":{\"x\":0.05},\"xaxis\":{\"automargin\":true,\"gridcolor\":\"white\",\"linecolor\":\"white\",\"ticks\":\"\",\"title\":{\"standoff\":15},\"zerolinecolor\":\"white\",\"zerolinewidth\":2},\"yaxis\":{\"automargin\":true,\"gridcolor\":\"white\",\"linecolor\":\"white\",\"ticks\":\"\",\"title\":{\"standoff\":15},\"zerolinecolor\":\"white\",\"zerolinewidth\":2}}},\"xaxis\":{\"anchor\":\"y\",\"domain\":[0.0,1.0],\"scaleanchor\":\"y\",\"constrain\":\"domain\"},\"yaxis\":{\"anchor\":\"x\",\"domain\":[0.0,1.0],\"autorange\":\"reversed\",\"constrain\":\"domain\"},\"coloraxis\":{\"colorscale\":[[0.0,\"#0d0887\"],[0.1111111111111111,\"#46039f\"],[0.2222222222222222,\"#7201a8\"],[0.3333333333333333,\"#9c179e\"],[0.4444444444444444,\"#bd3786\"],[0.5555555555555556,\"#d8576b\"],[0.6666666666666666,\"#ed7953\"],[0.7777777777777778,\"#fb9f3a\"],[0.8888888888888888,\"#fdca26\"],[1.0,\"#f0f921\"]]},\"margin\":{\"t\":60},\"width\":400,\"height\":400},                        {\"responsive\": true}                    ).then(function(){\n",
       "                            \n",
       "var gd = document.getElementById('5f7bbf5e-4d56-4f10-8450-35afa6cfb614');\n",
       "var x = new MutationObserver(function (mutations, observer) {{\n",
       "        var display = window.getComputedStyle(gd).display;\n",
       "        if (!display || display === 'none') {{\n",
       "            console.log([gd, 'removed!']);\n",
       "            Plotly.purge(gd);\n",
       "            observer.disconnect();\n",
       "        }}\n",
       "}});\n",
       "\n",
       "// Listen for the removal of the full notebook cells\n",
       "var notebookContainer = gd.closest('#notebook-container');\n",
       "if (notebookContainer) {{\n",
       "    x.observe(notebookContainer, {childList: true});\n",
       "}}\n",
       "\n",
       "// Listen for the clearing of the current output cell\n",
       "var outputEl = gd.closest('.output');\n",
       "if (outputEl) {{\n",
       "    x.observe(outputEl, {childList: true});\n",
       "}}\n",
       "\n",
       "                        })                };                });            </script>        </div>"
      ]
     },
     "metadata": {},
     "output_type": "display_data"
    }
   ],
   "source": [
    "# используем функцию corr\n",
    "corr(df_region_3)"
   ]
  },
  {
   "cell_type": "markdown",
   "metadata": {},
   "source": [
    "Как видим из матрицы отсутствует корреляция с целевым признаком у показателей `f0` И `f1` и слабая корреляция у столбца `f2`"
   ]
  },
  {
   "cell_type": "markdown",
   "metadata": {},
   "source": [
    "**Выводы**\n",
    "- создали модели линейной регерессии по данным трех регионов. Выявили основные метрики\n",
    "- данные метрик первой и третьей модели низкие в отличие от метрик второй модели, которая очень точно может предсказывать целевой признак\n",
    "- обнаружена взаимосвязь высокой корреляции между признаками и целевым показателем и высоким качеством полученной модели, по данным второго региона. Но может быть это справедливо только для моделей линейно регрессии."
   ]
  },
  {
   "cell_type": "markdown",
   "metadata": {},
   "source": [
    "## Подготовка к расчёту прибыли"
   ]
  },
  {
   "cell_type": "markdown",
   "metadata": {},
   "source": [
    "Сохраним все ключевые значения для расчётов в отдельных переменных"
   ]
  },
  {
   "cell_type": "code",
   "execution_count": 28,
   "metadata": {},
   "outputs": [],
   "source": [
    "# запишем ключевые значения в отдельные переменные\n",
    "# доходность одной тысячи баррелей\n",
    "ONE_BARREL_PRICE = 450_000\n",
    "# бюджет на разработку в руб.\n",
    "BUDGET = 10_000_000_000\n",
    "# количество разрабатываемых точек\n",
    "POINTS_PER_BUDGET = 200\n",
    "# количество точек для модели\n",
    "POINTS_FOR_MODEL = 500"
   ]
  },
  {
   "cell_type": "code",
   "execution_count": 29,
   "metadata": {},
   "outputs": [
    {
     "name": "stdout",
     "output_type": "stream",
     "text": [
      "Минимальное количество в тыс. баррелей: 111.111\n"
     ]
    }
   ],
   "source": [
    "# минимальный доход с каждой точки\n",
    "min_count = BUDGET / (ONE_BARREL_PRICE * POINTS_PER_BUDGET)\n",
    "print('Минимальное количество в тыс. баррелей:','{:.3f}'.format(min_count))"
   ]
  },
  {
   "cell_type": "markdown",
   "metadata": {},
   "source": [
    "Итого получили, что минимальный запас для обеспечения доходности должен составлять 111,111 тыс. б., что выше средних показателей по каждому региону, где в перовом составляет 92,5 тыс. б., во втором 68,8 тыс. б., а в третьем 95,0 тыс. б.\n",
    "\n",
    "Давайте посмотрим по каждому региону количество точек, в которых запасы составляют больше 111,111 тыс. б."
   ]
  },
  {
   "cell_type": "code",
   "execution_count": 30,
   "metadata": {},
   "outputs": [
    {
     "data": {
      "text/plain": [
       "36583"
      ]
     },
     "execution_count": 30,
     "metadata": {},
     "output_type": "execute_result"
    }
   ],
   "source": [
    "# с помощью функции count посчитаем количество скважин, удовлетворяющих минимальному количеству\n",
    "df_region_1[df_region_1['product'] >= min_count]['product'].count()"
   ]
  },
  {
   "cell_type": "code",
   "execution_count": 31,
   "metadata": {},
   "outputs": [
    {
     "data": {
      "text/plain": [
       "16537"
      ]
     },
     "execution_count": 31,
     "metadata": {},
     "output_type": "execute_result"
    }
   ],
   "source": [
    "# с помощью функции count посчитаем количество скважин, удовлетворяющих минимальному количеству\n",
    "df_region_2[df_region_2['product'] >= min_count]['product'].count()"
   ]
  },
  {
   "cell_type": "code",
   "execution_count": 32,
   "metadata": {},
   "outputs": [
    {
     "data": {
      "text/plain": [
       "38178"
      ]
     },
     "execution_count": 32,
     "metadata": {},
     "output_type": "execute_result"
    }
   ],
   "source": [
    "# с помощью функции count посчитаем количество скважин, удовлетворяющих минимальному количеству\n",
    "df_region_3[df_region_3['product'] >= min_count]['product'].count()"
   ]
  },
  {
   "cell_type": "markdown",
   "metadata": {},
   "source": [
    "Наибольшее количество точек с запасами не менее 111,111 тыс. б. в **третьем** регионе (38178 шт.), чуть меньше в **первом** регионе (36583 шт.). И меньше всего во **втором** регионе (16537 шт.)"
   ]
  },
  {
   "cell_type": "markdown",
   "metadata": {},
   "source": [
    "Создадим функцию для расчёта прибыли по набору отобранных месторождений и предсказаний модели"
   ]
  },
  {
   "cell_type": "code",
   "execution_count": 33,
   "metadata": {},
   "outputs": [],
   "source": [
    "# создадим функцию profit\n",
    "def profit(target_i_valid, predictions):\n",
    "    # отберем лучшие точки из предсказанных значений в количестве, равному POINTS_PER_BUDGET\n",
    "    predictions = pd.Series(predictions).sort_values(ascending=False).head(POINTS_PER_BUDGET)\n",
    "    # в переменную data запишем реальные данные по запасам по индексам из переменной predictions\n",
    "    data = target_i_valid.iloc[predictions.index]\n",
    "    # возвращаем суммарную операционную прибыль\n",
    "    return sum(data*ONE_BARREL_PRICE)-BUDGET"
   ]
  },
  {
   "cell_type": "markdown",
   "metadata": {},
   "source": [
    "**Выводы**\n",
    "- Ключевые значения по условиям задачи были сохранены в отдельных переменных\n",
    "- Подсчитан минимальный запасы месторождения (111,111 тыс. б.), которое имеет смысл разрабатывать для получения прибыли в будущем.\n",
    "- Создали функцию для подсчета прибыли."
   ]
  },
  {
   "cell_type": "markdown",
   "metadata": {},
   "source": [
    "## Расчёт прибыли и рисков"
   ]
  },
  {
   "cell_type": "markdown",
   "metadata": {},
   "source": [
    "Далее:\n",
    "- применим технику Bootstrap с 1000 выборок, чтобы найти распределение прибыли. \n",
    "- найдем среднюю прибыль, 95%-й доверительный интервал и риск убытков. Убыток — это отрицательная прибыль.\n",
    "\n",
    "Напишем функцию с применением техники Bootstrap"
   ]
  },
  {
   "cell_type": "code",
   "execution_count": 34,
   "metadata": {},
   "outputs": [],
   "source": [
    "# создадим функцию bootstrap_profit\n",
    "def bootstrap_profit(predictions, target_i_valid):\n",
    "    # создадим пустой список values\n",
    "    values = []\n",
    "    predictions = pd.Series(predictions)\n",
    "    # создаем цикл на 1000 выборок\n",
    "    for i in range(1000):\n",
    "        # отбираем слйчаные точки по условию задачи с помощью функции sample\n",
    "        predictions_subsample = predictions.sample(n=POINTS_FOR_MODEL, replace=True, random_state=state)\n",
    "         # подсчитываем прибыль и добавляем в values\n",
    "        values.append(profit(target_i_valid, predictions_subsample))\n",
    "    \n",
    "    # находим доверительный интервал и риск убытков\n",
    "    values = pd.Series(values)\n",
    "    lower = values.quantile(.025)\n",
    "    upper = values.quantile(.975)\n",
    "    risk = len(values[values<0])/len(values)\n",
    "    \n",
    "    # выводим результат\n",
    "    print('Средняя прибыль:','{:.2f}'.format(values.mean()/1000000), 'млн. руб.',\n",
    "          '\\nНачало доверительного интервала:','{:.2f}'.format((lower)/1000000), 'млн. руб.',\n",
    "          '\\nКонец доверительного интервала:','{:.2f}'.format((upper)/1000000), 'млн. руб.',\n",
    "          '\\nРиск убытков:','{:.2f}'.format(risk))\n",
    "    return "
   ]
  },
  {
   "cell_type": "markdown",
   "metadata": {},
   "source": [
    "Рассчитаем прибыль, доверительный интервал и риски для **первого** региона"
   ]
  },
  {
   "cell_type": "code",
   "execution_count": 35,
   "metadata": {},
   "outputs": [
    {
     "name": "stdout",
     "output_type": "stream",
     "text": [
      "Средняя прибыль: 396.16 млн. руб. \n",
      "Начало доверительного интервала: -111.22 млн. руб. \n",
      "Конец доверительного интервала: 909.77 млн. руб. \n",
      "Риск убытков: 0.07\n"
     ]
    }
   ],
   "source": [
    "bootstrap_profit(predictions_1, target_1_valid)"
   ]
  },
  {
   "cell_type": "markdown",
   "metadata": {},
   "source": [
    "Рассчитаем прибыль, доверительный интервал и риски для **второго** региона"
   ]
  },
  {
   "cell_type": "code",
   "execution_count": 36,
   "metadata": {},
   "outputs": [
    {
     "name": "stdout",
     "output_type": "stream",
     "text": [
      "Средняя прибыль: 461.16 млн. руб. \n",
      "Начало доверительного интервала: 78.05 млн. руб. \n",
      "Конец доверительного интервала: 862.95 млн. руб. \n",
      "Риск убытков: 0.01\n"
     ]
    }
   ],
   "source": [
    "bootstrap_profit(predictions_2, target_2_valid)"
   ]
  },
  {
   "cell_type": "markdown",
   "metadata": {},
   "source": [
    "Рассчитаем прибыль, доверительный интервал и риски для **третьего** региона"
   ]
  },
  {
   "cell_type": "code",
   "execution_count": 37,
   "metadata": {},
   "outputs": [
    {
     "name": "stdout",
     "output_type": "stream",
     "text": [
      "Средняя прибыль: 392.95 млн. руб. \n",
      "Начало доверительного интервала: -112.23 млн. руб. \n",
      "Конец доверительного интервала: 934.56 млн. руб. \n",
      "Риск убытков: 0.07\n"
     ]
    }
   ],
   "source": [
    "bootstrap_profit(predictions_3, target_3_valid)"
   ]
  },
  {
   "cell_type": "markdown",
   "metadata": {},
   "source": [
    "## **Вывод**\n",
    "\n",
    "Мы думаем, что наилучшим выбором явлется разработка месторождений во **втором** регионе, потому что:\n",
    "- в данном регионе наибольшая средняя прибыль (461,16 млн. руб.)\n",
    "- наибольшая величина начала доверительного интервала (78,05 млн. руб.)\n",
    "- нименьший риск убытков (1%)\n",
    "\n",
    "В процессе исследования месторождений трех регионов сделано следующее:\n",
    "\n",
    "- Произведено изучение датасета. Предобработка датасета не требовалась. \n",
    "- Данные были разделены на две выборки: обучающую и валидационную. Масштабирование данных не требовалось.\n",
    "- Исследованы модели линейной регрессии по каждому региону\n",
    "- Посчитаны метрики, выведены оценки и средний запас сырья в месторождении.\n",
    "- Произведен анализ данных по трем регионам и выявлена взаимосвязь высокой корреляции между признаками и целевым показателем и высоким качеством полученной модели.\n",
    "- Подготвлены данные для расчета прибыли, создана соответствующая функция.\n",
    "- Посчитаны риски и прибыль для каждого региона с применением техники Bootstrap."
   ]
  },
  {
   "cell_type": "code",
   "execution_count": null,
   "metadata": {},
   "outputs": [],
   "source": []
  }
 ],
 "metadata": {
  "ExecuteTimeLog": [
   {
    "duration": 1128,
    "start_time": "2022-10-06T08:46:44.120Z"
   },
   {
    "duration": 174,
    "start_time": "2022-10-06T08:46:45.250Z"
   },
   {
    "duration": 25,
    "start_time": "2022-10-06T08:46:54.250Z"
   },
   {
    "duration": 157,
    "start_time": "2022-10-06T08:47:32.390Z"
   },
   {
    "duration": 12,
    "start_time": "2022-10-06T08:47:34.480Z"
   },
   {
    "duration": 11,
    "start_time": "2022-10-06T08:47:59.960Z"
   },
   {
    "duration": 3,
    "start_time": "2022-10-06T08:50:05.362Z"
   },
   {
    "duration": 170,
    "start_time": "2022-10-06T08:50:06.040Z"
   },
   {
    "duration": 11,
    "start_time": "2022-10-06T08:50:07.010Z"
   },
   {
    "duration": 11,
    "start_time": "2022-10-06T08:50:10.820Z"
   },
   {
    "duration": 4,
    "start_time": "2022-10-06T08:53:36.139Z"
   },
   {
    "duration": 256,
    "start_time": "2022-10-06T08:53:37.399Z"
   },
   {
    "duration": 11,
    "start_time": "2022-10-06T08:53:39.159Z"
   },
   {
    "duration": 10,
    "start_time": "2022-10-06T08:53:44.246Z"
   },
   {
    "duration": 4,
    "start_time": "2022-10-06T09:04:28.606Z"
   },
   {
    "duration": 122,
    "start_time": "2022-10-06T09:04:32.735Z"
   },
   {
    "duration": 12,
    "start_time": "2022-10-06T09:04:34.825Z"
   },
   {
    "duration": 10,
    "start_time": "2022-10-06T09:04:40.745Z"
   },
   {
    "duration": 5,
    "start_time": "2022-10-06T09:07:06.035Z"
   },
   {
    "duration": 10,
    "start_time": "2022-10-06T09:07:14.374Z"
   },
   {
    "duration": 125,
    "start_time": "2022-10-06T09:08:29.286Z"
   },
   {
    "duration": 7,
    "start_time": "2022-10-06T09:09:16.188Z"
   },
   {
    "duration": 77,
    "start_time": "2022-10-06T09:14:31.128Z"
   },
   {
    "duration": 91,
    "start_time": "2022-10-06T09:19:18.316Z"
   },
   {
    "duration": 7,
    "start_time": "2022-10-06T09:19:27.015Z"
   },
   {
    "duration": 2,
    "start_time": "2022-10-06T09:19:28.936Z"
   },
   {
    "duration": 6,
    "start_time": "2022-10-06T09:19:29.705Z"
   },
   {
    "duration": 483,
    "start_time": "2022-10-06T09:20:09.226Z"
   },
   {
    "duration": 11,
    "start_time": "2022-10-06T09:20:23.444Z"
   },
   {
    "duration": 9,
    "start_time": "2022-10-06T09:20:34.655Z"
   },
   {
    "duration": 10,
    "start_time": "2022-10-06T09:20:48.935Z"
   },
   {
    "duration": 5,
    "start_time": "2022-10-06T09:28:32.164Z"
   },
   {
    "duration": 8,
    "start_time": "2022-10-06T09:31:18.333Z"
   },
   {
    "duration": 2,
    "start_time": "2022-10-06T09:33:02.304Z"
   },
   {
    "duration": 142,
    "start_time": "2022-10-06T09:33:03.142Z"
   },
   {
    "duration": 186,
    "start_time": "2022-10-06T09:33:48.752Z"
   },
   {
    "duration": 157,
    "start_time": "2022-10-06T09:33:50.123Z"
   },
   {
    "duration": 159,
    "start_time": "2022-10-06T09:33:51.703Z"
   },
   {
    "duration": 1467,
    "start_time": "2022-10-06T09:35:10.378Z"
   },
   {
    "duration": 145,
    "start_time": "2022-10-06T09:35:19.865Z"
   },
   {
    "duration": 151,
    "start_time": "2022-10-06T09:35:30.682Z"
   },
   {
    "duration": 140,
    "start_time": "2022-10-06T09:35:36.572Z"
   },
   {
    "duration": 157,
    "start_time": "2022-10-06T09:37:36.172Z"
   },
   {
    "duration": 330,
    "start_time": "2022-10-06T09:37:52.823Z"
   },
   {
    "duration": 231,
    "start_time": "2022-10-06T09:42:59.381Z"
   },
   {
    "duration": 2,
    "start_time": "2022-10-06T09:46:35.921Z"
   },
   {
    "duration": 1580,
    "start_time": "2022-10-06T09:47:31.180Z"
   },
   {
    "duration": 226,
    "start_time": "2022-10-06T09:48:58.030Z"
   },
   {
    "duration": 235,
    "start_time": "2022-10-06T09:49:15.538Z"
   },
   {
    "duration": 224,
    "start_time": "2022-10-06T09:49:32.241Z"
   },
   {
    "duration": 224,
    "start_time": "2022-10-06T09:49:38.370Z"
   },
   {
    "duration": 230,
    "start_time": "2022-10-06T09:49:41.710Z"
   },
   {
    "duration": 1584,
    "start_time": "2022-10-06T09:50:43.812Z"
   },
   {
    "duration": 46,
    "start_time": "2022-10-06T12:41:35.379Z"
   },
   {
    "duration": 1019,
    "start_time": "2022-10-06T12:41:42.510Z"
   },
   {
    "duration": 195,
    "start_time": "2022-10-06T12:41:43.531Z"
   },
   {
    "duration": 18,
    "start_time": "2022-10-06T12:41:43.728Z"
   },
   {
    "duration": 9,
    "start_time": "2022-10-06T12:41:43.748Z"
   },
   {
    "duration": 61,
    "start_time": "2022-10-06T12:41:43.759Z"
   },
   {
    "duration": 0,
    "start_time": "2022-10-06T12:41:43.821Z"
   },
   {
    "duration": 0,
    "start_time": "2022-10-06T12:41:43.822Z"
   },
   {
    "duration": 0,
    "start_time": "2022-10-06T12:41:43.823Z"
   },
   {
    "duration": 0,
    "start_time": "2022-10-06T12:41:43.824Z"
   },
   {
    "duration": 0,
    "start_time": "2022-10-06T12:41:43.825Z"
   },
   {
    "duration": 0,
    "start_time": "2022-10-06T12:41:43.826Z"
   },
   {
    "duration": 0,
    "start_time": "2022-10-06T12:41:43.828Z"
   },
   {
    "duration": 0,
    "start_time": "2022-10-06T12:41:43.829Z"
   },
   {
    "duration": 0,
    "start_time": "2022-10-06T12:41:43.830Z"
   },
   {
    "duration": 0,
    "start_time": "2022-10-06T12:41:43.831Z"
   },
   {
    "duration": 0,
    "start_time": "2022-10-06T12:41:43.832Z"
   },
   {
    "duration": 0,
    "start_time": "2022-10-06T12:41:43.833Z"
   },
   {
    "duration": 9,
    "start_time": "2022-10-06T12:41:50.678Z"
   },
   {
    "duration": 59,
    "start_time": "2022-10-06T12:41:52.886Z"
   },
   {
    "duration": 18,
    "start_time": "2022-10-06T12:41:53.647Z"
   },
   {
    "duration": 2,
    "start_time": "2022-10-06T12:42:09.947Z"
   },
   {
    "duration": 112,
    "start_time": "2022-10-06T12:42:10.578Z"
   },
   {
    "duration": 12,
    "start_time": "2022-10-06T12:42:11.418Z"
   },
   {
    "duration": 10,
    "start_time": "2022-10-06T12:42:13.195Z"
   },
   {
    "duration": 5,
    "start_time": "2022-10-06T12:42:14.608Z"
   },
   {
    "duration": 9,
    "start_time": "2022-10-06T12:42:16.211Z"
   },
   {
    "duration": 4,
    "start_time": "2022-10-06T12:42:18.988Z"
   },
   {
    "duration": 2,
    "start_time": "2022-10-06T12:42:21.162Z"
   },
   {
    "duration": 6,
    "start_time": "2022-10-06T12:42:22.234Z"
   },
   {
    "duration": 9,
    "start_time": "2022-10-06T12:42:23.619Z"
   },
   {
    "duration": 8,
    "start_time": "2022-10-06T12:42:24.711Z"
   },
   {
    "duration": 9,
    "start_time": "2022-10-06T12:42:26.519Z"
   },
   {
    "duration": 5,
    "start_time": "2022-10-06T12:42:29.675Z"
   },
   {
    "duration": 2,
    "start_time": "2022-10-06T12:42:30.929Z"
   },
   {
    "duration": 261,
    "start_time": "2022-10-06T12:42:31.879Z"
   },
   {
    "duration": 2,
    "start_time": "2022-10-06T12:42:32.991Z"
   },
   {
    "duration": 1616,
    "start_time": "2022-10-06T12:42:33.991Z"
   },
   {
    "duration": 1704,
    "start_time": "2022-10-06T12:50:32.779Z"
   },
   {
    "duration": 2,
    "start_time": "2022-10-06T12:54:26.618Z"
   },
   {
    "duration": 10,
    "start_time": "2022-10-06T13:31:22.472Z"
   },
   {
    "duration": 29,
    "start_time": "2022-10-06T13:32:29.956Z"
   },
   {
    "duration": 196,
    "start_time": "2022-10-06T13:36:18.739Z"
   },
   {
    "duration": 221,
    "start_time": "2022-10-06T13:36:23.637Z"
   },
   {
    "duration": 238,
    "start_time": "2022-10-06T13:36:27.270Z"
   },
   {
    "duration": 205,
    "start_time": "2022-10-06T13:36:30.742Z"
   },
   {
    "duration": 207,
    "start_time": "2022-10-06T13:36:35.625Z"
   },
   {
    "duration": 199,
    "start_time": "2022-10-06T13:36:39.254Z"
   },
   {
    "duration": 216,
    "start_time": "2022-10-06T13:36:42.550Z"
   },
   {
    "duration": 21,
    "start_time": "2022-10-06T13:40:09.644Z"
   },
   {
    "duration": 21,
    "start_time": "2022-10-06T13:40:36.531Z"
   },
   {
    "duration": 20843,
    "start_time": "2022-10-06T13:41:06.785Z"
   },
   {
    "duration": 5297,
    "start_time": "2022-10-06T13:42:23.913Z"
   },
   {
    "duration": 1607,
    "start_time": "2022-10-06T13:44:58.169Z"
   },
   {
    "duration": 1127,
    "start_time": "2022-10-06T13:45:16.692Z"
   },
   {
    "duration": 2,
    "start_time": "2022-10-06T13:46:00.802Z"
   },
   {
    "duration": 1077,
    "start_time": "2022-10-06T13:46:01.337Z"
   },
   {
    "duration": 10,
    "start_time": "2022-10-06T13:51:31.540Z"
   },
   {
    "duration": 25,
    "start_time": "2022-10-06T13:51:38.655Z"
   },
   {
    "duration": 2,
    "start_time": "2022-10-06T13:52:27.012Z"
   },
   {
    "duration": 25,
    "start_time": "2022-10-06T13:52:27.556Z"
   },
   {
    "duration": 5092,
    "start_time": "2022-10-06T13:53:46.601Z"
   },
   {
    "duration": 1103,
    "start_time": "2022-10-06T13:54:27.088Z"
   },
   {
    "duration": 2,
    "start_time": "2022-10-06T13:54:30.585Z"
   },
   {
    "duration": 25,
    "start_time": "2022-10-06T13:54:31.273Z"
   },
   {
    "duration": 24,
    "start_time": "2022-10-06T13:56:45.131Z"
   },
   {
    "duration": 24,
    "start_time": "2022-10-06T13:56:49.174Z"
   },
   {
    "duration": 24,
    "start_time": "2022-10-06T13:56:50.981Z"
   },
   {
    "duration": 25,
    "start_time": "2022-10-06T13:56:55.866Z"
   },
   {
    "duration": 25,
    "start_time": "2022-10-06T13:57:11.732Z"
   },
   {
    "duration": 73,
    "start_time": "2022-10-06T13:57:15.129Z"
   },
   {
    "duration": 24,
    "start_time": "2022-10-06T14:03:36.672Z"
   },
   {
    "duration": 25,
    "start_time": "2022-10-06T14:03:38.445Z"
   },
   {
    "duration": 2,
    "start_time": "2022-10-06T14:03:39.876Z"
   },
   {
    "duration": 24,
    "start_time": "2022-10-06T14:03:40.438Z"
   },
   {
    "duration": 24,
    "start_time": "2022-10-06T14:03:42.796Z"
   },
   {
    "duration": 22,
    "start_time": "2022-10-06T14:03:43.756Z"
   },
   {
    "duration": 24,
    "start_time": "2022-10-06T14:03:48.340Z"
   },
   {
    "duration": 3,
    "start_time": "2022-10-06T14:06:22.709Z"
   },
   {
    "duration": 88,
    "start_time": "2022-10-06T14:06:23.664Z"
   },
   {
    "duration": 3,
    "start_time": "2022-10-06T14:06:27.705Z"
   },
   {
    "duration": 36,
    "start_time": "2022-10-06T14:10:23.598Z"
   },
   {
    "duration": 89,
    "start_time": "2022-10-06T14:22:28.613Z"
   },
   {
    "duration": 100,
    "start_time": "2022-10-06T14:22:52.461Z"
   },
   {
    "duration": 76,
    "start_time": "2022-10-06T14:23:07.575Z"
   },
   {
    "duration": 8,
    "start_time": "2022-10-06T14:23:11.232Z"
   },
   {
    "duration": 2,
    "start_time": "2022-10-06T14:23:53.959Z"
   },
   {
    "duration": 6,
    "start_time": "2022-10-06T14:23:55.083Z"
   },
   {
    "duration": 2,
    "start_time": "2022-10-06T14:28:25.801Z"
   },
   {
    "duration": 6,
    "start_time": "2022-10-06T14:29:54.527Z"
   },
   {
    "duration": 5,
    "start_time": "2022-10-06T14:31:48.303Z"
   },
   {
    "duration": 5,
    "start_time": "2022-10-06T14:32:04.388Z"
   },
   {
    "duration": 1397,
    "start_time": "2022-10-06T14:51:56.985Z"
   },
   {
    "duration": 146,
    "start_time": "2022-10-06T14:51:58.384Z"
   },
   {
    "duration": 17,
    "start_time": "2022-10-06T14:51:58.531Z"
   },
   {
    "duration": 9,
    "start_time": "2022-10-06T14:51:58.550Z"
   },
   {
    "duration": 3,
    "start_time": "2022-10-06T14:51:58.561Z"
   },
   {
    "duration": 15,
    "start_time": "2022-10-06T14:51:58.566Z"
   },
   {
    "duration": 6,
    "start_time": "2022-10-06T14:51:58.583Z"
   },
   {
    "duration": 22,
    "start_time": "2022-10-06T14:51:58.590Z"
   },
   {
    "duration": 5,
    "start_time": "2022-10-06T14:51:58.614Z"
   },
   {
    "duration": 9,
    "start_time": "2022-10-06T14:51:58.621Z"
   },
   {
    "duration": 10,
    "start_time": "2022-10-06T14:51:58.632Z"
   },
   {
    "duration": 11,
    "start_time": "2022-10-06T14:51:58.643Z"
   },
   {
    "duration": 5,
    "start_time": "2022-10-06T14:51:58.655Z"
   },
   {
    "duration": 58,
    "start_time": "2022-10-06T14:51:58.661Z"
   },
   {
    "duration": 5189,
    "start_time": "2022-10-06T14:51:58.720Z"
   },
   {
    "duration": 10,
    "start_time": "2022-10-06T14:52:03.910Z"
   },
   {
    "duration": 1060,
    "start_time": "2022-10-06T14:52:03.921Z"
   },
   {
    "duration": 2,
    "start_time": "2022-10-06T14:52:04.983Z"
   },
   {
    "duration": 32,
    "start_time": "2022-10-06T14:52:04.986Z"
   },
   {
    "duration": 4,
    "start_time": "2022-10-06T14:52:05.019Z"
   },
   {
    "duration": 37,
    "start_time": "2022-10-06T14:52:05.024Z"
   },
   {
    "duration": 2,
    "start_time": "2022-10-06T14:52:05.062Z"
   },
   {
    "duration": 9,
    "start_time": "2022-10-06T14:52:05.066Z"
   },
   {
    "duration": 2045,
    "start_time": "2022-10-29T10:19:31.321Z"
   },
   {
    "duration": 190,
    "start_time": "2022-10-29T10:19:33.368Z"
   },
   {
    "duration": 0,
    "start_time": "2022-10-29T10:19:33.561Z"
   },
   {
    "duration": 0,
    "start_time": "2022-10-29T10:19:33.562Z"
   },
   {
    "duration": 0,
    "start_time": "2022-10-29T10:19:33.564Z"
   },
   {
    "duration": 0,
    "start_time": "2022-10-29T10:19:33.564Z"
   },
   {
    "duration": 0,
    "start_time": "2022-10-29T10:19:33.566Z"
   },
   {
    "duration": 1,
    "start_time": "2022-10-29T10:19:33.566Z"
   },
   {
    "duration": 0,
    "start_time": "2022-10-29T10:19:33.567Z"
   },
   {
    "duration": 0,
    "start_time": "2022-10-29T10:19:33.568Z"
   },
   {
    "duration": 0,
    "start_time": "2022-10-29T10:19:33.569Z"
   },
   {
    "duration": 0,
    "start_time": "2022-10-29T10:19:33.570Z"
   },
   {
    "duration": 0,
    "start_time": "2022-10-29T10:19:33.571Z"
   },
   {
    "duration": 0,
    "start_time": "2022-10-29T10:19:33.572Z"
   },
   {
    "duration": 0,
    "start_time": "2022-10-29T10:19:33.574Z"
   },
   {
    "duration": 0,
    "start_time": "2022-10-29T10:19:33.574Z"
   },
   {
    "duration": 0,
    "start_time": "2022-10-29T10:19:33.576Z"
   },
   {
    "duration": 0,
    "start_time": "2022-10-29T10:19:33.577Z"
   },
   {
    "duration": 0,
    "start_time": "2022-10-29T10:19:33.577Z"
   },
   {
    "duration": 0,
    "start_time": "2022-10-29T10:19:33.579Z"
   },
   {
    "duration": 0,
    "start_time": "2022-10-29T10:19:33.580Z"
   },
   {
    "duration": 0,
    "start_time": "2022-10-29T10:19:33.581Z"
   },
   {
    "duration": 0,
    "start_time": "2022-10-29T10:19:33.582Z"
   },
   {
    "duration": 0,
    "start_time": "2022-10-29T10:19:33.583Z"
   },
   {
    "duration": 0,
    "start_time": "2022-10-29T10:19:33.584Z"
   },
   {
    "duration": 0,
    "start_time": "2022-10-29T10:19:33.585Z"
   },
   {
    "duration": 0,
    "start_time": "2022-10-29T10:19:33.586Z"
   },
   {
    "duration": 0,
    "start_time": "2022-10-29T10:19:33.587Z"
   },
   {
    "duration": 0,
    "start_time": "2022-10-29T10:19:33.588Z"
   },
   {
    "duration": 0,
    "start_time": "2022-10-29T10:19:33.589Z"
   },
   {
    "duration": 0,
    "start_time": "2022-10-29T10:19:33.633Z"
   },
   {
    "duration": 0,
    "start_time": "2022-10-29T10:19:33.634Z"
   },
   {
    "duration": 0,
    "start_time": "2022-10-29T10:19:33.637Z"
   },
   {
    "duration": 0,
    "start_time": "2022-10-29T10:19:33.638Z"
   },
   {
    "duration": 0,
    "start_time": "2022-10-29T10:19:33.640Z"
   },
   {
    "duration": 0,
    "start_time": "2022-10-29T10:19:33.641Z"
   },
   {
    "duration": 0,
    "start_time": "2022-10-29T10:19:33.642Z"
   },
   {
    "duration": 0,
    "start_time": "2022-10-29T10:19:33.646Z"
   },
   {
    "duration": 0,
    "start_time": "2022-10-29T10:19:33.647Z"
   },
   {
    "duration": 0,
    "start_time": "2022-10-29T10:19:33.648Z"
   },
   {
    "duration": 0,
    "start_time": "2022-10-29T10:19:33.649Z"
   },
   {
    "duration": 0,
    "start_time": "2022-10-29T10:19:33.656Z"
   },
   {
    "duration": 0,
    "start_time": "2022-10-29T10:19:33.658Z"
   },
   {
    "duration": 0,
    "start_time": "2022-10-29T10:19:33.659Z"
   },
   {
    "duration": 0,
    "start_time": "2022-10-29T10:19:33.660Z"
   },
   {
    "duration": 0,
    "start_time": "2022-10-29T10:19:33.661Z"
   },
   {
    "duration": 0,
    "start_time": "2022-10-29T10:19:33.662Z"
   },
   {
    "duration": 0,
    "start_time": "2022-10-29T10:19:33.662Z"
   },
   {
    "duration": 0,
    "start_time": "2022-10-29T10:19:33.663Z"
   },
   {
    "duration": 0,
    "start_time": "2022-10-29T10:19:33.664Z"
   },
   {
    "duration": 0,
    "start_time": "2022-10-29T10:19:33.665Z"
   },
   {
    "duration": 0,
    "start_time": "2022-10-29T10:19:33.666Z"
   },
   {
    "duration": 0,
    "start_time": "2022-10-29T10:19:33.667Z"
   },
   {
    "duration": 0,
    "start_time": "2022-10-29T10:19:33.668Z"
   },
   {
    "duration": 0,
    "start_time": "2022-10-29T10:19:33.669Z"
   },
   {
    "duration": 0,
    "start_time": "2022-10-29T10:19:33.670Z"
   },
   {
    "duration": 0,
    "start_time": "2022-10-29T10:19:33.671Z"
   },
   {
    "duration": 0,
    "start_time": "2022-10-29T10:19:33.672Z"
   },
   {
    "duration": 0,
    "start_time": "2022-10-29T10:19:33.673Z"
   },
   {
    "duration": 0,
    "start_time": "2022-10-29T10:19:33.733Z"
   },
   {
    "duration": 0,
    "start_time": "2022-10-29T10:19:33.735Z"
   },
   {
    "duration": 0,
    "start_time": "2022-10-29T10:19:33.736Z"
   },
   {
    "duration": 62,
    "start_time": "2022-10-29T10:19:46.571Z"
   },
   {
    "duration": 167,
    "start_time": "2022-10-29T10:21:01.171Z"
   },
   {
    "duration": 1878,
    "start_time": "2022-10-29T10:21:10.587Z"
   },
   {
    "duration": 68,
    "start_time": "2022-10-29T10:21:12.467Z"
   },
   {
    "duration": 21,
    "start_time": "2022-10-29T10:21:12.537Z"
   },
   {
    "duration": 13,
    "start_time": "2022-10-29T10:21:12.559Z"
   },
   {
    "duration": 6,
    "start_time": "2022-10-29T10:21:12.574Z"
   },
   {
    "duration": 17,
    "start_time": "2022-10-29T10:21:12.581Z"
   },
   {
    "duration": 41,
    "start_time": "2022-10-29T10:21:12.600Z"
   },
   {
    "duration": 4,
    "start_time": "2022-10-29T10:21:12.643Z"
   },
   {
    "duration": 7,
    "start_time": "2022-10-29T10:21:12.649Z"
   },
   {
    "duration": 10,
    "start_time": "2022-10-29T10:21:12.657Z"
   },
   {
    "duration": 11,
    "start_time": "2022-10-29T10:21:12.669Z"
   },
   {
    "duration": 11,
    "start_time": "2022-10-29T10:21:12.682Z"
   },
   {
    "duration": 7,
    "start_time": "2022-10-29T10:21:12.694Z"
   },
   {
    "duration": 72,
    "start_time": "2022-10-29T10:21:12.704Z"
   },
   {
    "duration": 24,
    "start_time": "2022-10-29T10:21:12.777Z"
   },
   {
    "duration": 5,
    "start_time": "2022-10-29T10:21:12.802Z"
   },
   {
    "duration": 32,
    "start_time": "2022-10-29T10:21:12.809Z"
   },
   {
    "duration": 14,
    "start_time": "2022-10-29T10:21:12.842Z"
   },
   {
    "duration": 10,
    "start_time": "2022-10-29T10:21:12.858Z"
   },
   {
    "duration": 10,
    "start_time": "2022-10-29T10:21:12.869Z"
   },
   {
    "duration": 13,
    "start_time": "2022-10-29T10:21:12.880Z"
   },
   {
    "duration": 3,
    "start_time": "2022-10-29T10:21:12.895Z"
   },
   {
    "duration": 66,
    "start_time": "2022-10-29T10:21:12.900Z"
   },
   {
    "duration": 17,
    "start_time": "2022-10-29T10:21:12.967Z"
   },
   {
    "duration": 530,
    "start_time": "2022-10-29T10:21:12.985Z"
   },
   {
    "duration": 19788,
    "start_time": "2022-10-29T10:21:13.516Z"
   },
   {
    "duration": 102,
    "start_time": "2022-10-29T10:21:33.306Z"
   },
   {
    "duration": 42,
    "start_time": "2022-10-29T10:21:33.409Z"
   },
   {
    "duration": 303833,
    "start_time": "2022-10-29T10:21:33.453Z"
   },
   {
    "duration": 4,
    "start_time": "2022-10-29T10:26:37.287Z"
   },
   {
    "duration": 259,
    "start_time": "2022-10-29T10:26:37.293Z"
   },
   {
    "duration": 182,
    "start_time": "2022-10-29T10:26:37.554Z"
   },
   {
    "duration": 117,
    "start_time": "2022-10-29T10:26:37.740Z"
   },
   {
    "duration": 9,
    "start_time": "2022-10-29T10:26:37.859Z"
   },
   {
    "duration": 4,
    "start_time": "2022-10-29T10:26:37.870Z"
   },
   {
    "duration": 11,
    "start_time": "2022-10-29T10:26:37.876Z"
   },
   {
    "duration": 4,
    "start_time": "2022-10-29T10:26:37.889Z"
   },
   {
    "duration": 41,
    "start_time": "2022-10-29T10:26:37.895Z"
   },
   {
    "duration": 50,
    "start_time": "2022-10-29T10:26:37.938Z"
   },
   {
    "duration": 89,
    "start_time": "2022-10-29T10:26:37.989Z"
   },
   {
    "duration": 492,
    "start_time": "2022-10-29T10:26:38.082Z"
   },
   {
    "duration": 164,
    "start_time": "2022-10-29T10:26:38.575Z"
   },
   {
    "duration": 0,
    "start_time": "2022-10-29T10:26:38.741Z"
   },
   {
    "duration": 0,
    "start_time": "2022-10-29T10:26:38.743Z"
   },
   {
    "duration": 0,
    "start_time": "2022-10-29T10:26:38.744Z"
   },
   {
    "duration": 0,
    "start_time": "2022-10-29T10:26:38.746Z"
   },
   {
    "duration": 0,
    "start_time": "2022-10-29T10:26:38.747Z"
   },
   {
    "duration": 0,
    "start_time": "2022-10-29T10:26:38.749Z"
   },
   {
    "duration": 0,
    "start_time": "2022-10-29T10:26:38.750Z"
   },
   {
    "duration": 0,
    "start_time": "2022-10-29T10:26:38.751Z"
   },
   {
    "duration": 0,
    "start_time": "2022-10-29T10:26:38.752Z"
   },
   {
    "duration": 0,
    "start_time": "2022-10-29T10:26:38.753Z"
   },
   {
    "duration": 0,
    "start_time": "2022-10-29T10:26:38.754Z"
   },
   {
    "duration": 0,
    "start_time": "2022-10-29T10:26:38.755Z"
   },
   {
    "duration": 0,
    "start_time": "2022-10-29T10:26:38.756Z"
   },
   {
    "duration": 0,
    "start_time": "2022-10-29T10:26:38.757Z"
   },
   {
    "duration": 0,
    "start_time": "2022-10-29T10:26:38.758Z"
   },
   {
    "duration": 0,
    "start_time": "2022-10-29T10:26:38.759Z"
   },
   {
    "duration": 0,
    "start_time": "2022-10-29T10:26:38.760Z"
   },
   {
    "duration": 0,
    "start_time": "2022-10-29T10:26:38.760Z"
   },
   {
    "duration": 0,
    "start_time": "2022-10-29T10:26:38.761Z"
   },
   {
    "duration": 0,
    "start_time": "2022-10-29T10:26:38.762Z"
   },
   {
    "duration": 11,
    "start_time": "2022-10-29T10:29:31.382Z"
   },
   {
    "duration": 3,
    "start_time": "2022-10-29T10:29:35.588Z"
   },
   {
    "duration": 27,
    "start_time": "2022-10-29T10:29:42.297Z"
   },
   {
    "duration": 26,
    "start_time": "2022-10-29T10:29:42.661Z"
   },
   {
    "duration": 256,
    "start_time": "2022-10-29T10:29:43.237Z"
   },
   {
    "duration": 10,
    "start_time": "2022-10-29T10:29:43.495Z"
   },
   {
    "duration": 19,
    "start_time": "2022-10-29T10:29:43.815Z"
   },
   {
    "duration": 20,
    "start_time": "2022-10-29T10:29:43.998Z"
   },
   {
    "duration": 99665,
    "start_time": "2022-10-29T10:29:44.864Z"
   },
   {
    "duration": 14,
    "start_time": "2022-10-29T10:31:24.531Z"
   },
   {
    "duration": 0,
    "start_time": "2022-10-29T10:31:24.548Z"
   },
   {
    "duration": 0,
    "start_time": "2022-10-29T10:31:24.549Z"
   },
   {
    "duration": 0,
    "start_time": "2022-10-29T10:31:24.550Z"
   },
   {
    "duration": 0,
    "start_time": "2022-10-29T10:31:24.552Z"
   },
   {
    "duration": 0,
    "start_time": "2022-10-29T10:31:24.552Z"
   },
   {
    "duration": 0,
    "start_time": "2022-10-29T10:31:24.554Z"
   },
   {
    "duration": 0,
    "start_time": "2022-10-29T10:31:24.555Z"
   },
   {
    "duration": 0,
    "start_time": "2022-10-29T10:31:24.556Z"
   },
   {
    "duration": 0,
    "start_time": "2022-10-29T10:31:24.557Z"
   },
   {
    "duration": 0,
    "start_time": "2022-10-29T10:31:24.558Z"
   },
   {
    "duration": 0,
    "start_time": "2022-10-29T10:31:24.559Z"
   },
   {
    "duration": 0,
    "start_time": "2022-10-29T10:31:24.561Z"
   },
   {
    "duration": 0,
    "start_time": "2022-10-29T10:31:24.562Z"
   },
   {
    "duration": 4,
    "start_time": "2022-10-29T10:31:56.876Z"
   },
   {
    "duration": 6116,
    "start_time": "2022-10-29T10:32:00.797Z"
   },
   {
    "duration": 6310,
    "start_time": "2022-10-29T10:32:12.562Z"
   },
   {
    "duration": 127,
    "start_time": "2022-10-29T10:32:24.663Z"
   },
   {
    "duration": 137,
    "start_time": "2022-10-29T10:32:25.317Z"
   },
   {
    "duration": 47831,
    "start_time": "2022-10-29T10:32:27.520Z"
   },
   {
    "duration": 12,
    "start_time": "2022-10-29T10:33:15.354Z"
   },
   {
    "duration": 0,
    "start_time": "2022-10-29T10:33:15.368Z"
   },
   {
    "duration": 0,
    "start_time": "2022-10-29T10:33:15.369Z"
   },
   {
    "duration": 0,
    "start_time": "2022-10-29T10:33:15.371Z"
   },
   {
    "duration": 156,
    "start_time": "2022-10-29T10:33:17.880Z"
   },
   {
    "duration": 96,
    "start_time": "2022-10-29T10:33:18.851Z"
   },
   {
    "duration": 62,
    "start_time": "2022-10-29T10:33:20.484Z"
   },
   {
    "duration": 11,
    "start_time": "2022-10-29T10:33:27.970Z"
   },
   {
    "duration": 2,
    "start_time": "2022-10-29T10:33:43.819Z"
   },
   {
    "duration": 1820,
    "start_time": "2022-10-29T10:33:51.881Z"
   },
   {
    "duration": 1772,
    "start_time": "2022-10-29T10:34:04.411Z"
   },
   {
    "duration": 281,
    "start_time": "2022-10-29T10:34:12.958Z"
   },
   {
    "duration": 146,
    "start_time": "2022-10-29T10:34:16.093Z"
   },
   {
    "duration": 1860,
    "start_time": "2022-10-29T13:10:23.301Z"
   },
   {
    "duration": 169,
    "start_time": "2022-10-29T13:10:25.166Z"
   },
   {
    "duration": 36,
    "start_time": "2022-10-29T13:10:25.536Z"
   },
   {
    "duration": 14,
    "start_time": "2022-10-29T13:10:27.547Z"
   },
   {
    "duration": 7,
    "start_time": "2022-10-29T13:10:29.224Z"
   },
   {
    "duration": 18,
    "start_time": "2022-10-29T13:10:31.117Z"
   },
   {
    "duration": 24,
    "start_time": "2022-10-29T13:10:33.865Z"
   },
   {
    "duration": 5,
    "start_time": "2022-10-29T13:10:35.665Z"
   },
   {
    "duration": 5,
    "start_time": "2022-10-29T13:10:55.825Z"
   },
   {
    "duration": 10,
    "start_time": "2022-10-29T13:10:56.794Z"
   },
   {
    "duration": 13,
    "start_time": "2022-10-29T13:10:58.484Z"
   },
   {
    "duration": 21,
    "start_time": "2022-10-29T13:11:01.556Z"
   },
   {
    "duration": 5,
    "start_time": "2022-10-29T13:11:03.701Z"
   },
   {
    "duration": 49,
    "start_time": "2022-10-29T13:11:04.755Z"
   },
   {
    "duration": 29,
    "start_time": "2022-10-29T13:11:06.219Z"
   },
   {
    "duration": 6,
    "start_time": "2022-10-29T13:11:07.946Z"
   },
   {
    "duration": 17,
    "start_time": "2022-10-29T13:11:09.693Z"
   },
   {
    "duration": 12,
    "start_time": "2022-10-29T13:17:02.952Z"
   },
   {
    "duration": 16,
    "start_time": "2022-10-29T13:17:07.459Z"
   },
   {
    "duration": 16,
    "start_time": "2022-10-29T13:17:11.890Z"
   },
   {
    "duration": 2,
    "start_time": "2022-10-29T13:17:17.246Z"
   },
   {
    "duration": 53,
    "start_time": "2022-10-29T13:17:34.135Z"
   },
   {
    "duration": 18,
    "start_time": "2022-10-29T13:19:48.560Z"
   },
   {
    "duration": 564,
    "start_time": "2022-10-29T13:21:07.061Z"
   },
   {
    "duration": 183,
    "start_time": "2022-10-29T13:21:43.699Z"
   },
   {
    "duration": 14,
    "start_time": "2022-10-29T13:22:37.008Z"
   },
   {
    "duration": 146,
    "start_time": "2022-10-29T13:23:00.595Z"
   },
   {
    "duration": 117,
    "start_time": "2022-10-29T13:23:17.949Z"
   },
   {
    "duration": 114,
    "start_time": "2022-10-29T13:23:41.298Z"
   },
   {
    "duration": 175,
    "start_time": "2022-10-29T13:24:09.663Z"
   },
   {
    "duration": 102,
    "start_time": "2022-10-29T13:26:08.936Z"
   },
   {
    "duration": 14,
    "start_time": "2022-10-29T13:26:36.936Z"
   },
   {
    "duration": 97,
    "start_time": "2022-10-29T13:26:43.381Z"
   },
   {
    "duration": 102,
    "start_time": "2022-10-29T13:26:47.960Z"
   },
   {
    "duration": 493,
    "start_time": "2022-10-29T13:29:34.318Z"
   },
   {
    "duration": 451,
    "start_time": "2022-10-29T13:29:36.700Z"
   },
   {
    "duration": 445,
    "start_time": "2022-10-29T13:29:38.258Z"
   },
   {
    "duration": 7,
    "start_time": "2022-10-29T13:30:38.822Z"
   },
   {
    "duration": 511,
    "start_time": "2022-10-29T13:30:43.940Z"
   },
   {
    "duration": 4,
    "start_time": "2022-10-29T13:30:46.093Z"
   },
   {
    "duration": 507,
    "start_time": "2022-10-29T13:30:48.895Z"
   },
   {
    "duration": 4,
    "start_time": "2022-10-29T13:30:50.483Z"
   },
   {
    "duration": 460,
    "start_time": "2022-10-29T13:30:51.830Z"
   },
   {
    "duration": 4,
    "start_time": "2022-10-29T13:30:53.511Z"
   },
   {
    "duration": 483,
    "start_time": "2022-10-29T13:30:54.940Z"
   },
   {
    "duration": 5,
    "start_time": "2022-10-29T13:30:56.740Z"
   },
   {
    "duration": 136835,
    "start_time": "2022-10-29T13:31:22.546Z"
   },
   {
    "duration": 3,
    "start_time": "2022-10-29T13:34:06.438Z"
   },
   {
    "duration": 99,
    "start_time": "2022-10-29T13:37:22.598Z"
   },
   {
    "duration": 1545,
    "start_time": "2022-10-29T13:45:15.750Z"
   },
   {
    "duration": 147,
    "start_time": "2022-10-29T13:45:17.297Z"
   },
   {
    "duration": 22,
    "start_time": "2022-10-29T13:45:17.774Z"
   },
   {
    "duration": 15,
    "start_time": "2022-10-29T13:45:19.438Z"
   },
   {
    "duration": 5,
    "start_time": "2022-10-29T13:45:20.979Z"
   },
   {
    "duration": 13,
    "start_time": "2022-10-29T13:45:22.268Z"
   },
   {
    "duration": 30,
    "start_time": "2022-10-29T13:45:24.111Z"
   },
   {
    "duration": 4,
    "start_time": "2022-10-29T13:45:25.750Z"
   },
   {
    "duration": 4,
    "start_time": "2022-10-29T13:45:26.758Z"
   },
   {
    "duration": 9,
    "start_time": "2022-10-29T13:45:27.603Z"
   },
   {
    "duration": 17,
    "start_time": "2022-10-29T13:45:28.384Z"
   },
   {
    "duration": 15,
    "start_time": "2022-10-29T13:45:30.519Z"
   },
   {
    "duration": 9,
    "start_time": "2022-10-29T13:45:31.821Z"
   },
   {
    "duration": 58,
    "start_time": "2022-10-29T13:45:32.816Z"
   },
   {
    "duration": 29,
    "start_time": "2022-10-29T13:45:33.337Z"
   },
   {
    "duration": 4,
    "start_time": "2022-10-29T13:45:34.674Z"
   },
   {
    "duration": 14,
    "start_time": "2022-10-29T13:45:35.570Z"
   },
   {
    "duration": 11,
    "start_time": "2022-10-29T13:45:38.465Z"
   },
   {
    "duration": 17,
    "start_time": "2022-10-29T13:45:41.294Z"
   },
   {
    "duration": 12,
    "start_time": "2022-10-29T13:45:42.340Z"
   },
   {
    "duration": 3,
    "start_time": "2022-10-29T13:45:44.085Z"
   },
   {
    "duration": 45,
    "start_time": "2022-10-29T13:45:44.996Z"
   },
   {
    "duration": 25,
    "start_time": "2022-10-29T13:45:47.317Z"
   },
   {
    "duration": 635,
    "start_time": "2022-10-29T13:45:51.970Z"
   },
   {
    "duration": 137447,
    "start_time": "2022-10-29T13:46:17.757Z"
   },
   {
    "duration": 296528,
    "start_time": "2022-10-29T13:49:06.041Z"
   },
   {
    "duration": 94,
    "start_time": "2022-10-29T13:55:45.048Z"
   },
   {
    "duration": 44,
    "start_time": "2022-10-29T13:55:53.945Z"
   },
   {
    "duration": 3389,
    "start_time": "2022-10-29T13:55:58.825Z"
   },
   {
    "duration": 3319,
    "start_time": "2022-10-29T13:56:22.783Z"
   },
   {
    "duration": 116,
    "start_time": "2022-10-29T13:56:57.068Z"
   },
   {
    "duration": 110,
    "start_time": "2022-10-29T13:57:22.119Z"
   },
   {
    "duration": 6,
    "start_time": "2022-10-29T13:57:44.140Z"
   },
   {
    "duration": 111,
    "start_time": "2022-10-29T13:58:13.089Z"
   },
   {
    "duration": 87,
    "start_time": "2022-10-29T13:58:40.215Z"
   },
   {
    "duration": 131139,
    "start_time": "2022-10-29T13:59:21.848Z"
   },
   {
    "duration": 90,
    "start_time": "2022-10-29T14:01:34.783Z"
   },
   {
    "duration": 6,
    "start_time": "2022-10-29T14:02:04.959Z"
   },
   {
    "duration": 277153,
    "start_time": "2022-10-29T14:02:08.882Z"
   },
   {
    "duration": 59,
    "start_time": "2022-10-29T14:07:35.482Z"
   },
   {
    "duration": 36,
    "start_time": "2022-10-29T14:07:37.936Z"
   },
   {
    "duration": 38,
    "start_time": "2022-10-29T14:07:49.036Z"
   },
   {
    "duration": 121745,
    "start_time": "2022-10-29T14:11:42.943Z"
   },
   {
    "duration": 9379,
    "start_time": "2022-10-29T14:13:59.103Z"
   },
   {
    "duration": 134168,
    "start_time": "2022-10-29T14:14:22.936Z"
   },
   {
    "duration": 4,
    "start_time": "2022-10-29T14:16:45.843Z"
   },
   {
    "duration": 125023,
    "start_time": "2022-10-29T14:16:54.553Z"
   },
   {
    "duration": 4,
    "start_time": "2022-10-29T14:19:04.715Z"
   },
   {
    "duration": 4,
    "start_time": "2022-10-29T14:19:06.318Z"
   },
   {
    "duration": 17706,
    "start_time": "2022-10-29T14:24:41.118Z"
   },
   {
    "duration": 20099,
    "start_time": "2022-10-29T14:26:02.029Z"
   },
   {
    "duration": 7179,
    "start_time": "2022-10-29T14:26:35.862Z"
   },
   {
    "duration": 5859,
    "start_time": "2022-10-29T14:26:56.282Z"
   },
   {
    "duration": 5,
    "start_time": "2022-10-29T14:27:17.278Z"
   },
   {
    "duration": 10132,
    "start_time": "2022-10-29T14:28:07.497Z"
   },
   {
    "duration": 9904,
    "start_time": "2022-10-29T14:28:22.519Z"
   },
   {
    "duration": 9048,
    "start_time": "2022-10-29T14:28:35.278Z"
   },
   {
    "duration": 6661,
    "start_time": "2022-10-29T14:28:46.982Z"
   },
   {
    "duration": 5,
    "start_time": "2022-10-29T14:28:55.918Z"
   },
   {
    "duration": 10856,
    "start_time": "2022-10-29T14:29:38.270Z"
   },
   {
    "duration": 5,
    "start_time": "2022-10-29T14:29:55.901Z"
   },
   {
    "duration": 10,
    "start_time": "2022-10-29T14:29:57.183Z"
   },
   {
    "duration": 12859,
    "start_time": "2022-10-29T14:30:08.371Z"
   },
   {
    "duration": 9243,
    "start_time": "2022-10-29T14:32:25.896Z"
   },
   {
    "duration": 4,
    "start_time": "2022-10-29T14:32:44.257Z"
   },
   {
    "duration": 1967,
    "start_time": "2022-10-29T14:36:04.105Z"
   },
   {
    "duration": 4800,
    "start_time": "2022-10-29T14:37:35.171Z"
   },
   {
    "duration": 173,
    "start_time": "2022-10-29T14:39:00.511Z"
   },
   {
    "duration": 4,
    "start_time": "2022-10-29T14:44:49.492Z"
   },
   {
    "duration": 10,
    "start_time": "2022-10-29T14:44:56.256Z"
   },
   {
    "duration": 5,
    "start_time": "2022-10-29T14:44:57.905Z"
   },
   {
    "duration": 13,
    "start_time": "2022-10-29T14:44:59.925Z"
   },
   {
    "duration": 86,
    "start_time": "2022-10-29T14:45:02.008Z"
   },
   {
    "duration": 186,
    "start_time": "2022-10-29T14:45:03.919Z"
   },
   {
    "duration": 698,
    "start_time": "2022-10-29T14:45:19.069Z"
   },
   {
    "duration": 605,
    "start_time": "2022-10-29T14:45:30.549Z"
   },
   {
    "duration": 189672,
    "start_time": "2022-10-29T14:45:48.264Z"
   },
   {
    "duration": 4,
    "start_time": "2022-10-29T14:49:17.240Z"
   },
   {
    "duration": 308,
    "start_time": "2022-10-29T14:50:12.500Z"
   },
   {
    "duration": 89470,
    "start_time": "2022-10-29T14:50:23.300Z"
   },
   {
    "duration": 7,
    "start_time": "2022-10-29T14:51:56.229Z"
   },
   {
    "duration": 194057,
    "start_time": "2022-10-29T14:57:21.048Z"
   },
   {
    "duration": 4,
    "start_time": "2022-10-29T15:00:56.389Z"
   },
   {
    "duration": 85113,
    "start_time": "2022-10-29T15:02:17.418Z"
   },
   {
    "duration": 4,
    "start_time": "2022-10-29T15:03:46.463Z"
   },
   {
    "duration": 16039,
    "start_time": "2022-10-29T15:05:51.411Z"
   },
   {
    "duration": 4,
    "start_time": "2022-10-29T15:06:11.846Z"
   },
   {
    "duration": 81,
    "start_time": "2022-10-29T15:07:18.482Z"
   },
   {
    "duration": 39,
    "start_time": "2022-10-29T15:11:48.795Z"
   },
   {
    "duration": 35,
    "start_time": "2022-10-29T15:12:10.940Z"
   },
   {
    "duration": 8256,
    "start_time": "2022-10-29T15:15:01.319Z"
   },
   {
    "duration": 190455,
    "start_time": "2022-10-29T15:15:21.122Z"
   },
   {
    "duration": 4,
    "start_time": "2022-10-29T15:19:00.769Z"
   },
   {
    "duration": 40,
    "start_time": "2022-10-29T15:22:47.289Z"
   },
   {
    "duration": 11511,
    "start_time": "2022-10-29T15:25:54.461Z"
   },
   {
    "duration": 129,
    "start_time": "2022-10-29T15:29:54.581Z"
   },
   {
    "duration": 132,
    "start_time": "2022-10-29T15:30:34.357Z"
   },
   {
    "duration": 1575,
    "start_time": "2022-10-30T00:49:25.614Z"
   },
   {
    "duration": 169,
    "start_time": "2022-10-30T00:49:27.192Z"
   },
   {
    "duration": 20,
    "start_time": "2022-10-30T00:49:27.363Z"
   },
   {
    "duration": 14,
    "start_time": "2022-10-30T00:49:27.384Z"
   },
   {
    "duration": 20,
    "start_time": "2022-10-30T00:49:27.400Z"
   },
   {
    "duration": 23,
    "start_time": "2022-10-30T00:49:27.422Z"
   },
   {
    "duration": 39,
    "start_time": "2022-10-30T00:49:27.447Z"
   },
   {
    "duration": 4,
    "start_time": "2022-10-30T00:49:27.488Z"
   },
   {
    "duration": 25,
    "start_time": "2022-10-30T00:49:27.494Z"
   },
   {
    "duration": 24,
    "start_time": "2022-10-30T00:49:27.521Z"
   },
   {
    "duration": 29,
    "start_time": "2022-10-30T00:49:27.547Z"
   },
   {
    "duration": 26,
    "start_time": "2022-10-30T00:49:27.578Z"
   },
   {
    "duration": 12,
    "start_time": "2022-10-30T00:49:27.606Z"
   },
   {
    "duration": 58,
    "start_time": "2022-10-30T00:49:27.622Z"
   },
   {
    "duration": 24,
    "start_time": "2022-10-30T00:49:27.682Z"
   },
   {
    "duration": 14,
    "start_time": "2022-10-30T00:49:27.707Z"
   },
   {
    "duration": 23,
    "start_time": "2022-10-30T00:49:27.722Z"
   },
   {
    "duration": 32,
    "start_time": "2022-10-30T00:49:27.746Z"
   },
   {
    "duration": 26,
    "start_time": "2022-10-30T00:49:27.779Z"
   },
   {
    "duration": 9,
    "start_time": "2022-10-30T00:49:27.806Z"
   },
   {
    "duration": 2,
    "start_time": "2022-10-30T00:49:27.817Z"
   },
   {
    "duration": 30,
    "start_time": "2022-10-30T00:49:27.821Z"
   },
   {
    "duration": 25,
    "start_time": "2022-10-30T00:49:27.852Z"
   },
   {
    "duration": 462,
    "start_time": "2022-10-30T00:49:27.878Z"
   },
   {
    "duration": 6,
    "start_time": "2022-10-30T00:50:04.002Z"
   },
   {
    "duration": 41672,
    "start_time": "2022-10-30T00:50:10.702Z"
   },
   {
    "duration": 2446,
    "start_time": "2022-11-01T18:39:48.883Z"
   },
   {
    "duration": 3,
    "start_time": "2022-11-01T18:39:51.331Z"
   },
   {
    "duration": 1019,
    "start_time": "2022-11-01T18:39:51.336Z"
   },
   {
    "duration": 16,
    "start_time": "2022-11-01T18:39:52.358Z"
   },
   {
    "duration": 31,
    "start_time": "2022-11-01T18:39:52.376Z"
   },
   {
    "duration": 9,
    "start_time": "2022-11-01T18:39:52.409Z"
   },
   {
    "duration": 28,
    "start_time": "2022-11-01T18:39:52.419Z"
   },
   {
    "duration": 15,
    "start_time": "2022-11-01T18:39:52.449Z"
   },
   {
    "duration": 27,
    "start_time": "2022-11-01T18:39:52.466Z"
   },
   {
    "duration": 8,
    "start_time": "2022-11-01T18:39:52.495Z"
   },
   {
    "duration": 28,
    "start_time": "2022-11-01T18:39:52.505Z"
   },
   {
    "duration": 20,
    "start_time": "2022-11-01T18:39:52.535Z"
   },
   {
    "duration": 14,
    "start_time": "2022-11-01T18:39:52.557Z"
   },
   {
    "duration": 63,
    "start_time": "2022-11-01T18:39:52.574Z"
   },
   {
    "duration": 4327,
    "start_time": "2022-11-01T18:39:52.640Z"
   },
   {
    "duration": 291,
    "start_time": "2022-11-01T18:39:56.970Z"
   },
   {
    "duration": 0,
    "start_time": "2022-11-01T18:39:57.263Z"
   },
   {
    "duration": 0,
    "start_time": "2022-11-01T18:39:57.264Z"
   },
   {
    "duration": 0,
    "start_time": "2022-11-01T18:39:57.265Z"
   },
   {
    "duration": 0,
    "start_time": "2022-11-01T18:39:57.266Z"
   },
   {
    "duration": 0,
    "start_time": "2022-11-01T18:39:57.267Z"
   },
   {
    "duration": 0,
    "start_time": "2022-11-01T18:39:57.268Z"
   },
   {
    "duration": 0,
    "start_time": "2022-11-01T18:39:57.269Z"
   },
   {
    "duration": 0,
    "start_time": "2022-11-01T18:39:57.270Z"
   },
   {
    "duration": 0,
    "start_time": "2022-11-01T18:39:57.271Z"
   },
   {
    "duration": 0,
    "start_time": "2022-11-01T18:39:57.272Z"
   },
   {
    "duration": 0,
    "start_time": "2022-11-01T18:39:57.273Z"
   },
   {
    "duration": 0,
    "start_time": "2022-11-01T18:39:57.274Z"
   },
   {
    "duration": 0,
    "start_time": "2022-11-01T18:39:57.276Z"
   },
   {
    "duration": 0,
    "start_time": "2022-11-01T18:39:57.334Z"
   },
   {
    "duration": 0,
    "start_time": "2022-11-01T18:39:57.335Z"
   },
   {
    "duration": 0,
    "start_time": "2022-11-01T18:39:57.336Z"
   },
   {
    "duration": 2675,
    "start_time": "2022-11-02T06:08:25.763Z"
   },
   {
    "duration": 3,
    "start_time": "2022-11-02T06:08:28.440Z"
   },
   {
    "duration": 1143,
    "start_time": "2022-11-02T06:08:28.444Z"
   },
   {
    "duration": 18,
    "start_time": "2022-11-02T06:08:29.589Z"
   },
   {
    "duration": 35,
    "start_time": "2022-11-02T06:08:29.609Z"
   },
   {
    "duration": 10,
    "start_time": "2022-11-02T06:08:29.645Z"
   },
   {
    "duration": 18,
    "start_time": "2022-11-02T06:08:29.656Z"
   },
   {
    "duration": 9,
    "start_time": "2022-11-02T06:08:29.676Z"
   },
   {
    "duration": 16,
    "start_time": "2022-11-02T06:08:29.686Z"
   },
   {
    "duration": 37,
    "start_time": "2022-11-02T06:08:29.703Z"
   },
   {
    "duration": 15,
    "start_time": "2022-11-02T06:08:29.741Z"
   },
   {
    "duration": 15,
    "start_time": "2022-11-02T06:08:29.758Z"
   },
   {
    "duration": 16,
    "start_time": "2022-11-02T06:08:29.775Z"
   },
   {
    "duration": 143,
    "start_time": "2022-11-02T06:08:29.795Z"
   },
   {
    "duration": 4,
    "start_time": "2022-11-02T06:08:29.941Z"
   },
   {
    "duration": 4181,
    "start_time": "2022-11-02T06:08:29.946Z"
   },
   {
    "duration": 49,
    "start_time": "2022-11-02T06:08:34.129Z"
   },
   {
    "duration": 74,
    "start_time": "2022-11-02T06:08:34.180Z"
   },
   {
    "duration": 3500,
    "start_time": "2022-11-02T06:08:34.340Z"
   },
   {
    "duration": 228,
    "start_time": "2022-11-02T06:08:37.842Z"
   },
   {
    "duration": 70,
    "start_time": "2022-11-02T06:08:38.071Z"
   },
   {
    "duration": 3419,
    "start_time": "2022-11-02T06:08:38.143Z"
   },
   {
    "duration": 85,
    "start_time": "2022-11-02T06:08:41.564Z"
   },
   {
    "duration": 2,
    "start_time": "2022-11-02T06:08:41.651Z"
   },
   {
    "duration": 10,
    "start_time": "2022-11-02T06:08:41.655Z"
   },
   {
    "duration": 11,
    "start_time": "2022-11-02T06:08:41.667Z"
   },
   {
    "duration": 9,
    "start_time": "2022-11-02T06:08:41.680Z"
   },
   {
    "duration": 7,
    "start_time": "2022-11-02T06:08:41.739Z"
   },
   {
    "duration": 5,
    "start_time": "2022-11-02T06:08:41.747Z"
   },
   {
    "duration": 7,
    "start_time": "2022-11-02T06:08:41.754Z"
   },
   {
    "duration": 1063,
    "start_time": "2022-11-02T06:08:41.763Z"
   },
   {
    "duration": 953,
    "start_time": "2022-11-02T06:08:42.827Z"
   },
   {
    "duration": 958,
    "start_time": "2022-11-02T06:08:43.781Z"
   },
   {
    "duration": 10,
    "start_time": "2022-11-02T06:10:26.932Z"
   },
   {
    "duration": 4,
    "start_time": "2022-11-02T06:10:31.550Z"
   },
   {
    "duration": 13,
    "start_time": "2022-11-02T06:10:36.567Z"
   },
   {
    "duration": 174,
    "start_time": "2022-11-02T06:11:11.610Z"
   },
   {
    "duration": 10,
    "start_time": "2022-11-02T06:11:44.574Z"
   },
   {
    "duration": 24,
    "start_time": "2022-11-02T06:12:07.304Z"
   },
   {
    "duration": 20,
    "start_time": "2022-11-02T06:12:15.305Z"
   },
   {
    "duration": 4,
    "start_time": "2022-11-02T06:12:40.998Z"
   },
   {
    "duration": 12,
    "start_time": "2022-11-02T06:12:48.666Z"
   },
   {
    "duration": 10,
    "start_time": "2022-11-02T06:12:51.696Z"
   },
   {
    "duration": 7,
    "start_time": "2022-11-02T06:13:18.939Z"
   },
   {
    "duration": 12,
    "start_time": "2022-11-02T06:13:58.426Z"
   },
   {
    "duration": 7,
    "start_time": "2022-11-02T06:14:05.796Z"
   },
   {
    "duration": 9,
    "start_time": "2022-11-02T06:14:32.926Z"
   },
   {
    "duration": 4,
    "start_time": "2022-11-02T06:14:57.463Z"
   },
   {
    "duration": 6,
    "start_time": "2022-11-02T06:14:59.254Z"
   },
   {
    "duration": 1136,
    "start_time": "2022-11-02T06:15:00.906Z"
   },
   {
    "duration": 1202,
    "start_time": "2022-11-02T06:15:02.044Z"
   },
   {
    "duration": 1165,
    "start_time": "2022-11-02T06:15:03.248Z"
   },
   {
    "duration": 5,
    "start_time": "2022-11-02T06:15:19.442Z"
   },
   {
    "duration": 6,
    "start_time": "2022-11-02T06:15:23.336Z"
   },
   {
    "duration": 10,
    "start_time": "2022-11-02T06:15:24.125Z"
   },
   {
    "duration": 59,
    "start_time": "2022-11-02T06:15:46.624Z"
   },
   {
    "duration": 5,
    "start_time": "2022-11-02T06:15:47.797Z"
   },
   {
    "duration": 10,
    "start_time": "2022-11-02T06:15:48.403Z"
   },
   {
    "duration": 10,
    "start_time": "2022-11-02T06:15:52.660Z"
   },
   {
    "duration": 4,
    "start_time": "2022-11-02T06:17:47.856Z"
   },
   {
    "duration": 5,
    "start_time": "2022-11-02T06:17:49.387Z"
   },
   {
    "duration": 8,
    "start_time": "2022-11-02T06:17:50.387Z"
   },
   {
    "duration": 8,
    "start_time": "2022-11-02T06:17:51.096Z"
   },
   {
    "duration": 8,
    "start_time": "2022-11-02T06:17:52.196Z"
   },
   {
    "duration": 4,
    "start_time": "2022-11-02T06:17:57.446Z"
   },
   {
    "duration": 5,
    "start_time": "2022-11-02T06:17:58.688Z"
   },
   {
    "duration": 10,
    "start_time": "2022-11-02T06:17:59.245Z"
   },
   {
    "duration": 9,
    "start_time": "2022-11-02T06:18:00.744Z"
   },
   {
    "duration": 8,
    "start_time": "2022-11-02T06:18:02.866Z"
   },
   {
    "duration": 4,
    "start_time": "2022-11-02T06:18:06.924Z"
   },
   {
    "duration": 5,
    "start_time": "2022-11-02T06:18:08.098Z"
   },
   {
    "duration": 8,
    "start_time": "2022-11-02T06:18:08.746Z"
   },
   {
    "duration": 9,
    "start_time": "2022-11-02T06:18:10.266Z"
   },
   {
    "duration": 72,
    "start_time": "2022-11-02T06:18:33.912Z"
   },
   {
    "duration": 6,
    "start_time": "2022-11-02T06:18:37.243Z"
   },
   {
    "duration": 4,
    "start_time": "2022-11-02T06:18:41.064Z"
   },
   {
    "duration": 4,
    "start_time": "2022-11-02T06:18:51.076Z"
   },
   {
    "duration": 5,
    "start_time": "2022-11-02T06:18:52.326Z"
   },
   {
    "duration": 22,
    "start_time": "2022-11-02T06:18:53.056Z"
   },
   {
    "duration": 4,
    "start_time": "2022-11-02T06:19:23.874Z"
   },
   {
    "duration": 5,
    "start_time": "2022-11-02T06:19:25.027Z"
   },
   {
    "duration": 25,
    "start_time": "2022-11-02T06:19:25.805Z"
   },
   {
    "duration": 5,
    "start_time": "2022-11-02T06:19:33.785Z"
   },
   {
    "duration": 5,
    "start_time": "2022-11-02T06:19:34.874Z"
   },
   {
    "duration": 9,
    "start_time": "2022-11-02T06:19:35.566Z"
   },
   {
    "duration": 9,
    "start_time": "2022-11-02T06:19:36.916Z"
   },
   {
    "duration": 9,
    "start_time": "2022-11-02T06:19:40.156Z"
   },
   {
    "duration": 11,
    "start_time": "2022-11-02T06:19:41.445Z"
   },
   {
    "duration": 5,
    "start_time": "2022-11-02T06:20:46.817Z"
   },
   {
    "duration": 15,
    "start_time": "2022-11-02T06:20:47.685Z"
   },
   {
    "duration": 5,
    "start_time": "2022-11-02T06:20:51.377Z"
   },
   {
    "duration": 11,
    "start_time": "2022-11-02T06:20:51.926Z"
   },
   {
    "duration": 5,
    "start_time": "2022-11-02T06:21:27.746Z"
   },
   {
    "duration": 5,
    "start_time": "2022-11-02T06:21:31.274Z"
   },
   {
    "duration": 905,
    "start_time": "2022-11-02T06:21:31.785Z"
   },
   {
    "duration": 964,
    "start_time": "2022-11-02T06:21:33.762Z"
   },
   {
    "duration": 965,
    "start_time": "2022-11-02T06:21:34.729Z"
   },
   {
    "duration": 30,
    "start_time": "2022-11-02T06:22:31.148Z"
   },
   {
    "duration": 5,
    "start_time": "2022-11-02T06:22:45.996Z"
   },
   {
    "duration": 1087,
    "start_time": "2022-11-02T06:22:46.895Z"
   },
   {
    "duration": 4,
    "start_time": "2022-11-02T06:22:55.507Z"
   },
   {
    "duration": 7,
    "start_time": "2022-11-02T06:22:57.065Z"
   },
   {
    "duration": 910,
    "start_time": "2022-11-02T06:22:58.476Z"
   },
   {
    "duration": 16,
    "start_time": "2022-11-02T06:23:02.606Z"
   },
   {
    "duration": 941,
    "start_time": "2022-11-02T06:23:07.267Z"
   },
   {
    "duration": 836,
    "start_time": "2022-11-02T06:23:13.345Z"
   },
   {
    "duration": 6,
    "start_time": "2022-11-02T06:23:25.829Z"
   },
   {
    "duration": 961,
    "start_time": "2022-11-02T06:23:26.466Z"
   },
   {
    "duration": 6,
    "start_time": "2022-11-02T06:23:41.524Z"
   },
   {
    "duration": 10,
    "start_time": "2022-11-02T06:23:42.277Z"
   },
   {
    "duration": 3,
    "start_time": "2022-11-02T06:24:01.396Z"
   },
   {
    "duration": 5,
    "start_time": "2022-11-02T06:24:02.914Z"
   },
   {
    "duration": 10,
    "start_time": "2022-11-02T06:24:03.526Z"
   },
   {
    "duration": 4,
    "start_time": "2022-11-02T06:24:23.166Z"
   },
   {
    "duration": 5,
    "start_time": "2022-11-02T06:24:24.468Z"
   },
   {
    "duration": 11,
    "start_time": "2022-11-02T06:24:25.346Z"
   },
   {
    "duration": 10,
    "start_time": "2022-11-02T06:24:27.425Z"
   },
   {
    "duration": 5,
    "start_time": "2022-11-02T06:24:37.964Z"
   },
   {
    "duration": 957,
    "start_time": "2022-11-02T06:24:38.576Z"
   },
   {
    "duration": 1006,
    "start_time": "2022-11-02T06:24:41.797Z"
   },
   {
    "duration": 6,
    "start_time": "2022-11-02T06:27:38.264Z"
   },
   {
    "duration": 26,
    "start_time": "2022-11-02T06:27:39.006Z"
   },
   {
    "duration": 25,
    "start_time": "2022-11-02T06:27:39.326Z"
   },
   {
    "duration": 25,
    "start_time": "2022-11-02T06:27:39.755Z"
   },
   {
    "duration": 19,
    "start_time": "2022-11-02T06:27:43.955Z"
   },
   {
    "duration": 19,
    "start_time": "2022-11-02T06:27:47.866Z"
   },
   {
    "duration": 20,
    "start_time": "2022-11-02T06:27:52.085Z"
   },
   {
    "duration": 5,
    "start_time": "2022-11-02T06:27:53.821Z"
   },
   {
    "duration": 19,
    "start_time": "2022-11-02T06:27:54.456Z"
   },
   {
    "duration": 3,
    "start_time": "2022-11-02T06:27:59.060Z"
   },
   {
    "duration": 7,
    "start_time": "2022-11-02T06:28:00.324Z"
   },
   {
    "duration": 985,
    "start_time": "2022-11-02T06:28:00.935Z"
   },
   {
    "duration": 954,
    "start_time": "2022-11-02T06:28:01.922Z"
   },
   {
    "duration": 954,
    "start_time": "2022-11-02T06:28:02.878Z"
   }
  ],
  "kernelspec": {
   "display_name": "Python 3 (ipykernel)",
   "language": "python",
   "name": "python3"
  },
  "language_info": {
   "codemirror_mode": {
    "name": "ipython",
    "version": 3
   },
   "file_extension": ".py",
   "mimetype": "text/x-python",
   "name": "python",
   "nbconvert_exporter": "python",
   "pygments_lexer": "ipython3",
   "version": "3.9.12"
  },
  "toc": {
   "base_numbering": 1,
   "nav_menu": {},
   "number_sections": true,
   "sideBar": true,
   "skip_h1_title": true,
   "title_cell": "Table of Contents",
   "title_sidebar": "Contents",
   "toc_cell": false,
   "toc_position": {},
   "toc_section_display": true,
   "toc_window_display": true
  }
 },
 "nbformat": 4,
 "nbformat_minor": 4
}
